{
 "cells": [
  {
   "cell_type": "markdown",
   "id": "e7747bcc",
   "metadata": {},
   "source": [
    "# DD and PD Calculation Using Market-approach (Merton Model)\n",
    "\n",
    "This notebook walks through the `dd_pd_market.py` script step by step.  \n",
    "We will:\n",
    "\n",
    "1.  Set up our environment and imports  \n",
    "2.  Load and inspect inputs  \n",
    "3.  Prepare and merge data  \n",
    "4.  Compute market capitalizations  \n",
    "5.  Merge equity volatility  \n",
    "6.  Define and run the Merton model solver  \n",
    "7.  Calculate Distance to Default (DD) and Probability of Default (PD)  \n",
    "8.  Export results and write diagnostics to a log  "
   ]
  },
  {
   "cell_type": "code",
   "execution_count": null,
   "id": "a062f08e",
   "metadata": {},
   "outputs": [],
   "source": [
    "\n",
    "# Parameter defaults for the market-based Merton KMV implementation\n",
    "print(\"Market approach, Merton KMV solve. Uses \u03bc = r_f. Barrier convention: A (total debt)\")\n",
    "T = 1.0\n",
    "tol_E = 1e-6\n",
    "tol_sigma = 1e-4\n",
    "max_iter = 200\n",
    "barrier_option = \"A\"  # Option B (short-term + 0.5 long-term debt) is best practice but requires debt split columns we do not yet have\n"
   ]
  },
  {
   "cell_type": "markdown",
   "id": "3aecf6ed",
   "metadata": {},
   "source": [
    "## 1. Setup and Imports\n",
    "\n",
    "Here we import all libraries and define file\u2010paths."
   ]
  },
  {
   "cell_type": "code",
   "execution_count": 1,
   "id": "be68c12a",
   "metadata": {
    "execution": {
     "iopub.execute_input": "2025-10-02T09:25:05.978634Z",
     "iopub.status.busy": "2025-10-02T09:25:05.978402Z",
     "iopub.status.idle": "2025-10-02T09:25:30.331142Z",
     "shell.execute_reply": "2025-10-02T09:25:30.328612Z"
    }
   },
   "outputs": [
    {
     "name": "stdout",
     "output_type": "stream",
     "text": [
      "Collecting pandas\r\n"
     ]
    },
    {
     "name": "stdout",
     "output_type": "stream",
     "text": [
      "  Downloading pandas-2.3.3-cp312-cp312-manylinux_2_24_x86_64.manylinux_2_28_x86_64.whl.metadata (91 kB)\r\n"
     ]
    },
    {
     "name": "stdout",
     "output_type": "stream",
     "text": [
      "Collecting numpy\r\n",
      "  Downloading numpy-2.3.3-cp312-cp312-manylinux_2_27_x86_64.manylinux_2_28_x86_64.whl.metadata (62 kB)\r\n"
     ]
    },
    {
     "name": "stdout",
     "output_type": "stream",
     "text": [
      "Collecting matplotlib\r\n"
     ]
    },
    {
     "name": "stdout",
     "output_type": "stream",
     "text": [
      "  Downloading matplotlib-3.10.6-cp312-cp312-manylinux2014_x86_64.manylinux_2_17_x86_64.whl.metadata (11 kB)\r\n",
      "Collecting seaborn\r\n"
     ]
    },
    {
     "name": "stdout",
     "output_type": "stream",
     "text": [
      "  Downloading seaborn-0.13.2-py3-none-any.whl.metadata (5.4 kB)\r\n"
     ]
    },
    {
     "name": "stdout",
     "output_type": "stream",
     "text": [
      "Collecting scipy\r\n"
     ]
    },
    {
     "name": "stdout",
     "output_type": "stream",
     "text": [
      "  Downloading scipy-1.16.2-cp312-cp312-manylinux2014_x86_64.manylinux_2_17_x86_64.whl.metadata (62 kB)\r\n",
      "Requirement already satisfied: python-dateutil>=2.8.2 in /root/.pyenv/versions/3.12.10/lib/python3.12/site-packages (from pandas) (2.9.0.post0)\r\n"
     ]
    },
    {
     "name": "stdout",
     "output_type": "stream",
     "text": [
      "Collecting pytz>=2020.1 (from pandas)\r\n"
     ]
    },
    {
     "name": "stdout",
     "output_type": "stream",
     "text": [
      "  Downloading pytz-2025.2-py2.py3-none-any.whl.metadata (22 kB)\r\n",
      "Collecting tzdata>=2022.7 (from pandas)\r\n"
     ]
    },
    {
     "name": "stdout",
     "output_type": "stream",
     "text": [
      "  Downloading tzdata-2025.2-py2.py3-none-any.whl.metadata (1.4 kB)\r\n"
     ]
    },
    {
     "name": "stdout",
     "output_type": "stream",
     "text": [
      "Collecting contourpy>=1.0.1 (from matplotlib)\r\n",
      "  Downloading contourpy-1.3.3-cp312-cp312-manylinux_2_27_x86_64.manylinux_2_28_x86_64.whl.metadata (5.5 kB)\r\n"
     ]
    },
    {
     "name": "stdout",
     "output_type": "stream",
     "text": [
      "Collecting cycler>=0.10 (from matplotlib)\r\n",
      "  Downloading cycler-0.12.1-py3-none-any.whl.metadata (3.8 kB)\r\n"
     ]
    },
    {
     "name": "stdout",
     "output_type": "stream",
     "text": [
      "Collecting fonttools>=4.22.0 (from matplotlib)\r\n",
      "  Downloading fonttools-4.60.1-cp312-cp312-manylinux1_x86_64.manylinux2014_x86_64.manylinux_2_17_x86_64.manylinux_2_5_x86_64.whl.metadata (112 kB)\r\n"
     ]
    },
    {
     "name": "stdout",
     "output_type": "stream",
     "text": [
      "Collecting kiwisolver>=1.3.1 (from matplotlib)\r\n"
     ]
    },
    {
     "name": "stdout",
     "output_type": "stream",
     "text": [
      "  Downloading kiwisolver-1.4.9-cp312-cp312-manylinux2014_x86_64.manylinux_2_17_x86_64.whl.metadata (6.3 kB)\r\n",
      "Requirement already satisfied: packaging>=20.0 in /root/.pyenv/versions/3.12.10/lib/python3.12/site-packages (from matplotlib) (25.0)\r\n"
     ]
    },
    {
     "name": "stdout",
     "output_type": "stream",
     "text": [
      "Collecting pillow>=8 (from matplotlib)\r\n",
      "  Downloading pillow-11.3.0-cp312-cp312-manylinux_2_27_x86_64.manylinux_2_28_x86_64.whl.metadata (9.0 kB)\r\n"
     ]
    },
    {
     "name": "stdout",
     "output_type": "stream",
     "text": [
      "Collecting pyparsing>=2.3.1 (from matplotlib)\r\n"
     ]
    },
    {
     "name": "stdout",
     "output_type": "stream",
     "text": [
      "  Downloading pyparsing-3.2.5-py3-none-any.whl.metadata (5.0 kB)\r\n"
     ]
    },
    {
     "name": "stdout",
     "output_type": "stream",
     "text": [
      "Requirement already satisfied: six>=1.5 in /root/.pyenv/versions/3.12.10/lib/python3.12/site-packages (from python-dateutil>=2.8.2->pandas) (1.17.0)\r\n",
      "Downloading pandas-2.3.3-cp312-cp312-manylinux_2_24_x86_64.manylinux_2_28_x86_64.whl (12.4 MB)\r\n",
      "\u001b[?25l   \u001b[90m\u2501\u2501\u2501\u2501\u2501\u2501\u2501\u2501\u2501\u2501\u2501\u2501\u2501\u2501\u2501\u2501\u2501\u2501\u2501\u2501\u2501\u2501\u2501\u2501\u2501\u2501\u2501\u2501\u2501\u2501\u2501\u2501\u2501\u2501\u2501\u2501\u2501\u2501\u2501\u2501\u001b[0m \u001b[32m0.0/12.4 MB\u001b[0m \u001b[31m?\u001b[0m eta \u001b[36m-:--:--\u001b[0m"
     ]
    },
    {
     "name": "stdout",
     "output_type": "stream",
     "text": [
      "\r",
      "\u001b[2K   \u001b[91m\u2501\u2501\u2501\u2501\u2501\u2501\u2501\u2501\u2501\u2501\u2501\u2501\u2501\u2501\u2501\u2501\u2501\u2501\u2501\u2501\u2501\u2501\u2501\u2501\u2501\u2501\u2501\u2501\u2501\u2501\u2501\u2501\u2501\u001b[0m\u001b[90m\u257a\u001b[0m\u001b[90m\u2501\u2501\u2501\u2501\u2501\u2501\u001b[0m \u001b[32m10.2/12.4 MB\u001b[0m \u001b[31m52.5 MB/s\u001b[0m eta \u001b[36m0:00:01\u001b[0m"
     ]
    },
    {
     "name": "stdout",
     "output_type": "stream",
     "text": [
      "\r",
      "\u001b[2K   \u001b[90m\u2501\u2501\u2501\u2501\u2501\u2501\u2501\u2501\u2501\u2501\u2501\u2501\u2501\u2501\u2501\u2501\u2501\u2501\u2501\u2501\u2501\u2501\u2501\u2501\u2501\u2501\u2501\u2501\u2501\u2501\u2501\u2501\u2501\u2501\u2501\u2501\u2501\u2501\u2501\u2501\u001b[0m \u001b[32m12.4/12.4 MB\u001b[0m \u001b[31m39.2 MB/s\u001b[0m  \u001b[33m0:00:00\u001b[0m\r\n",
      "\u001b[?25hDownloading numpy-2.3.3-cp312-cp312-manylinux_2_27_x86_64.manylinux_2_28_x86_64.whl (16.6 MB)\r\n",
      "\u001b[?25l   \u001b[90m\u2501\u2501\u2501\u2501\u2501\u2501\u2501\u2501\u2501\u2501\u2501\u2501\u2501\u2501\u2501\u2501\u2501\u2501\u2501\u2501\u2501\u2501\u2501\u2501\u2501\u2501\u2501\u2501\u2501\u2501\u2501\u2501\u2501\u2501\u2501\u2501\u2501\u2501\u2501\u2501\u001b[0m \u001b[32m0.0/16.6 MB\u001b[0m \u001b[31m?\u001b[0m eta \u001b[36m-:--:--\u001b[0m"
     ]
    },
    {
     "name": "stdout",
     "output_type": "stream",
     "text": [
      "\r",
      "\u001b[2K   \u001b[91m\u2501\u2501\u2501\u2501\u2501\u2501\u2501\u2501\u2501\u2501\u2501\u2501\u2501\u2501\u2501\u2501\u2501\u2501\u2501\u2501\u2501\u001b[0m\u001b[90m\u257a\u001b[0m\u001b[90m\u2501\u2501\u2501\u2501\u2501\u2501\u2501\u2501\u2501\u2501\u2501\u2501\u2501\u2501\u2501\u2501\u2501\u2501\u001b[0m \u001b[32m8.9/16.6 MB\u001b[0m \u001b[31m43.9 MB/s\u001b[0m eta \u001b[36m0:00:01\u001b[0m"
     ]
    },
    {
     "name": "stdout",
     "output_type": "stream",
     "text": [
      "\r",
      "\u001b[2K   \u001b[91m\u2501\u2501\u2501\u2501\u2501\u2501\u2501\u2501\u2501\u2501\u2501\u2501\u2501\u2501\u2501\u2501\u2501\u2501\u2501\u2501\u2501\u2501\u2501\u2501\u2501\u2501\u2501\u2501\u2501\u2501\u2501\u2501\u2501\u2501\u2501\u2501\u2501\u2501\u2501\u001b[0m\u001b[91m\u2578\u001b[0m \u001b[32m16.5/16.6 MB\u001b[0m \u001b[31m42.0 MB/s\u001b[0m eta \u001b[36m0:00:01\u001b[0m"
     ]
    },
    {
     "name": "stdout",
     "output_type": "stream",
     "text": [
      "\r",
      "\u001b[2K   \u001b[90m\u2501\u2501\u2501\u2501\u2501\u2501\u2501\u2501\u2501\u2501\u2501\u2501\u2501\u2501\u2501\u2501\u2501\u2501\u2501\u2501\u2501\u2501\u2501\u2501\u2501\u2501\u2501\u2501\u2501\u2501\u2501\u2501\u2501\u2501\u2501\u2501\u2501\u2501\u2501\u2501\u001b[0m \u001b[32m16.6/16.6 MB\u001b[0m \u001b[31m30.9 MB/s\u001b[0m  \u001b[33m0:00:00\u001b[0m\r\n",
      "\u001b[?25h"
     ]
    },
    {
     "name": "stdout",
     "output_type": "stream",
     "text": [
      "Downloading matplotlib-3.10.6-cp312-cp312-manylinux2014_x86_64.manylinux_2_17_x86_64.whl (8.7 MB)\r\n",
      "\u001b[?25l   \u001b[90m\u2501\u2501\u2501\u2501\u2501\u2501\u2501\u2501\u2501\u2501\u2501\u2501\u2501\u2501\u2501\u2501\u2501\u2501\u2501\u2501\u2501\u2501\u2501\u2501\u2501\u2501\u2501\u2501\u2501\u2501\u2501\u2501\u2501\u2501\u2501\u2501\u2501\u2501\u2501\u2501\u001b[0m \u001b[32m0.0/8.7 MB\u001b[0m \u001b[31m?\u001b[0m eta \u001b[36m-:--:--\u001b[0m"
     ]
    },
    {
     "name": "stdout",
     "output_type": "stream",
     "text": [
      "\r",
      "\u001b[2K   \u001b[91m\u2501\u2501\u2501\u2501\u2501\u2501\u2501\u2501\u2501\u2501\u2501\u2501\u2501\u2501\u2501\u2501\u2501\u2501\u2501\u2501\u2501\u2501\u2501\u2501\u2501\u2501\u2501\u2501\u2501\u2501\u2501\u2501\u2501\u2501\u2501\u2501\u2501\u2501\u2501\u001b[0m\u001b[91m\u2578\u001b[0m \u001b[32m8.7/8.7 MB\u001b[0m \u001b[31m52.3 MB/s\u001b[0m eta \u001b[36m0:00:01\u001b[0m\r",
      "\u001b[2K   \u001b[90m\u2501\u2501\u2501\u2501\u2501\u2501\u2501\u2501\u2501\u2501\u2501\u2501\u2501\u2501\u2501\u2501\u2501\u2501\u2501\u2501\u2501\u2501\u2501\u2501\u2501\u2501\u2501\u2501\u2501\u2501\u2501\u2501\u2501\u2501\u2501\u2501\u2501\u2501\u2501\u2501\u001b[0m \u001b[32m8.7/8.7 MB\u001b[0m \u001b[31m37.3 MB/s\u001b[0m  \u001b[33m0:00:00\u001b[0m\r\n",
      "\u001b[?25h"
     ]
    },
    {
     "name": "stdout",
     "output_type": "stream",
     "text": [
      "Downloading seaborn-0.13.2-py3-none-any.whl (294 kB)\r\n",
      "Downloading scipy-1.16.2-cp312-cp312-manylinux2014_x86_64.manylinux_2_17_x86_64.whl (35.7 MB)\r\n",
      "\u001b[?25l   \u001b[90m\u2501\u2501\u2501\u2501\u2501\u2501\u2501\u2501\u2501\u2501\u2501\u2501\u2501\u2501\u2501\u2501\u2501\u2501\u2501\u2501\u2501\u2501\u2501\u2501\u2501\u2501\u2501\u2501\u2501\u2501\u2501\u2501\u2501\u2501\u2501\u2501\u2501\u2501\u2501\u2501\u001b[0m \u001b[32m0.0/35.7 MB\u001b[0m \u001b[31m?\u001b[0m eta \u001b[36m-:--:--\u001b[0m"
     ]
    },
    {
     "name": "stdout",
     "output_type": "stream",
     "text": [
      "\r",
      "\u001b[2K   \u001b[91m\u2501\u2501\u2501\u2501\u2501\u2501\u2501\u2501\u2501\u2501\u2501\u2501\u001b[0m\u001b[91m\u2578\u001b[0m\u001b[90m\u2501\u2501\u2501\u2501\u2501\u2501\u2501\u2501\u2501\u2501\u2501\u2501\u2501\u2501\u2501\u2501\u2501\u2501\u2501\u2501\u2501\u2501\u2501\u2501\u2501\u2501\u2501\u001b[0m \u001b[32m11.5/35.7 MB\u001b[0m \u001b[31m57.5 MB/s\u001b[0m eta \u001b[36m0:00:01\u001b[0m"
     ]
    },
    {
     "name": "stdout",
     "output_type": "stream",
     "text": [
      "\r",
      "\u001b[2K   \u001b[91m\u2501\u2501\u2501\u2501\u2501\u2501\u2501\u2501\u2501\u2501\u2501\u2501\u2501\u2501\u2501\u2501\u2501\u2501\u2501\u2501\u2501\u2501\u2501\u2501\u2501\u2501\u2501\u2501\u2501\u001b[0m\u001b[91m\u2578\u001b[0m\u001b[90m\u2501\u2501\u2501\u2501\u2501\u2501\u2501\u2501\u2501\u2501\u001b[0m \u001b[32m26.5/35.7 MB\u001b[0m \u001b[31m65.4 MB/s\u001b[0m eta \u001b[36m0:00:01\u001b[0m"
     ]
    },
    {
     "name": "stdout",
     "output_type": "stream",
     "text": [
      "\r",
      "\u001b[2K   \u001b[91m\u2501\u2501\u2501\u2501\u2501\u2501\u2501\u2501\u2501\u2501\u2501\u2501\u2501\u2501\u2501\u2501\u2501\u2501\u2501\u2501\u2501\u2501\u2501\u2501\u2501\u2501\u2501\u2501\u2501\u2501\u2501\u2501\u2501\u2501\u2501\u2501\u2501\u2501\u2501\u001b[0m\u001b[91m\u2578\u001b[0m \u001b[32m35.7/35.7 MB\u001b[0m \u001b[31m66.1 MB/s\u001b[0m eta \u001b[36m0:00:01\u001b[0m"
     ]
    },
    {
     "name": "stdout",
     "output_type": "stream",
     "text": [
      "\r",
      "\u001b[2K   \u001b[90m\u2501\u2501\u2501\u2501\u2501\u2501\u2501\u2501\u2501\u2501\u2501\u2501\u2501\u2501\u2501\u2501\u2501\u2501\u2501\u2501\u2501\u2501\u2501\u2501\u2501\u2501\u2501\u2501\u2501\u2501\u2501\u2501\u2501\u2501\u2501\u2501\u2501\u2501\u2501\u2501\u001b[0m \u001b[32m35.7/35.7 MB\u001b[0m \u001b[31m45.5 MB/s\u001b[0m  \u001b[33m0:00:00\u001b[0m\r\n",
      "\u001b[?25h"
     ]
    },
    {
     "name": "stdout",
     "output_type": "stream",
     "text": [
      "Downloading contourpy-1.3.3-cp312-cp312-manylinux_2_27_x86_64.manylinux_2_28_x86_64.whl (362 kB)\r\n",
      "Downloading cycler-0.12.1-py3-none-any.whl (8.3 kB)\r\n"
     ]
    },
    {
     "name": "stdout",
     "output_type": "stream",
     "text": [
      "Downloading fonttools-4.60.1-cp312-cp312-manylinux1_x86_64.manylinux2014_x86_64.manylinux_2_17_x86_64.manylinux_2_5_x86_64.whl (4.9 MB)\r\n",
      "\u001b[?25l   \u001b[90m\u2501\u2501\u2501\u2501\u2501\u2501\u2501\u2501\u2501\u2501\u2501\u2501\u2501\u2501\u2501\u2501\u2501\u2501\u2501\u2501\u2501\u2501\u2501\u2501\u2501\u2501\u2501\u2501\u2501\u2501\u2501\u2501\u2501\u2501\u2501\u2501\u2501\u2501\u2501\u2501\u001b[0m \u001b[32m0.0/4.9 MB\u001b[0m \u001b[31m?\u001b[0m eta \u001b[36m-:--:--\u001b[0m"
     ]
    },
    {
     "name": "stdout",
     "output_type": "stream",
     "text": [
      "\r",
      "\u001b[2K   \u001b[90m\u2501\u2501\u2501\u2501\u2501\u2501\u2501\u2501\u2501\u2501\u2501\u2501\u2501\u2501\u2501\u2501\u2501\u2501\u2501\u2501\u2501\u2501\u2501\u2501\u2501\u2501\u2501\u2501\u2501\u2501\u2501\u2501\u2501\u2501\u2501\u2501\u2501\u2501\u2501\u2501\u001b[0m \u001b[32m4.9/4.9 MB\u001b[0m \u001b[31m35.8 MB/s\u001b[0m  \u001b[33m0:00:00\u001b[0m\r\n",
      "\u001b[?25hDownloading kiwisolver-1.4.9-cp312-cp312-manylinux2014_x86_64.manylinux_2_17_x86_64.whl (1.5 MB)\r\n",
      "\u001b[?25l   \u001b[90m\u2501\u2501\u2501\u2501\u2501\u2501\u2501\u2501\u2501\u2501\u2501\u2501\u2501\u2501\u2501\u2501\u2501\u2501\u2501\u2501\u2501\u2501\u2501\u2501\u2501\u2501\u2501\u2501\u2501\u2501\u2501\u2501\u2501\u2501\u2501\u2501\u2501\u2501\u2501\u2501\u001b[0m \u001b[32m0.0/1.5 MB\u001b[0m \u001b[31m?\u001b[0m eta \u001b[36m-:--:--\u001b[0m"
     ]
    },
    {
     "name": "stdout",
     "output_type": "stream",
     "text": [
      "\r",
      "\u001b[2K   \u001b[90m\u2501\u2501\u2501\u2501\u2501\u2501\u2501\u2501\u2501\u2501\u2501\u2501\u2501\u2501\u2501\u2501\u2501\u2501\u2501\u2501\u2501\u2501\u2501\u2501\u2501\u2501\u2501\u2501\u2501\u2501\u2501\u2501\u2501\u2501\u2501\u2501\u2501\u2501\u2501\u2501\u001b[0m \u001b[32m1.5/1.5 MB\u001b[0m \u001b[31m34.0 MB/s\u001b[0m  \u001b[33m0:00:00\u001b[0m\r\n",
      "\u001b[?25hDownloading pillow-11.3.0-cp312-cp312-manylinux_2_27_x86_64.manylinux_2_28_x86_64.whl (6.6 MB)\r\n",
      "\u001b[?25l   \u001b[90m\u2501\u2501\u2501\u2501\u2501\u2501\u2501\u2501\u2501\u2501\u2501\u2501\u2501\u2501\u2501\u2501\u2501\u2501\u2501\u2501\u2501\u2501\u2501\u2501\u2501\u2501\u2501\u2501\u2501\u2501\u2501\u2501\u2501\u2501\u2501\u2501\u2501\u2501\u2501\u2501\u001b[0m \u001b[32m0.0/6.6 MB\u001b[0m \u001b[31m?\u001b[0m eta \u001b[36m-:--:--\u001b[0m"
     ]
    },
    {
     "name": "stdout",
     "output_type": "stream",
     "text": [
      "\r",
      "\u001b[2K   \u001b[90m\u2501\u2501\u2501\u2501\u2501\u2501\u2501\u2501\u2501\u2501\u2501\u2501\u2501\u2501\u2501\u2501\u2501\u2501\u2501\u2501\u2501\u2501\u2501\u2501\u2501\u2501\u2501\u2501\u2501\u2501\u2501\u2501\u2501\u2501\u2501\u2501\u2501\u2501\u2501\u2501\u001b[0m \u001b[32m6.6/6.6 MB\u001b[0m \u001b[31m35.1 MB/s\u001b[0m  \u001b[33m0:00:00\u001b[0m\r\n",
      "\u001b[?25hDownloading pyparsing-3.2.5-py3-none-any.whl (113 kB)\r\n"
     ]
    },
    {
     "name": "stdout",
     "output_type": "stream",
     "text": [
      "Downloading pytz-2025.2-py2.py3-none-any.whl (509 kB)\r\n",
      "Downloading tzdata-2025.2-py2.py3-none-any.whl (347 kB)\r\n"
     ]
    },
    {
     "name": "stdout",
     "output_type": "stream",
     "text": [
      "Installing collected packages: pytz, tzdata, pyparsing, pillow, numpy, kiwisolver, fonttools, cycler, scipy, pandas, contourpy, matplotlib, seaborn\r\n",
      "\u001b[?25l"
     ]
    },
    {
     "name": "stdout",
     "output_type": "stream",
     "text": [
      "\r",
      "\u001b[2K   \u001b[91m\u2501\u2501\u2501\u001b[0m\u001b[90m\u257a\u001b[0m\u001b[90m\u2501\u2501\u2501\u2501\u2501\u2501\u2501\u2501\u2501\u2501\u2501\u2501\u2501\u2501\u2501\u2501\u2501\u2501\u2501\u2501\u2501\u2501\u2501\u2501\u2501\u2501\u2501\u2501\u2501\u2501\u2501\u2501\u2501\u2501\u2501\u2501\u001b[0m \u001b[32m 1/13\u001b[0m [tzdata]"
     ]
    },
    {
     "name": "stdout",
     "output_type": "stream",
     "text": [
      "\r",
      "\u001b[2K   \u001b[91m\u2501\u2501\u2501\u2501\u2501\u2501\u2501\u2501\u2501\u001b[0m\u001b[90m\u257a\u001b[0m\u001b[90m\u2501\u2501\u2501\u2501\u2501\u2501\u2501\u2501\u2501\u2501\u2501\u2501\u2501\u2501\u2501\u2501\u2501\u2501\u2501\u2501\u2501\u2501\u2501\u2501\u2501\u2501\u2501\u2501\u2501\u2501\u001b[0m \u001b[32m 3/13\u001b[0m [pillow]"
     ]
    },
    {
     "name": "stdout",
     "output_type": "stream",
     "text": [
      "\r",
      "\u001b[2K   \u001b[91m\u2501\u2501\u2501\u2501\u2501\u2501\u2501\u2501\u2501\u001b[0m\u001b[90m\u257a\u001b[0m\u001b[90m\u2501\u2501\u2501\u2501\u2501\u2501\u2501\u2501\u2501\u2501\u2501\u2501\u2501\u2501\u2501\u2501\u2501\u2501\u2501\u2501\u2501\u2501\u2501\u2501\u2501\u2501\u2501\u2501\u2501\u2501\u001b[0m \u001b[32m 3/13\u001b[0m [pillow]"
     ]
    },
    {
     "name": "stdout",
     "output_type": "stream",
     "text": [
      "\r",
      "\u001b[2K   \u001b[91m\u2501\u2501\u2501\u2501\u2501\u2501\u2501\u2501\u2501\u2501\u2501\u2501\u001b[0m\u001b[90m\u257a\u001b[0m\u001b[90m\u2501\u2501\u2501\u2501\u2501\u2501\u2501\u2501\u2501\u2501\u2501\u2501\u2501\u2501\u2501\u2501\u2501\u2501\u2501\u2501\u2501\u2501\u2501\u2501\u2501\u2501\u2501\u001b[0m \u001b[32m 4/13\u001b[0m [numpy]"
     ]
    },
    {
     "name": "stdout",
     "output_type": "stream",
     "text": [
      "\r",
      "\u001b[2K   \u001b[91m\u2501\u2501\u2501\u2501\u2501\u2501\u2501\u2501\u2501\u2501\u2501\u2501\u001b[0m\u001b[90m\u257a\u001b[0m\u001b[90m\u2501\u2501\u2501\u2501\u2501\u2501\u2501\u2501\u2501\u2501\u2501\u2501\u2501\u2501\u2501\u2501\u2501\u2501\u2501\u2501\u2501\u2501\u2501\u2501\u2501\u2501\u2501\u001b[0m \u001b[32m 4/13\u001b[0m [numpy]"
     ]
    },
    {
     "name": "stdout",
     "output_type": "stream",
     "text": [
      "\r",
      "\u001b[2K   \u001b[91m\u2501\u2501\u2501\u2501\u2501\u2501\u2501\u2501\u2501\u2501\u2501\u2501\u001b[0m\u001b[90m\u257a\u001b[0m\u001b[90m\u2501\u2501\u2501\u2501\u2501\u2501\u2501\u2501\u2501\u2501\u2501\u2501\u2501\u2501\u2501\u2501\u2501\u2501\u2501\u2501\u2501\u2501\u2501\u2501\u2501\u2501\u2501\u001b[0m \u001b[32m 4/13\u001b[0m [numpy]"
     ]
    },
    {
     "name": "stdout",
     "output_type": "stream",
     "text": [
      "\r",
      "\u001b[2K   \u001b[91m\u2501\u2501\u2501\u2501\u2501\u2501\u2501\u2501\u2501\u2501\u2501\u2501\u001b[0m\u001b[90m\u257a\u001b[0m\u001b[90m\u2501\u2501\u2501\u2501\u2501\u2501\u2501\u2501\u2501\u2501\u2501\u2501\u2501\u2501\u2501\u2501\u2501\u2501\u2501\u2501\u2501\u2501\u2501\u2501\u2501\u2501\u2501\u001b[0m \u001b[32m 4/13\u001b[0m [numpy]"
     ]
    },
    {
     "name": "stdout",
     "output_type": "stream",
     "text": [
      "\r",
      "\u001b[2K   \u001b[91m\u2501\u2501\u2501\u2501\u2501\u2501\u2501\u2501\u2501\u2501\u2501\u2501\u001b[0m\u001b[90m\u257a\u001b[0m\u001b[90m\u2501\u2501\u2501\u2501\u2501\u2501\u2501\u2501\u2501\u2501\u2501\u2501\u2501\u2501\u2501\u2501\u2501\u2501\u2501\u2501\u2501\u2501\u2501\u2501\u2501\u2501\u2501\u001b[0m \u001b[32m 4/13\u001b[0m [numpy]"
     ]
    },
    {
     "name": "stdout",
     "output_type": "stream",
     "text": [
      "\r",
      "\u001b[2K   \u001b[91m\u2501\u2501\u2501\u2501\u2501\u2501\u2501\u2501\u2501\u2501\u2501\u2501\u001b[0m\u001b[90m\u257a\u001b[0m\u001b[90m\u2501\u2501\u2501\u2501\u2501\u2501\u2501\u2501\u2501\u2501\u2501\u2501\u2501\u2501\u2501\u2501\u2501\u2501\u2501\u2501\u2501\u2501\u2501\u2501\u2501\u2501\u2501\u001b[0m \u001b[32m 4/13\u001b[0m [numpy]"
     ]
    },
    {
     "name": "stdout",
     "output_type": "stream",
     "text": [
      "\r",
      "\u001b[2K   \u001b[91m\u2501\u2501\u2501\u2501\u2501\u2501\u2501\u2501\u2501\u2501\u2501\u2501\u001b[0m\u001b[90m\u257a\u001b[0m\u001b[90m\u2501\u2501\u2501\u2501\u2501\u2501\u2501\u2501\u2501\u2501\u2501\u2501\u2501\u2501\u2501\u2501\u2501\u2501\u2501\u2501\u2501\u2501\u2501\u2501\u2501\u2501\u2501\u001b[0m \u001b[32m 4/13\u001b[0m [numpy]"
     ]
    },
    {
     "name": "stdout",
     "output_type": "stream",
     "text": [
      "\r",
      "\u001b[2K   \u001b[91m\u2501\u2501\u2501\u2501\u2501\u2501\u2501\u2501\u2501\u2501\u2501\u2501\u001b[0m\u001b[90m\u257a\u001b[0m\u001b[90m\u2501\u2501\u2501\u2501\u2501\u2501\u2501\u2501\u2501\u2501\u2501\u2501\u2501\u2501\u2501\u2501\u2501\u2501\u2501\u2501\u2501\u2501\u2501\u2501\u2501\u2501\u2501\u001b[0m \u001b[32m 4/13\u001b[0m [numpy]"
     ]
    },
    {
     "name": "stdout",
     "output_type": "stream",
     "text": [
      "\r",
      "\u001b[2K   \u001b[91m\u2501\u2501\u2501\u2501\u2501\u2501\u2501\u2501\u2501\u2501\u2501\u2501\u001b[0m\u001b[90m\u257a\u001b[0m\u001b[90m\u2501\u2501\u2501\u2501\u2501\u2501\u2501\u2501\u2501\u2501\u2501\u2501\u2501\u2501\u2501\u2501\u2501\u2501\u2501\u2501\u2501\u2501\u2501\u2501\u2501\u2501\u2501\u001b[0m \u001b[32m 4/13\u001b[0m [numpy]"
     ]
    },
    {
     "name": "stdout",
     "output_type": "stream",
     "text": [
      "\r",
      "\u001b[2K   \u001b[91m\u2501\u2501\u2501\u2501\u2501\u2501\u2501\u2501\u2501\u2501\u2501\u2501\u001b[0m\u001b[90m\u257a\u001b[0m\u001b[90m\u2501\u2501\u2501\u2501\u2501\u2501\u2501\u2501\u2501\u2501\u2501\u2501\u2501\u2501\u2501\u2501\u2501\u2501\u2501\u2501\u2501\u2501\u2501\u2501\u2501\u2501\u2501\u001b[0m \u001b[32m 4/13\u001b[0m [numpy]"
     ]
    },
    {
     "name": "stdout",
     "output_type": "stream",
     "text": [
      "\r",
      "\u001b[2K   \u001b[91m\u2501\u2501\u2501\u2501\u2501\u2501\u2501\u2501\u2501\u2501\u2501\u2501\u001b[0m\u001b[90m\u257a\u001b[0m\u001b[90m\u2501\u2501\u2501\u2501\u2501\u2501\u2501\u2501\u2501\u2501\u2501\u2501\u2501\u2501\u2501\u2501\u2501\u2501\u2501\u2501\u2501\u2501\u2501\u2501\u2501\u2501\u2501\u001b[0m \u001b[32m 4/13\u001b[0m [numpy]"
     ]
    },
    {
     "name": "stdout",
     "output_type": "stream",
     "text": [
      "\r",
      "\u001b[2K   \u001b[91m\u2501\u2501\u2501\u2501\u2501\u2501\u2501\u2501\u2501\u2501\u2501\u2501\u001b[0m\u001b[90m\u257a\u001b[0m\u001b[90m\u2501\u2501\u2501\u2501\u2501\u2501\u2501\u2501\u2501\u2501\u2501\u2501\u2501\u2501\u2501\u2501\u2501\u2501\u2501\u2501\u2501\u2501\u2501\u2501\u2501\u2501\u2501\u001b[0m \u001b[32m 4/13\u001b[0m [numpy]"
     ]
    },
    {
     "name": "stdout",
     "output_type": "stream",
     "text": [
      "\r",
      "\u001b[2K   \u001b[91m\u2501\u2501\u2501\u2501\u2501\u2501\u2501\u2501\u2501\u2501\u2501\u2501\u001b[0m\u001b[90m\u257a\u001b[0m\u001b[90m\u2501\u2501\u2501\u2501\u2501\u2501\u2501\u2501\u2501\u2501\u2501\u2501\u2501\u2501\u2501\u2501\u2501\u2501\u2501\u2501\u2501\u2501\u2501\u2501\u2501\u2501\u2501\u001b[0m \u001b[32m 4/13\u001b[0m [numpy]"
     ]
    },
    {
     "name": "stdout",
     "output_type": "stream",
     "text": [
      "\r",
      "\u001b[2K   \u001b[91m\u2501\u2501\u2501\u2501\u2501\u2501\u2501\u2501\u2501\u2501\u2501\u2501\u001b[0m\u001b[90m\u257a\u001b[0m\u001b[90m\u2501\u2501\u2501\u2501\u2501\u2501\u2501\u2501\u2501\u2501\u2501\u2501\u2501\u2501\u2501\u2501\u2501\u2501\u2501\u2501\u2501\u2501\u2501\u2501\u2501\u2501\u2501\u001b[0m \u001b[32m 4/13\u001b[0m [numpy]"
     ]
    },
    {
     "name": "stdout",
     "output_type": "stream",
     "text": [
      "\r",
      "\u001b[2K   \u001b[91m\u2501\u2501\u2501\u2501\u2501\u2501\u2501\u2501\u2501\u2501\u2501\u2501\u2501\u2501\u2501\u2501\u2501\u2501\u001b[0m\u001b[90m\u257a\u001b[0m\u001b[90m\u2501\u2501\u2501\u2501\u2501\u2501\u2501\u2501\u2501\u2501\u2501\u2501\u2501\u2501\u2501\u2501\u2501\u2501\u2501\u2501\u2501\u001b[0m \u001b[32m 6/13\u001b[0m [fonttools]"
     ]
    },
    {
     "name": "stdout",
     "output_type": "stream",
     "text": [
      "\r",
      "\u001b[2K   \u001b[91m\u2501\u2501\u2501\u2501\u2501\u2501\u2501\u2501\u2501\u2501\u2501\u2501\u2501\u2501\u2501\u2501\u2501\u2501\u001b[0m\u001b[90m\u257a\u001b[0m\u001b[90m\u2501\u2501\u2501\u2501\u2501\u2501\u2501\u2501\u2501\u2501\u2501\u2501\u2501\u2501\u2501\u2501\u2501\u2501\u2501\u2501\u2501\u001b[0m \u001b[32m 6/13\u001b[0m [fonttools]"
     ]
    },
    {
     "name": "stdout",
     "output_type": "stream",
     "text": [
      "\r",
      "\u001b[2K   \u001b[91m\u2501\u2501\u2501\u2501\u2501\u2501\u2501\u2501\u2501\u2501\u2501\u2501\u2501\u2501\u2501\u2501\u2501\u2501\u001b[0m\u001b[90m\u257a\u001b[0m\u001b[90m\u2501\u2501\u2501\u2501\u2501\u2501\u2501\u2501\u2501\u2501\u2501\u2501\u2501\u2501\u2501\u2501\u2501\u2501\u2501\u2501\u2501\u001b[0m \u001b[32m 6/13\u001b[0m [fonttools]"
     ]
    },
    {
     "name": "stdout",
     "output_type": "stream",
     "text": [
      "\r",
      "\u001b[2K   \u001b[91m\u2501\u2501\u2501\u2501\u2501\u2501\u2501\u2501\u2501\u2501\u2501\u2501\u2501\u2501\u2501\u2501\u2501\u2501\u001b[0m\u001b[90m\u257a\u001b[0m\u001b[90m\u2501\u2501\u2501\u2501\u2501\u2501\u2501\u2501\u2501\u2501\u2501\u2501\u2501\u2501\u2501\u2501\u2501\u2501\u2501\u2501\u2501\u001b[0m \u001b[32m 6/13\u001b[0m [fonttools]"
     ]
    },
    {
     "name": "stdout",
     "output_type": "stream",
     "text": [
      "\r",
      "\u001b[2K   \u001b[91m\u2501\u2501\u2501\u2501\u2501\u2501\u2501\u2501\u2501\u2501\u2501\u2501\u2501\u2501\u2501\u2501\u2501\u2501\u001b[0m\u001b[90m\u257a\u001b[0m\u001b[90m\u2501\u2501\u2501\u2501\u2501\u2501\u2501\u2501\u2501\u2501\u2501\u2501\u2501\u2501\u2501\u2501\u2501\u2501\u2501\u2501\u2501\u001b[0m \u001b[32m 6/13\u001b[0m [fonttools]"
     ]
    },
    {
     "name": "stdout",
     "output_type": "stream",
     "text": [
      "\r",
      "\u001b[2K   \u001b[91m\u2501\u2501\u2501\u2501\u2501\u2501\u2501\u2501\u2501\u2501\u2501\u2501\u2501\u2501\u2501\u2501\u2501\u2501\u001b[0m\u001b[90m\u257a\u001b[0m\u001b[90m\u2501\u2501\u2501\u2501\u2501\u2501\u2501\u2501\u2501\u2501\u2501\u2501\u2501\u2501\u2501\u2501\u2501\u2501\u2501\u2501\u2501\u001b[0m \u001b[32m 6/13\u001b[0m [fonttools]"
     ]
    },
    {
     "name": "stdout",
     "output_type": "stream",
     "text": [
      "\r",
      "\u001b[2K   \u001b[91m\u2501\u2501\u2501\u2501\u2501\u2501\u2501\u2501\u2501\u2501\u2501\u2501\u2501\u2501\u2501\u2501\u2501\u2501\u2501\u2501\u2501\u2501\u2501\u2501\u001b[0m\u001b[91m\u2578\u001b[0m\u001b[90m\u2501\u2501\u2501\u2501\u2501\u2501\u2501\u2501\u2501\u2501\u2501\u2501\u2501\u2501\u2501\u001b[0m \u001b[32m 8/13\u001b[0m [scipy]"
     ]
    },
    {
     "name": "stdout",
     "output_type": "stream",
     "text": [
      "\r",
      "\u001b[2K   \u001b[91m\u2501\u2501\u2501\u2501\u2501\u2501\u2501\u2501\u2501\u2501\u2501\u2501\u2501\u2501\u2501\u2501\u2501\u2501\u2501\u2501\u2501\u2501\u2501\u2501\u001b[0m\u001b[91m\u2578\u001b[0m\u001b[90m\u2501\u2501\u2501\u2501\u2501\u2501\u2501\u2501\u2501\u2501\u2501\u2501\u2501\u2501\u2501\u001b[0m \u001b[32m 8/13\u001b[0m [scipy]"
     ]
    },
    {
     "name": "stdout",
     "output_type": "stream",
     "text": [
      "\r",
      "\u001b[2K   \u001b[91m\u2501\u2501\u2501\u2501\u2501\u2501\u2501\u2501\u2501\u2501\u2501\u2501\u2501\u2501\u2501\u2501\u2501\u2501\u2501\u2501\u2501\u2501\u2501\u2501\u001b[0m\u001b[91m\u2578\u001b[0m\u001b[90m\u2501\u2501\u2501\u2501\u2501\u2501\u2501\u2501\u2501\u2501\u2501\u2501\u2501\u2501\u2501\u001b[0m \u001b[32m 8/13\u001b[0m [scipy]"
     ]
    },
    {
     "name": "stdout",
     "output_type": "stream",
     "text": [
      "\r",
      "\u001b[2K   \u001b[91m\u2501\u2501\u2501\u2501\u2501\u2501\u2501\u2501\u2501\u2501\u2501\u2501\u2501\u2501\u2501\u2501\u2501\u2501\u2501\u2501\u2501\u2501\u2501\u2501\u001b[0m\u001b[91m\u2578\u001b[0m\u001b[90m\u2501\u2501\u2501\u2501\u2501\u2501\u2501\u2501\u2501\u2501\u2501\u2501\u2501\u2501\u2501\u001b[0m \u001b[32m 8/13\u001b[0m [scipy]"
     ]
    },
    {
     "name": "stdout",
     "output_type": "stream",
     "text": [
      "\r",
      "\u001b[2K   \u001b[91m\u2501\u2501\u2501\u2501\u2501\u2501\u2501\u2501\u2501\u2501\u2501\u2501\u2501\u2501\u2501\u2501\u2501\u2501\u2501\u2501\u2501\u2501\u2501\u2501\u001b[0m\u001b[91m\u2578\u001b[0m\u001b[90m\u2501\u2501\u2501\u2501\u2501\u2501\u2501\u2501\u2501\u2501\u2501\u2501\u2501\u2501\u2501\u001b[0m \u001b[32m 8/13\u001b[0m [scipy]"
     ]
    },
    {
     "name": "stdout",
     "output_type": "stream",
     "text": [
      "\r",
      "\u001b[2K   \u001b[91m\u2501\u2501\u2501\u2501\u2501\u2501\u2501\u2501\u2501\u2501\u2501\u2501\u2501\u2501\u2501\u2501\u2501\u2501\u2501\u2501\u2501\u2501\u2501\u2501\u001b[0m\u001b[91m\u2578\u001b[0m\u001b[90m\u2501\u2501\u2501\u2501\u2501\u2501\u2501\u2501\u2501\u2501\u2501\u2501\u2501\u2501\u2501\u001b[0m \u001b[32m 8/13\u001b[0m [scipy]"
     ]
    },
    {
     "name": "stdout",
     "output_type": "stream",
     "text": [
      "\r",
      "\u001b[2K   \u001b[91m\u2501\u2501\u2501\u2501\u2501\u2501\u2501\u2501\u2501\u2501\u2501\u2501\u2501\u2501\u2501\u2501\u2501\u2501\u2501\u2501\u2501\u2501\u2501\u2501\u001b[0m\u001b[91m\u2578\u001b[0m\u001b[90m\u2501\u2501\u2501\u2501\u2501\u2501\u2501\u2501\u2501\u2501\u2501\u2501\u2501\u2501\u2501\u001b[0m \u001b[32m 8/13\u001b[0m [scipy]"
     ]
    },
    {
     "name": "stdout",
     "output_type": "stream",
     "text": [
      "\r",
      "\u001b[2K   \u001b[91m\u2501\u2501\u2501\u2501\u2501\u2501\u2501\u2501\u2501\u2501\u2501\u2501\u2501\u2501\u2501\u2501\u2501\u2501\u2501\u2501\u2501\u2501\u2501\u2501\u001b[0m\u001b[91m\u2578\u001b[0m\u001b[90m\u2501\u2501\u2501\u2501\u2501\u2501\u2501\u2501\u2501\u2501\u2501\u2501\u2501\u2501\u2501\u001b[0m \u001b[32m 8/13\u001b[0m [scipy]"
     ]
    },
    {
     "name": "stdout",
     "output_type": "stream",
     "text": [
      "\r",
      "\u001b[2K   \u001b[91m\u2501\u2501\u2501\u2501\u2501\u2501\u2501\u2501\u2501\u2501\u2501\u2501\u2501\u2501\u2501\u2501\u2501\u2501\u2501\u2501\u2501\u2501\u2501\u2501\u001b[0m\u001b[91m\u2578\u001b[0m\u001b[90m\u2501\u2501\u2501\u2501\u2501\u2501\u2501\u2501\u2501\u2501\u2501\u2501\u2501\u2501\u2501\u001b[0m \u001b[32m 8/13\u001b[0m [scipy]"
     ]
    },
    {
     "name": "stdout",
     "output_type": "stream",
     "text": [
      "\r",
      "\u001b[2K   \u001b[91m\u2501\u2501\u2501\u2501\u2501\u2501\u2501\u2501\u2501\u2501\u2501\u2501\u2501\u2501\u2501\u2501\u2501\u2501\u2501\u2501\u2501\u2501\u2501\u2501\u001b[0m\u001b[91m\u2578\u001b[0m\u001b[90m\u2501\u2501\u2501\u2501\u2501\u2501\u2501\u2501\u2501\u2501\u2501\u2501\u2501\u2501\u2501\u001b[0m \u001b[32m 8/13\u001b[0m [scipy]"
     ]
    },
    {
     "name": "stdout",
     "output_type": "stream",
     "text": [
      "\r",
      "\u001b[2K   \u001b[91m\u2501\u2501\u2501\u2501\u2501\u2501\u2501\u2501\u2501\u2501\u2501\u2501\u2501\u2501\u2501\u2501\u2501\u2501\u2501\u2501\u2501\u2501\u2501\u2501\u001b[0m\u001b[91m\u2578\u001b[0m\u001b[90m\u2501\u2501\u2501\u2501\u2501\u2501\u2501\u2501\u2501\u2501\u2501\u2501\u2501\u2501\u2501\u001b[0m \u001b[32m 8/13\u001b[0m [scipy]"
     ]
    },
    {
     "name": "stdout",
     "output_type": "stream",
     "text": [
      "\r",
      "\u001b[2K   \u001b[91m\u2501\u2501\u2501\u2501\u2501\u2501\u2501\u2501\u2501\u2501\u2501\u2501\u2501\u2501\u2501\u2501\u2501\u2501\u2501\u2501\u2501\u2501\u2501\u2501\u001b[0m\u001b[91m\u2578\u001b[0m\u001b[90m\u2501\u2501\u2501\u2501\u2501\u2501\u2501\u2501\u2501\u2501\u2501\u2501\u2501\u2501\u2501\u001b[0m \u001b[32m 8/13\u001b[0m [scipy]"
     ]
    },
    {
     "name": "stdout",
     "output_type": "stream",
     "text": [
      "\r",
      "\u001b[2K   \u001b[91m\u2501\u2501\u2501\u2501\u2501\u2501\u2501\u2501\u2501\u2501\u2501\u2501\u2501\u2501\u2501\u2501\u2501\u2501\u2501\u2501\u2501\u2501\u2501\u2501\u001b[0m\u001b[91m\u2578\u001b[0m\u001b[90m\u2501\u2501\u2501\u2501\u2501\u2501\u2501\u2501\u2501\u2501\u2501\u2501\u2501\u2501\u2501\u001b[0m \u001b[32m 8/13\u001b[0m [scipy]"
     ]
    },
    {
     "name": "stdout",
     "output_type": "stream",
     "text": [
      "\r",
      "\u001b[2K   \u001b[91m\u2501\u2501\u2501\u2501\u2501\u2501\u2501\u2501\u2501\u2501\u2501\u2501\u2501\u2501\u2501\u2501\u2501\u2501\u2501\u2501\u2501\u2501\u2501\u2501\u001b[0m\u001b[91m\u2578\u001b[0m\u001b[90m\u2501\u2501\u2501\u2501\u2501\u2501\u2501\u2501\u2501\u2501\u2501\u2501\u2501\u2501\u2501\u001b[0m \u001b[32m 8/13\u001b[0m [scipy]"
     ]
    },
    {
     "name": "stdout",
     "output_type": "stream",
     "text": [
      "\r",
      "\u001b[2K   \u001b[91m\u2501\u2501\u2501\u2501\u2501\u2501\u2501\u2501\u2501\u2501\u2501\u2501\u2501\u2501\u2501\u2501\u2501\u2501\u2501\u2501\u2501\u2501\u2501\u2501\u001b[0m\u001b[91m\u2578\u001b[0m\u001b[90m\u2501\u2501\u2501\u2501\u2501\u2501\u2501\u2501\u2501\u2501\u2501\u2501\u2501\u2501\u2501\u001b[0m \u001b[32m 8/13\u001b[0m [scipy]"
     ]
    },
    {
     "name": "stdout",
     "output_type": "stream",
     "text": [
      "\r",
      "\u001b[2K   \u001b[91m\u2501\u2501\u2501\u2501\u2501\u2501\u2501\u2501\u2501\u2501\u2501\u2501\u2501\u2501\u2501\u2501\u2501\u2501\u2501\u2501\u2501\u2501\u2501\u2501\u001b[0m\u001b[91m\u2578\u001b[0m\u001b[90m\u2501\u2501\u2501\u2501\u2501\u2501\u2501\u2501\u2501\u2501\u2501\u2501\u2501\u2501\u2501\u001b[0m \u001b[32m 8/13\u001b[0m [scipy]"
     ]
    },
    {
     "name": "stdout",
     "output_type": "stream",
     "text": [
      "\r",
      "\u001b[2K   \u001b[91m\u2501\u2501\u2501\u2501\u2501\u2501\u2501\u2501\u2501\u2501\u2501\u2501\u2501\u2501\u2501\u2501\u2501\u2501\u2501\u2501\u2501\u2501\u2501\u2501\u001b[0m\u001b[91m\u2578\u001b[0m\u001b[90m\u2501\u2501\u2501\u2501\u2501\u2501\u2501\u2501\u2501\u2501\u2501\u2501\u2501\u2501\u2501\u001b[0m \u001b[32m 8/13\u001b[0m [scipy]"
     ]
    },
    {
     "name": "stdout",
     "output_type": "stream",
     "text": [
      "\r",
      "\u001b[2K   \u001b[91m\u2501\u2501\u2501\u2501\u2501\u2501\u2501\u2501\u2501\u2501\u2501\u2501\u2501\u2501\u2501\u2501\u2501\u2501\u2501\u2501\u2501\u2501\u2501\u2501\u001b[0m\u001b[91m\u2578\u001b[0m\u001b[90m\u2501\u2501\u2501\u2501\u2501\u2501\u2501\u2501\u2501\u2501\u2501\u2501\u2501\u2501\u2501\u001b[0m \u001b[32m 8/13\u001b[0m [scipy]"
     ]
    },
    {
     "name": "stdout",
     "output_type": "stream",
     "text": [
      "\r",
      "\u001b[2K   \u001b[91m\u2501\u2501\u2501\u2501\u2501\u2501\u2501\u2501\u2501\u2501\u2501\u2501\u2501\u2501\u2501\u2501\u2501\u2501\u2501\u2501\u2501\u2501\u2501\u2501\u001b[0m\u001b[91m\u2578\u001b[0m\u001b[90m\u2501\u2501\u2501\u2501\u2501\u2501\u2501\u2501\u2501\u2501\u2501\u2501\u2501\u2501\u2501\u001b[0m \u001b[32m 8/13\u001b[0m [scipy]"
     ]
    },
    {
     "name": "stdout",
     "output_type": "stream",
     "text": [
      "\r",
      "\u001b[2K   \u001b[91m\u2501\u2501\u2501\u2501\u2501\u2501\u2501\u2501\u2501\u2501\u2501\u2501\u2501\u2501\u2501\u2501\u2501\u2501\u2501\u2501\u2501\u2501\u2501\u2501\u001b[0m\u001b[91m\u2578\u001b[0m\u001b[90m\u2501\u2501\u2501\u2501\u2501\u2501\u2501\u2501\u2501\u2501\u2501\u2501\u2501\u2501\u2501\u001b[0m \u001b[32m 8/13\u001b[0m [scipy]"
     ]
    },
    {
     "name": "stdout",
     "output_type": "stream",
     "text": [
      "\r",
      "\u001b[2K   \u001b[91m\u2501\u2501\u2501\u2501\u2501\u2501\u2501\u2501\u2501\u2501\u2501\u2501\u2501\u2501\u2501\u2501\u2501\u2501\u2501\u2501\u2501\u2501\u2501\u2501\u001b[0m\u001b[91m\u2578\u001b[0m\u001b[90m\u2501\u2501\u2501\u2501\u2501\u2501\u2501\u2501\u2501\u2501\u2501\u2501\u2501\u2501\u2501\u001b[0m \u001b[32m 8/13\u001b[0m [scipy]"
     ]
    },
    {
     "name": "stdout",
     "output_type": "stream",
     "text": [
      "\r",
      "\u001b[2K   \u001b[91m\u2501\u2501\u2501\u2501\u2501\u2501\u2501\u2501\u2501\u2501\u2501\u2501\u2501\u2501\u2501\u2501\u2501\u2501\u2501\u2501\u2501\u2501\u2501\u2501\u001b[0m\u001b[91m\u2578\u001b[0m\u001b[90m\u2501\u2501\u2501\u2501\u2501\u2501\u2501\u2501\u2501\u2501\u2501\u2501\u2501\u2501\u2501\u001b[0m \u001b[32m 8/13\u001b[0m [scipy]"
     ]
    },
    {
     "name": "stdout",
     "output_type": "stream",
     "text": [
      "\r",
      "\u001b[2K   \u001b[91m\u2501\u2501\u2501\u2501\u2501\u2501\u2501\u2501\u2501\u2501\u2501\u2501\u2501\u2501\u2501\u2501\u2501\u2501\u2501\u2501\u2501\u2501\u2501\u2501\u001b[0m\u001b[91m\u2578\u001b[0m\u001b[90m\u2501\u2501\u2501\u2501\u2501\u2501\u2501\u2501\u2501\u2501\u2501\u2501\u2501\u2501\u2501\u001b[0m \u001b[32m 8/13\u001b[0m [scipy]"
     ]
    },
    {
     "name": "stdout",
     "output_type": "stream",
     "text": [
      "\r",
      "\u001b[2K   \u001b[91m\u2501\u2501\u2501\u2501\u2501\u2501\u2501\u2501\u2501\u2501\u2501\u2501\u2501\u2501\u2501\u2501\u2501\u2501\u2501\u2501\u2501\u2501\u2501\u2501\u001b[0m\u001b[91m\u2578\u001b[0m\u001b[90m\u2501\u2501\u2501\u2501\u2501\u2501\u2501\u2501\u2501\u2501\u2501\u2501\u2501\u2501\u2501\u001b[0m \u001b[32m 8/13\u001b[0m [scipy]"
     ]
    },
    {
     "name": "stdout",
     "output_type": "stream",
     "text": [
      "\r",
      "\u001b[2K   \u001b[91m\u2501\u2501\u2501\u2501\u2501\u2501\u2501\u2501\u2501\u2501\u2501\u2501\u2501\u2501\u2501\u2501\u2501\u2501\u2501\u2501\u2501\u2501\u2501\u2501\u001b[0m\u001b[91m\u2578\u001b[0m\u001b[90m\u2501\u2501\u2501\u2501\u2501\u2501\u2501\u2501\u2501\u2501\u2501\u2501\u2501\u2501\u2501\u001b[0m \u001b[32m 8/13\u001b[0m [scipy]"
     ]
    },
    {
     "name": "stdout",
     "output_type": "stream",
     "text": [
      "\r",
      "\u001b[2K   \u001b[91m\u2501\u2501\u2501\u2501\u2501\u2501\u2501\u2501\u2501\u2501\u2501\u2501\u2501\u2501\u2501\u2501\u2501\u2501\u2501\u2501\u2501\u2501\u2501\u2501\u001b[0m\u001b[91m\u2578\u001b[0m\u001b[90m\u2501\u2501\u2501\u2501\u2501\u2501\u2501\u2501\u2501\u2501\u2501\u2501\u2501\u2501\u2501\u001b[0m \u001b[32m 8/13\u001b[0m [scipy]"
     ]
    },
    {
     "name": "stdout",
     "output_type": "stream",
     "text": [
      "\r",
      "\u001b[2K   \u001b[91m\u2501\u2501\u2501\u2501\u2501\u2501\u2501\u2501\u2501\u2501\u2501\u2501\u2501\u2501\u2501\u2501\u2501\u2501\u2501\u2501\u2501\u2501\u2501\u2501\u001b[0m\u001b[91m\u2578\u001b[0m\u001b[90m\u2501\u2501\u2501\u2501\u2501\u2501\u2501\u2501\u2501\u2501\u2501\u2501\u2501\u2501\u2501\u001b[0m \u001b[32m 8/13\u001b[0m [scipy]"
     ]
    },
    {
     "name": "stdout",
     "output_type": "stream",
     "text": [
      "\r",
      "\u001b[2K   \u001b[91m\u2501\u2501\u2501\u2501\u2501\u2501\u2501\u2501\u2501\u2501\u2501\u2501\u2501\u2501\u2501\u2501\u2501\u2501\u2501\u2501\u2501\u2501\u2501\u2501\u001b[0m\u001b[91m\u2578\u001b[0m\u001b[90m\u2501\u2501\u2501\u2501\u2501\u2501\u2501\u2501\u2501\u2501\u2501\u2501\u2501\u2501\u2501\u001b[0m \u001b[32m 8/13\u001b[0m [scipy]"
     ]
    },
    {
     "name": "stdout",
     "output_type": "stream",
     "text": [
      "\r",
      "\u001b[2K   \u001b[91m\u2501\u2501\u2501\u2501\u2501\u2501\u2501\u2501\u2501\u2501\u2501\u2501\u2501\u2501\u2501\u2501\u2501\u2501\u2501\u2501\u2501\u2501\u2501\u2501\u001b[0m\u001b[91m\u2578\u001b[0m\u001b[90m\u2501\u2501\u2501\u2501\u2501\u2501\u2501\u2501\u2501\u2501\u2501\u2501\u2501\u2501\u2501\u001b[0m \u001b[32m 8/13\u001b[0m [scipy]"
     ]
    },
    {
     "name": "stdout",
     "output_type": "stream",
     "text": [
      "\r",
      "\u001b[2K   \u001b[91m\u2501\u2501\u2501\u2501\u2501\u2501\u2501\u2501\u2501\u2501\u2501\u2501\u2501\u2501\u2501\u2501\u2501\u2501\u2501\u2501\u2501\u2501\u2501\u2501\u2501\u2501\u2501\u001b[0m\u001b[91m\u2578\u001b[0m\u001b[90m\u2501\u2501\u2501\u2501\u2501\u2501\u2501\u2501\u2501\u2501\u2501\u2501\u001b[0m \u001b[32m 9/13\u001b[0m [pandas]"
     ]
    },
    {
     "name": "stdout",
     "output_type": "stream",
     "text": [
      "\r",
      "\u001b[2K   \u001b[91m\u2501\u2501\u2501\u2501\u2501\u2501\u2501\u2501\u2501\u2501\u2501\u2501\u2501\u2501\u2501\u2501\u2501\u2501\u2501\u2501\u2501\u2501\u2501\u2501\u2501\u2501\u2501\u001b[0m\u001b[91m\u2578\u001b[0m\u001b[90m\u2501\u2501\u2501\u2501\u2501\u2501\u2501\u2501\u2501\u2501\u2501\u2501\u001b[0m \u001b[32m 9/13\u001b[0m [pandas]"
     ]
    },
    {
     "name": "stdout",
     "output_type": "stream",
     "text": [
      "\r",
      "\u001b[2K   \u001b[91m\u2501\u2501\u2501\u2501\u2501\u2501\u2501\u2501\u2501\u2501\u2501\u2501\u2501\u2501\u2501\u2501\u2501\u2501\u2501\u2501\u2501\u2501\u2501\u2501\u2501\u2501\u2501\u001b[0m\u001b[91m\u2578\u001b[0m\u001b[90m\u2501\u2501\u2501\u2501\u2501\u2501\u2501\u2501\u2501\u2501\u2501\u2501\u001b[0m \u001b[32m 9/13\u001b[0m [pandas]"
     ]
    },
    {
     "name": "stdout",
     "output_type": "stream",
     "text": [
      "\r",
      "\u001b[2K   \u001b[91m\u2501\u2501\u2501\u2501\u2501\u2501\u2501\u2501\u2501\u2501\u2501\u2501\u2501\u2501\u2501\u2501\u2501\u2501\u2501\u2501\u2501\u2501\u2501\u2501\u2501\u2501\u2501\u001b[0m\u001b[91m\u2578\u001b[0m\u001b[90m\u2501\u2501\u2501\u2501\u2501\u2501\u2501\u2501\u2501\u2501\u2501\u2501\u001b[0m \u001b[32m 9/13\u001b[0m [pandas]"
     ]
    },
    {
     "name": "stdout",
     "output_type": "stream",
     "text": [
      "\r",
      "\u001b[2K   \u001b[91m\u2501\u2501\u2501\u2501\u2501\u2501\u2501\u2501\u2501\u2501\u2501\u2501\u2501\u2501\u2501\u2501\u2501\u2501\u2501\u2501\u2501\u2501\u2501\u2501\u2501\u2501\u2501\u001b[0m\u001b[91m\u2578\u001b[0m\u001b[90m\u2501\u2501\u2501\u2501\u2501\u2501\u2501\u2501\u2501\u2501\u2501\u2501\u001b[0m \u001b[32m 9/13\u001b[0m [pandas]"
     ]
    },
    {
     "name": "stdout",
     "output_type": "stream",
     "text": [
      "\r",
      "\u001b[2K   \u001b[91m\u2501\u2501\u2501\u2501\u2501\u2501\u2501\u2501\u2501\u2501\u2501\u2501\u2501\u2501\u2501\u2501\u2501\u2501\u2501\u2501\u2501\u2501\u2501\u2501\u2501\u2501\u2501\u001b[0m\u001b[91m\u2578\u001b[0m\u001b[90m\u2501\u2501\u2501\u2501\u2501\u2501\u2501\u2501\u2501\u2501\u2501\u2501\u001b[0m \u001b[32m 9/13\u001b[0m [pandas]"
     ]
    },
    {
     "name": "stdout",
     "output_type": "stream",
     "text": [
      "\r",
      "\u001b[2K   \u001b[91m\u2501\u2501\u2501\u2501\u2501\u2501\u2501\u2501\u2501\u2501\u2501\u2501\u2501\u2501\u2501\u2501\u2501\u2501\u2501\u2501\u2501\u2501\u2501\u2501\u2501\u2501\u2501\u001b[0m\u001b[91m\u2578\u001b[0m\u001b[90m\u2501\u2501\u2501\u2501\u2501\u2501\u2501\u2501\u2501\u2501\u2501\u2501\u001b[0m \u001b[32m 9/13\u001b[0m [pandas]"
     ]
    },
    {
     "name": "stdout",
     "output_type": "stream",
     "text": [
      "\r",
      "\u001b[2K   \u001b[91m\u2501\u2501\u2501\u2501\u2501\u2501\u2501\u2501\u2501\u2501\u2501\u2501\u2501\u2501\u2501\u2501\u2501\u2501\u2501\u2501\u2501\u2501\u2501\u2501\u2501\u2501\u2501\u001b[0m\u001b[91m\u2578\u001b[0m\u001b[90m\u2501\u2501\u2501\u2501\u2501\u2501\u2501\u2501\u2501\u2501\u2501\u2501\u001b[0m \u001b[32m 9/13\u001b[0m [pandas]"
     ]
    },
    {
     "name": "stdout",
     "output_type": "stream",
     "text": [
      "\r",
      "\u001b[2K   \u001b[91m\u2501\u2501\u2501\u2501\u2501\u2501\u2501\u2501\u2501\u2501\u2501\u2501\u2501\u2501\u2501\u2501\u2501\u2501\u2501\u2501\u2501\u2501\u2501\u2501\u2501\u2501\u2501\u001b[0m\u001b[91m\u2578\u001b[0m\u001b[90m\u2501\u2501\u2501\u2501\u2501\u2501\u2501\u2501\u2501\u2501\u2501\u2501\u001b[0m \u001b[32m 9/13\u001b[0m [pandas]"
     ]
    },
    {
     "name": "stdout",
     "output_type": "stream",
     "text": [
      "\r",
      "\u001b[2K   \u001b[91m\u2501\u2501\u2501\u2501\u2501\u2501\u2501\u2501\u2501\u2501\u2501\u2501\u2501\u2501\u2501\u2501\u2501\u2501\u2501\u2501\u2501\u2501\u2501\u2501\u2501\u2501\u2501\u001b[0m\u001b[91m\u2578\u001b[0m\u001b[90m\u2501\u2501\u2501\u2501\u2501\u2501\u2501\u2501\u2501\u2501\u2501\u2501\u001b[0m \u001b[32m 9/13\u001b[0m [pandas]"
     ]
    },
    {
     "name": "stdout",
     "output_type": "stream",
     "text": [
      "\r",
      "\u001b[2K   \u001b[91m\u2501\u2501\u2501\u2501\u2501\u2501\u2501\u2501\u2501\u2501\u2501\u2501\u2501\u2501\u2501\u2501\u2501\u2501\u2501\u2501\u2501\u2501\u2501\u2501\u2501\u2501\u2501\u001b[0m\u001b[91m\u2578\u001b[0m\u001b[90m\u2501\u2501\u2501\u2501\u2501\u2501\u2501\u2501\u2501\u2501\u2501\u2501\u001b[0m \u001b[32m 9/13\u001b[0m [pandas]"
     ]
    },
    {
     "name": "stdout",
     "output_type": "stream",
     "text": [
      "\r",
      "\u001b[2K   \u001b[91m\u2501\u2501\u2501\u2501\u2501\u2501\u2501\u2501\u2501\u2501\u2501\u2501\u2501\u2501\u2501\u2501\u2501\u2501\u2501\u2501\u2501\u2501\u2501\u2501\u2501\u2501\u2501\u001b[0m\u001b[91m\u2578\u001b[0m\u001b[90m\u2501\u2501\u2501\u2501\u2501\u2501\u2501\u2501\u2501\u2501\u2501\u2501\u001b[0m \u001b[32m 9/13\u001b[0m [pandas]"
     ]
    },
    {
     "name": "stdout",
     "output_type": "stream",
     "text": [
      "\r",
      "\u001b[2K   \u001b[91m\u2501\u2501\u2501\u2501\u2501\u2501\u2501\u2501\u2501\u2501\u2501\u2501\u2501\u2501\u2501\u2501\u2501\u2501\u2501\u2501\u2501\u2501\u2501\u2501\u2501\u2501\u2501\u001b[0m\u001b[91m\u2578\u001b[0m\u001b[90m\u2501\u2501\u2501\u2501\u2501\u2501\u2501\u2501\u2501\u2501\u2501\u2501\u001b[0m \u001b[32m 9/13\u001b[0m [pandas]"
     ]
    },
    {
     "name": "stdout",
     "output_type": "stream",
     "text": [
      "\r",
      "\u001b[2K   \u001b[91m\u2501\u2501\u2501\u2501\u2501\u2501\u2501\u2501\u2501\u2501\u2501\u2501\u2501\u2501\u2501\u2501\u2501\u2501\u2501\u2501\u2501\u2501\u2501\u2501\u2501\u2501\u2501\u001b[0m\u001b[91m\u2578\u001b[0m\u001b[90m\u2501\u2501\u2501\u2501\u2501\u2501\u2501\u2501\u2501\u2501\u2501\u2501\u001b[0m \u001b[32m 9/13\u001b[0m [pandas]"
     ]
    },
    {
     "name": "stdout",
     "output_type": "stream",
     "text": [
      "\r",
      "\u001b[2K   \u001b[91m\u2501\u2501\u2501\u2501\u2501\u2501\u2501\u2501\u2501\u2501\u2501\u2501\u2501\u2501\u2501\u2501\u2501\u2501\u2501\u2501\u2501\u2501\u2501\u2501\u2501\u2501\u2501\u001b[0m\u001b[91m\u2578\u001b[0m\u001b[90m\u2501\u2501\u2501\u2501\u2501\u2501\u2501\u2501\u2501\u2501\u2501\u2501\u001b[0m \u001b[32m 9/13\u001b[0m [pandas]"
     ]
    },
    {
     "name": "stdout",
     "output_type": "stream",
     "text": [
      "\r",
      "\u001b[2K   \u001b[91m\u2501\u2501\u2501\u2501\u2501\u2501\u2501\u2501\u2501\u2501\u2501\u2501\u2501\u2501\u2501\u2501\u2501\u2501\u2501\u2501\u2501\u2501\u2501\u2501\u2501\u2501\u2501\u001b[0m\u001b[91m\u2578\u001b[0m\u001b[90m\u2501\u2501\u2501\u2501\u2501\u2501\u2501\u2501\u2501\u2501\u2501\u2501\u001b[0m \u001b[32m 9/13\u001b[0m [pandas]"
     ]
    },
    {
     "name": "stdout",
     "output_type": "stream",
     "text": [
      "\r",
      "\u001b[2K   \u001b[91m\u2501\u2501\u2501\u2501\u2501\u2501\u2501\u2501\u2501\u2501\u2501\u2501\u2501\u2501\u2501\u2501\u2501\u2501\u2501\u2501\u2501\u2501\u2501\u2501\u2501\u2501\u2501\u001b[0m\u001b[91m\u2578\u001b[0m\u001b[90m\u2501\u2501\u2501\u2501\u2501\u2501\u2501\u2501\u2501\u2501\u2501\u2501\u001b[0m \u001b[32m 9/13\u001b[0m [pandas]"
     ]
    },
    {
     "name": "stdout",
     "output_type": "stream",
     "text": [
      "\r",
      "\u001b[2K   \u001b[91m\u2501\u2501\u2501\u2501\u2501\u2501\u2501\u2501\u2501\u2501\u2501\u2501\u2501\u2501\u2501\u2501\u2501\u2501\u2501\u2501\u2501\u2501\u2501\u2501\u2501\u2501\u2501\u001b[0m\u001b[91m\u2578\u001b[0m\u001b[90m\u2501\u2501\u2501\u2501\u2501\u2501\u2501\u2501\u2501\u2501\u2501\u2501\u001b[0m \u001b[32m 9/13\u001b[0m [pandas]"
     ]
    },
    {
     "name": "stdout",
     "output_type": "stream",
     "text": [
      "\r",
      "\u001b[2K   \u001b[91m\u2501\u2501\u2501\u2501\u2501\u2501\u2501\u2501\u2501\u2501\u2501\u2501\u2501\u2501\u2501\u2501\u2501\u2501\u2501\u2501\u2501\u2501\u2501\u2501\u2501\u2501\u2501\u001b[0m\u001b[91m\u2578\u001b[0m\u001b[90m\u2501\u2501\u2501\u2501\u2501\u2501\u2501\u2501\u2501\u2501\u2501\u2501\u001b[0m \u001b[32m 9/13\u001b[0m [pandas]"
     ]
    },
    {
     "name": "stdout",
     "output_type": "stream",
     "text": [
      "\r",
      "\u001b[2K   \u001b[91m\u2501\u2501\u2501\u2501\u2501\u2501\u2501\u2501\u2501\u2501\u2501\u2501\u2501\u2501\u2501\u2501\u2501\u2501\u2501\u2501\u2501\u2501\u2501\u2501\u2501\u2501\u2501\u001b[0m\u001b[91m\u2578\u001b[0m\u001b[90m\u2501\u2501\u2501\u2501\u2501\u2501\u2501\u2501\u2501\u2501\u2501\u2501\u001b[0m \u001b[32m 9/13\u001b[0m [pandas]"
     ]
    },
    {
     "name": "stdout",
     "output_type": "stream",
     "text": [
      "\r",
      "\u001b[2K   \u001b[91m\u2501\u2501\u2501\u2501\u2501\u2501\u2501\u2501\u2501\u2501\u2501\u2501\u2501\u2501\u2501\u2501\u2501\u2501\u2501\u2501\u2501\u2501\u2501\u2501\u2501\u2501\u2501\u001b[0m\u001b[91m\u2578\u001b[0m\u001b[90m\u2501\u2501\u2501\u2501\u2501\u2501\u2501\u2501\u2501\u2501\u2501\u2501\u001b[0m \u001b[32m 9/13\u001b[0m [pandas]"
     ]
    },
    {
     "name": "stdout",
     "output_type": "stream",
     "text": [
      "\r",
      "\u001b[2K   \u001b[91m\u2501\u2501\u2501\u2501\u2501\u2501\u2501\u2501\u2501\u2501\u2501\u2501\u2501\u2501\u2501\u2501\u2501\u2501\u2501\u2501\u2501\u2501\u2501\u2501\u2501\u2501\u2501\u001b[0m\u001b[91m\u2578\u001b[0m\u001b[90m\u2501\u2501\u2501\u2501\u2501\u2501\u2501\u2501\u2501\u2501\u2501\u2501\u001b[0m \u001b[32m 9/13\u001b[0m [pandas]"
     ]
    },
    {
     "name": "stdout",
     "output_type": "stream",
     "text": [
      "\r",
      "\u001b[2K   \u001b[91m\u2501\u2501\u2501\u2501\u2501\u2501\u2501\u2501\u2501\u2501\u2501\u2501\u2501\u2501\u2501\u2501\u2501\u2501\u2501\u2501\u2501\u2501\u2501\u2501\u2501\u2501\u2501\u001b[0m\u001b[91m\u2578\u001b[0m\u001b[90m\u2501\u2501\u2501\u2501\u2501\u2501\u2501\u2501\u2501\u2501\u2501\u2501\u001b[0m \u001b[32m 9/13\u001b[0m [pandas]"
     ]
    },
    {
     "name": "stdout",
     "output_type": "stream",
     "text": [
      "\r",
      "\u001b[2K   \u001b[91m\u2501\u2501\u2501\u2501\u2501\u2501\u2501\u2501\u2501\u2501\u2501\u2501\u2501\u2501\u2501\u2501\u2501\u2501\u2501\u2501\u2501\u2501\u2501\u2501\u2501\u2501\u2501\u001b[0m\u001b[91m\u2578\u001b[0m\u001b[90m\u2501\u2501\u2501\u2501\u2501\u2501\u2501\u2501\u2501\u2501\u2501\u2501\u001b[0m \u001b[32m 9/13\u001b[0m [pandas]"
     ]
    },
    {
     "name": "stdout",
     "output_type": "stream",
     "text": [
      "\r",
      "\u001b[2K   \u001b[91m\u2501\u2501\u2501\u2501\u2501\u2501\u2501\u2501\u2501\u2501\u2501\u2501\u2501\u2501\u2501\u2501\u2501\u2501\u2501\u2501\u2501\u2501\u2501\u2501\u2501\u2501\u2501\u001b[0m\u001b[91m\u2578\u001b[0m\u001b[90m\u2501\u2501\u2501\u2501\u2501\u2501\u2501\u2501\u2501\u2501\u2501\u2501\u001b[0m \u001b[32m 9/13\u001b[0m [pandas]"
     ]
    },
    {
     "name": "stdout",
     "output_type": "stream",
     "text": [
      "\r",
      "\u001b[2K   \u001b[91m\u2501\u2501\u2501\u2501\u2501\u2501\u2501\u2501\u2501\u2501\u2501\u2501\u2501\u2501\u2501\u2501\u2501\u2501\u2501\u2501\u2501\u2501\u2501\u2501\u2501\u2501\u2501\u001b[0m\u001b[91m\u2578\u001b[0m\u001b[90m\u2501\u2501\u2501\u2501\u2501\u2501\u2501\u2501\u2501\u2501\u2501\u2501\u001b[0m \u001b[32m 9/13\u001b[0m [pandas]"
     ]
    },
    {
     "name": "stdout",
     "output_type": "stream",
     "text": [
      "\r",
      "\u001b[2K   \u001b[91m\u2501\u2501\u2501\u2501\u2501\u2501\u2501\u2501\u2501\u2501\u2501\u2501\u2501\u2501\u2501\u2501\u2501\u2501\u2501\u2501\u2501\u2501\u2501\u2501\u2501\u2501\u2501\u001b[0m\u001b[91m\u2578\u001b[0m\u001b[90m\u2501\u2501\u2501\u2501\u2501\u2501\u2501\u2501\u2501\u2501\u2501\u2501\u001b[0m \u001b[32m 9/13\u001b[0m [pandas]"
     ]
    },
    {
     "name": "stdout",
     "output_type": "stream",
     "text": [
      "\r",
      "\u001b[2K   \u001b[91m\u2501\u2501\u2501\u2501\u2501\u2501\u2501\u2501\u2501\u2501\u2501\u2501\u2501\u2501\u2501\u2501\u2501\u2501\u2501\u2501\u2501\u2501\u2501\u2501\u2501\u2501\u2501\u001b[0m\u001b[91m\u2578\u001b[0m\u001b[90m\u2501\u2501\u2501\u2501\u2501\u2501\u2501\u2501\u2501\u2501\u2501\u2501\u001b[0m \u001b[32m 9/13\u001b[0m [pandas]"
     ]
    },
    {
     "name": "stdout",
     "output_type": "stream",
     "text": [
      "\r",
      "\u001b[2K   \u001b[91m\u2501\u2501\u2501\u2501\u2501\u2501\u2501\u2501\u2501\u2501\u2501\u2501\u2501\u2501\u2501\u2501\u2501\u2501\u2501\u2501\u2501\u2501\u2501\u2501\u2501\u2501\u2501\u001b[0m\u001b[91m\u2578\u001b[0m\u001b[90m\u2501\u2501\u2501\u2501\u2501\u2501\u2501\u2501\u2501\u2501\u2501\u2501\u001b[0m \u001b[32m 9/13\u001b[0m [pandas]"
     ]
    },
    {
     "name": "stdout",
     "output_type": "stream",
     "text": [
      "\r",
      "\u001b[2K   \u001b[91m\u2501\u2501\u2501\u2501\u2501\u2501\u2501\u2501\u2501\u2501\u2501\u2501\u2501\u2501\u2501\u2501\u2501\u2501\u2501\u2501\u2501\u2501\u2501\u2501\u2501\u2501\u2501\u001b[0m\u001b[91m\u2578\u001b[0m\u001b[90m\u2501\u2501\u2501\u2501\u2501\u2501\u2501\u2501\u2501\u2501\u2501\u2501\u001b[0m \u001b[32m 9/13\u001b[0m [pandas]"
     ]
    },
    {
     "name": "stdout",
     "output_type": "stream",
     "text": [
      "\r",
      "\u001b[2K   \u001b[91m\u2501\u2501\u2501\u2501\u2501\u2501\u2501\u2501\u2501\u2501\u2501\u2501\u2501\u2501\u2501\u2501\u2501\u2501\u2501\u2501\u2501\u2501\u2501\u2501\u2501\u2501\u2501\u001b[0m\u001b[91m\u2578\u001b[0m\u001b[90m\u2501\u2501\u2501\u2501\u2501\u2501\u2501\u2501\u2501\u2501\u2501\u2501\u001b[0m \u001b[32m 9/13\u001b[0m [pandas]"
     ]
    },
    {
     "name": "stdout",
     "output_type": "stream",
     "text": [
      "\r",
      "\u001b[2K   \u001b[91m\u2501\u2501\u2501\u2501\u2501\u2501\u2501\u2501\u2501\u2501\u2501\u2501\u2501\u2501\u2501\u2501\u2501\u2501\u2501\u2501\u2501\u2501\u2501\u2501\u2501\u2501\u2501\u001b[0m\u001b[91m\u2578\u001b[0m\u001b[90m\u2501\u2501\u2501\u2501\u2501\u2501\u2501\u2501\u2501\u2501\u2501\u2501\u001b[0m \u001b[32m 9/13\u001b[0m [pandas]"
     ]
    },
    {
     "name": "stdout",
     "output_type": "stream",
     "text": [
      "\r",
      "\u001b[2K   \u001b[91m\u2501\u2501\u2501\u2501\u2501\u2501\u2501\u2501\u2501\u2501\u2501\u2501\u2501\u2501\u2501\u2501\u2501\u2501\u2501\u2501\u2501\u2501\u2501\u2501\u2501\u2501\u2501\u001b[0m\u001b[91m\u2578\u001b[0m\u001b[90m\u2501\u2501\u2501\u2501\u2501\u2501\u2501\u2501\u2501\u2501\u2501\u2501\u001b[0m \u001b[32m 9/13\u001b[0m [pandas]"
     ]
    },
    {
     "name": "stdout",
     "output_type": "stream",
     "text": [
      "\r",
      "\u001b[2K   \u001b[91m\u2501\u2501\u2501\u2501\u2501\u2501\u2501\u2501\u2501\u2501\u2501\u2501\u2501\u2501\u2501\u2501\u2501\u2501\u2501\u2501\u2501\u2501\u2501\u2501\u2501\u2501\u2501\u2501\u2501\u2501\u2501\u2501\u2501\u001b[0m\u001b[91m\u2578\u001b[0m\u001b[90m\u2501\u2501\u2501\u2501\u2501\u2501\u001b[0m \u001b[32m11/13\u001b[0m [matplotlib]"
     ]
    },
    {
     "name": "stdout",
     "output_type": "stream",
     "text": [
      "\r",
      "\u001b[2K   \u001b[91m\u2501\u2501\u2501\u2501\u2501\u2501\u2501\u2501\u2501\u2501\u2501\u2501\u2501\u2501\u2501\u2501\u2501\u2501\u2501\u2501\u2501\u2501\u2501\u2501\u2501\u2501\u2501\u2501\u2501\u2501\u2501\u2501\u2501\u001b[0m\u001b[91m\u2578\u001b[0m\u001b[90m\u2501\u2501\u2501\u2501\u2501\u2501\u001b[0m \u001b[32m11/13\u001b[0m [matplotlib]"
     ]
    },
    {
     "name": "stdout",
     "output_type": "stream",
     "text": [
      "\r",
      "\u001b[2K   \u001b[91m\u2501\u2501\u2501\u2501\u2501\u2501\u2501\u2501\u2501\u2501\u2501\u2501\u2501\u2501\u2501\u2501\u2501\u2501\u2501\u2501\u2501\u2501\u2501\u2501\u2501\u2501\u2501\u2501\u2501\u2501\u2501\u2501\u2501\u001b[0m\u001b[91m\u2578\u001b[0m\u001b[90m\u2501\u2501\u2501\u2501\u2501\u2501\u001b[0m \u001b[32m11/13\u001b[0m [matplotlib]"
     ]
    },
    {
     "name": "stdout",
     "output_type": "stream",
     "text": [
      "\r",
      "\u001b[2K   \u001b[91m\u2501\u2501\u2501\u2501\u2501\u2501\u2501\u2501\u2501\u2501\u2501\u2501\u2501\u2501\u2501\u2501\u2501\u2501\u2501\u2501\u2501\u2501\u2501\u2501\u2501\u2501\u2501\u2501\u2501\u2501\u2501\u2501\u2501\u001b[0m\u001b[91m\u2578\u001b[0m\u001b[90m\u2501\u2501\u2501\u2501\u2501\u2501\u001b[0m \u001b[32m11/13\u001b[0m [matplotlib]"
     ]
    },
    {
     "name": "stdout",
     "output_type": "stream",
     "text": [
      "\r",
      "\u001b[2K   \u001b[91m\u2501\u2501\u2501\u2501\u2501\u2501\u2501\u2501\u2501\u2501\u2501\u2501\u2501\u2501\u2501\u2501\u2501\u2501\u2501\u2501\u2501\u2501\u2501\u2501\u2501\u2501\u2501\u2501\u2501\u2501\u2501\u2501\u2501\u001b[0m\u001b[91m\u2578\u001b[0m\u001b[90m\u2501\u2501\u2501\u2501\u2501\u2501\u001b[0m \u001b[32m11/13\u001b[0m [matplotlib]"
     ]
    },
    {
     "name": "stdout",
     "output_type": "stream",
     "text": [
      "\r",
      "\u001b[2K   \u001b[91m\u2501\u2501\u2501\u2501\u2501\u2501\u2501\u2501\u2501\u2501\u2501\u2501\u2501\u2501\u2501\u2501\u2501\u2501\u2501\u2501\u2501\u2501\u2501\u2501\u2501\u2501\u2501\u2501\u2501\u2501\u2501\u2501\u2501\u001b[0m\u001b[91m\u2578\u001b[0m\u001b[90m\u2501\u2501\u2501\u2501\u2501\u2501\u001b[0m \u001b[32m11/13\u001b[0m [matplotlib]"
     ]
    },
    {
     "name": "stdout",
     "output_type": "stream",
     "text": [
      "\r",
      "\u001b[2K   \u001b[91m\u2501\u2501\u2501\u2501\u2501\u2501\u2501\u2501\u2501\u2501\u2501\u2501\u2501\u2501\u2501\u2501\u2501\u2501\u2501\u2501\u2501\u2501\u2501\u2501\u2501\u2501\u2501\u2501\u2501\u2501\u2501\u2501\u2501\u001b[0m\u001b[91m\u2578\u001b[0m\u001b[90m\u2501\u2501\u2501\u2501\u2501\u2501\u001b[0m \u001b[32m11/13\u001b[0m [matplotlib]"
     ]
    },
    {
     "name": "stdout",
     "output_type": "stream",
     "text": [
      "\r",
      "\u001b[2K   \u001b[91m\u2501\u2501\u2501\u2501\u2501\u2501\u2501\u2501\u2501\u2501\u2501\u2501\u2501\u2501\u2501\u2501\u2501\u2501\u2501\u2501\u2501\u2501\u2501\u2501\u2501\u2501\u2501\u2501\u2501\u2501\u2501\u2501\u2501\u001b[0m\u001b[91m\u2578\u001b[0m\u001b[90m\u2501\u2501\u2501\u2501\u2501\u2501\u001b[0m \u001b[32m11/13\u001b[0m [matplotlib]"
     ]
    },
    {
     "name": "stdout",
     "output_type": "stream",
     "text": [
      "\r",
      "\u001b[2K   \u001b[91m\u2501\u2501\u2501\u2501\u2501\u2501\u2501\u2501\u2501\u2501\u2501\u2501\u2501\u2501\u2501\u2501\u2501\u2501\u2501\u2501\u2501\u2501\u2501\u2501\u2501\u2501\u2501\u2501\u2501\u2501\u2501\u2501\u2501\u001b[0m\u001b[91m\u2578\u001b[0m\u001b[90m\u2501\u2501\u2501\u2501\u2501\u2501\u001b[0m \u001b[32m11/13\u001b[0m [matplotlib]"
     ]
    },
    {
     "name": "stdout",
     "output_type": "stream",
     "text": [
      "\r",
      "\u001b[2K   \u001b[91m\u2501\u2501\u2501\u2501\u2501\u2501\u2501\u2501\u2501\u2501\u2501\u2501\u2501\u2501\u2501\u2501\u2501\u2501\u2501\u2501\u2501\u2501\u2501\u2501\u2501\u2501\u2501\u2501\u2501\u2501\u2501\u2501\u2501\u001b[0m\u001b[91m\u2578\u001b[0m\u001b[90m\u2501\u2501\u2501\u2501\u2501\u2501\u001b[0m \u001b[32m11/13\u001b[0m [matplotlib]"
     ]
    },
    {
     "name": "stdout",
     "output_type": "stream",
     "text": [
      "\r",
      "\u001b[2K   \u001b[91m\u2501\u2501\u2501\u2501\u2501\u2501\u2501\u2501\u2501\u2501\u2501\u2501\u2501\u2501\u2501\u2501\u2501\u2501\u2501\u2501\u2501\u2501\u2501\u2501\u2501\u2501\u2501\u2501\u2501\u2501\u2501\u2501\u2501\u001b[0m\u001b[91m\u2578\u001b[0m\u001b[90m\u2501\u2501\u2501\u2501\u2501\u2501\u001b[0m \u001b[32m11/13\u001b[0m [matplotlib]"
     ]
    },
    {
     "name": "stdout",
     "output_type": "stream",
     "text": [
      "\r",
      "\u001b[2K   \u001b[91m\u2501\u2501\u2501\u2501\u2501\u2501\u2501\u2501\u2501\u2501\u2501\u2501\u2501\u2501\u2501\u2501\u2501\u2501\u2501\u2501\u2501\u2501\u2501\u2501\u2501\u2501\u2501\u2501\u2501\u2501\u2501\u2501\u2501\u001b[0m\u001b[91m\u2578\u001b[0m\u001b[90m\u2501\u2501\u2501\u2501\u2501\u2501\u001b[0m \u001b[32m11/13\u001b[0m [matplotlib]"
     ]
    },
    {
     "name": "stdout",
     "output_type": "stream",
     "text": [
      "\r",
      "\u001b[2K   \u001b[91m\u2501\u2501\u2501\u2501\u2501\u2501\u2501\u2501\u2501\u2501\u2501\u2501\u2501\u2501\u2501\u2501\u2501\u2501\u2501\u2501\u2501\u2501\u2501\u2501\u2501\u2501\u2501\u2501\u2501\u2501\u2501\u2501\u2501\u2501\u2501\u2501\u001b[0m\u001b[91m\u2578\u001b[0m\u001b[90m\u2501\u2501\u2501\u001b[0m \u001b[32m12/13\u001b[0m [seaborn]"
     ]
    },
    {
     "name": "stdout",
     "output_type": "stream",
     "text": [
      "\r",
      "\u001b[2K   \u001b[91m\u2501\u2501\u2501\u2501\u2501\u2501\u2501\u2501\u2501\u2501\u2501\u2501\u2501\u2501\u2501\u2501\u2501\u2501\u2501\u2501\u2501\u2501\u2501\u2501\u2501\u2501\u2501\u2501\u2501\u2501\u2501\u2501\u2501\u2501\u2501\u2501\u001b[0m\u001b[91m\u2578\u001b[0m\u001b[90m\u2501\u2501\u2501\u001b[0m \u001b[32m12/13\u001b[0m [seaborn]"
     ]
    },
    {
     "name": "stdout",
     "output_type": "stream",
     "text": [
      "\r",
      "\u001b[2K   \u001b[90m\u2501\u2501\u2501\u2501\u2501\u2501\u2501\u2501\u2501\u2501\u2501\u2501\u2501\u2501\u2501\u2501\u2501\u2501\u2501\u2501\u2501\u2501\u2501\u2501\u2501\u2501\u2501\u2501\u2501\u2501\u2501\u2501\u2501\u2501\u2501\u2501\u2501\u2501\u2501\u2501\u001b[0m \u001b[32m13/13\u001b[0m [seaborn]\r\n",
      "\u001b[?25h\r",
      "\u001b[1A\u001b[2KSuccessfully installed contourpy-1.3.3 cycler-0.12.1 fonttools-4.60.1 kiwisolver-1.4.9 matplotlib-3.10.6 numpy-2.3.3 pandas-2.3.3 pillow-11.3.0 pyparsing-3.2.5 pytz-2025.2 scipy-1.16.2 seaborn-0.13.2 tzdata-2025.2\r\n",
      "\u001b[33mWARNING: Running pip as the 'root' user can result in broken permissions and conflicting behaviour with the system package manager, possibly rendering your system unusable. It is recommended to use a virtual environment instead: https://pip.pypa.io/warnings/venv. Use the --root-user-action option if you know what you are doing and want to suppress this warning.\u001b[0m\u001b[33m\r\n",
      "\u001b[0m"
     ]
    },
    {
     "name": "stdout",
     "output_type": "stream",
     "text": [
      "Note: you may need to restart the kernel to use updated packages.\n"
     ]
    }
   ],
   "source": [
    "# 1. Install needed packages (run once per environment)\n",
    "%pip install pandas numpy matplotlib seaborn scipy"
   ]
  },
  {
   "cell_type": "code",
   "execution_count": 2,
   "id": "ade82fa9",
   "metadata": {
    "execution": {
     "iopub.execute_input": "2025-10-02T09:25:30.340463Z",
     "iopub.status.busy": "2025-10-02T09:25:30.339371Z",
     "iopub.status.idle": "2025-10-02T09:25:31.635495Z",
     "shell.execute_reply": "2025-10-02T09:25:31.634794Z"
    }
   },
   "outputs": [
    {
     "name": "stdout",
     "output_type": "stream",
     "text": [
      "Repository root resolved to: /workspace/risk_bank\n",
      "Accounting input   \u2192 FOUND\n",
      "Marketcap input    \u2192 FOUND\n",
      "Equity vol input   \u2192 FOUND\n",
      "Risk-free input    \u2192 FOUND\n"
     ]
    }
   ],
   "source": [
    "# 1. Setup and Imports (with correct file names)\n",
    "import pandas as pd\n",
    "import numpy as np\n",
    "from scipy.stats import norm\n",
    "from scipy.optimize import least_squares\n",
    "from pathlib import Path\n",
    "import logging\n",
    "import re\n",
    "from tqdm.auto import tqdm\n",
    "\n",
    "# 1.1 Locate workspace root\n",
    "def find_repo_root(start: Path) -> Path:\n",
    "    for candidate in [start, *start.parents]:\n",
    "        if (candidate / '.git').exists():\n",
    "            return candidate\n",
    "    return start\n",
    "\n",
    "base_dir = find_repo_root(Path.cwd())\n",
    "print(f\"Repository root resolved to: {base_dir}\")\n",
    "\n",
    "# 1.2 Time horizon (configured in parameter cell)\n",
    "\n",
    "# 1.3 File paths (corrected market-cap filename)\n",
    "model_fp      = base_dir / 'data' / 'clean' / 'Book2_clean.csv'\n",
    "marketcap_fp  = base_dir / 'data' / 'clean' / 'all_banks_marketcap_annual_2016_2023.csv'\n",
    "vol_fp        = base_dir / 'data' / 'clean' / 'equity_volatility_by_year.csv'\n",
    "rf_fp         = base_dir / 'data' / 'clean' / 'fama_french_factors_annual_clean.csv'\n",
    "log_fp        = base_dir / 'data' / 'logs' / 'dd_pd_market_log.txt'\n",
    "output_dir    = base_dir / 'data' / 'outputs' / 'datasheet'\n",
    "archive_dir   = base_dir / 'archive' / 'datasets'\n",
    "\n",
    "# 1.4 Ensure directories exist\n",
    "log_fp.parent.mkdir(parents=True, exist_ok=True)\n",
    "output_dir.mkdir(parents=True, exist_ok=True)\n",
    "archive_dir.mkdir(parents=True, exist_ok=True)\n",
    "\n",
    "# 1.5 Existence check\n",
    "for name, fp in [\n",
    "    ('Accounting input', model_fp),\n",
    "    ('Marketcap input', marketcap_fp),\n",
    "    ('Equity vol input', vol_fp),\n",
    "    ('Risk-free input', rf_fp),\n",
    "]:\n",
    "    print(f\"{name:18s} \u2192\", \"FOUND\" if fp.exists() else f\"MISSING ({fp.name})\")\n",
    "\n",
    "# 1.6 Deduplication audit log placeholder\n",
    "duplicate_log_entries = []\n",
    "invalid_input_summary = None\n",
    "surviving_rows_by_year = None\n"
   ]
  },
  {
   "cell_type": "markdown",
   "id": "ba92c20c",
   "metadata": {},
   "source": [
    "## 2. Load and Inspect Core Data\n",
    "\n",
    "- Read the main Book2 input file  \n",
    "- Clean and convert the `year` column  \n",
    "- Merge in the annual risk-free rate from Fama-French  "
   ]
  },
  {
   "cell_type": "code",
   "execution_count": 3,
   "id": "79a32e25",
   "metadata": {
    "execution": {
     "iopub.execute_input": "2025-10-02T09:25:31.638919Z",
     "iopub.status.busy": "2025-10-02T09:25:31.638448Z",
     "iopub.status.idle": "2025-10-02T09:25:31.738867Z",
     "shell.execute_reply": "2025-10-02T09:25:31.738248Z"
    }
   },
   "outputs": [
    {
     "name": "stdout",
     "output_type": "stream",
     "text": [
      "[INFO] Loading Book2 data...\n",
      "\u2192 1425 rows, 1424 unique (instrument, year)\n",
      "\u2192 Dropping 1 duplicate instrument-year rows (kept max debt_total)\n",
      "   Duplicate PNC 2018: kept debt_total=60,263.0; dropped=57,419.0\n",
      "\u2192 After merging rf, 1424 rows remain\n"
     ]
    }
   ],
   "source": [
    "# 2.1 Load Book2 data\n",
    "print('[INFO] Loading Book2 data...')\n",
    "df = pd.read_csv(model_fp)\n",
    "print(f\"\u2192 {df.shape[0]} rows, {df[['instrument','year']].drop_duplicates().shape[0]} unique (instrument, year)\")\n",
    "\n",
    "# 2.1a Deduplicate instrument-year rows by keeping the largest debt_total\n",
    "sort_cols = ['instrument', 'year', 'debt_total']\n",
    "df_sorted = df.sort_values(sort_cols, ascending=[True, True, False])\n",
    "deduped = df_sorted.drop_duplicates(subset=['instrument', 'year'], keep='first')\n",
    "removed = df_sorted.loc[~df_sorted.index.isin(deduped.index), ['instrument', 'year', 'debt_total']]\n",
    "if not removed.empty:\n",
    "    print(f\"\u2192 Dropping {removed.shape[0]} duplicate instrument-year rows (kept max debt_total)\")\n",
    "    summary = (\n",
    "        df_sorted.groupby(['instrument', 'year'])['debt_total']\n",
    "        .apply(list)\n",
    "        .reset_index()\n",
    "    )\n",
    "    summary = summary[summary['debt_total'].apply(len) > 1]\n",
    "    for _, row in summary.iterrows():\n",
    "        debt_values = list(row['debt_total'])\n",
    "        kept = debt_values[0]\n",
    "        dropped = debt_values[1:]\n",
    "        dropped_str = ', '.join(f\"{val:,.1f}\" for val in dropped)\n",
    "        message = (\n",
    "            f\"Duplicate {row['instrument']} {row['year']}: \"\n",
    "            f\"kept debt_total={kept:,.1f}; dropped={dropped_str}\"\n",
    "        )\n",
    "        print('   ' + message)\n",
    "        duplicate_log_entries.append(message)\n",
    "    df = deduped.reset_index(drop=True)\n",
    "else:\n",
    "    print(\"\u2192 No duplicate instrument-year rows found (all unique).\")\n",
    "    df = df_sorted.reset_index(drop=True)\n",
    "\n",
    "# 2.2  Clean year column\n",
    "df = df[df['year'].notnull()].copy()\n",
    "df['year'] = df['year'].astype(float).astype(int)\n",
    "\n",
    "# 2.3 Merge risk-free rate\n",
    "rf_df = pd.read_csv(rf_fp)\n",
    "df = df.merge(rf_df[['year','rf']], on='year', how='left')\n",
    "df['rf'] = df['rf'] / 100    # convert percent to decimal\n",
    "\n",
    "print(f\"\u2192 After merging rf, {df.shape[0]} rows remain\")\n",
    "\n",
    "if barrier_option == \"A\":\n",
    "    df['F'] = df['debt_total'] * 1_000_000  # F convention: total debt due to missing short/long split\n",
    "elif barrier_option == \"B\":\n",
    "    required_cols = {'debt_short_term', 'debt_long_term'}\n",
    "    missing = [col for col in required_cols if col not in df.columns]\n",
    "    if missing:\n",
    "        missing_str = \", \".join(missing)\n",
    "        raise ValueError(\n",
    "            \"barrier_option='B' requires short/long-term debt columns. \"\n",
    "            f\"Missing: {missing_str}. Add these columns before enabling option B.\"\n",
    "        )\n",
    "    df['F'] = (df['debt_short_term'] + 0.5 * df['debt_long_term']) * 1_000_000\n",
    "else:\n",
    "    raise ValueError(f\"Unsupported barrier_option: {barrier_option}\")\n",
    "print(f\"[INFO] Constructed F barrier for {df.shape[0]} rows using barrier_option={barrier_option}\")\n",
    "\n"
   ]
  },
  {
   "cell_type": "markdown",
   "id": "cf131177",
   "metadata": {},
   "source": [
    "## 3. Prepare Identifiers and Dates\n",
    "\n",
    "- Standardize tickers by dropping exchange suffixes  \n",
    "- Parse the `date` column and extract `Month`  \n",
    "- Create a simple `symbol` field for merging"
   ]
  },
  {
   "cell_type": "code",
   "execution_count": 4,
   "id": "1623898e",
   "metadata": {
    "execution": {
     "iopub.execute_input": "2025-10-02T09:25:31.743719Z",
     "iopub.status.busy": "2025-10-02T09:25:31.743210Z",
     "iopub.status.idle": "2025-10-02T09:25:31.755989Z",
     "shell.execute_reply": "2025-10-02T09:25:31.754954Z"
    }
   },
   "outputs": [],
   "source": [
    "# 3.1 Helper to strip suffixes like .N, .OQ, etc.\n",
    "def standardize_ticker(t):\n",
    "    return str(t).split('.', 1)[0] if pd.notnull(t) else t\n",
    "\n",
    "# 3.2Apply to our main DataFrame\n",
    "df['ticker_prefix'] = df['instrument'].apply(standardize_ticker)\n",
    "\n",
    "# 3.3 Ensure date is datetime, then extract month\n",
    "if 'date' in df.columns:\n",
    "    df['date'] = pd.to_datetime(df['date'])\n",
    "else:\n",
    "    df = df.assign(date=pd.NaT)\n",
    "\n",
    "df['Month'] = df['date'].dt.month\n",
    "\n",
    "# 3.4 Create 'symbol' for merge keys (same as ticker_prefix)\n",
    "df['symbol'] = df['instrument'].apply(lambda x: str(x).split('.', 1)[0])"
   ]
  },
  {
   "cell_type": "markdown",
   "id": "3782546d",
   "metadata": {},
   "source": [
    "## 4. Compute Market Capitalization\n",
    "\n",
    "- Load monthly price/share data  \n",
    "- Calculate market cap (price \u00d7 shares) in millions USD  \n",
    "- Select December (or most recent) value for each symbol-year  \n",
    "- Merge annual market cap into our main `df`"
   ]
  },
  {
   "cell_type": "code",
   "execution_count": 5,
   "id": "adb31cb4",
   "metadata": {
    "execution": {
     "iopub.execute_input": "2025-10-02T09:25:31.758812Z",
     "iopub.status.busy": "2025-10-02T09:25:31.758557Z",
     "iopub.status.idle": "2025-10-02T09:25:31.784208Z",
     "shell.execute_reply": "2025-10-02T09:25:31.783567Z"
    }
   },
   "outputs": [
    {
     "name": "stdout",
     "output_type": "stream",
     "text": [
      "Columns in mc: ['symbol', 'year', 'market_cap']\n",
      "  instrument  year    market_cap\n",
      "0       ABCB  2016  3.004515e+09\n",
      "1       ABCB  2017  3.321505e+09\n",
      "2       ABCB  2018  2.182408e+09\n",
      "3       ABCB  2019  2.931470e+09\n",
      "4       ABCB  2020  2.623438e+09\n"
     ]
    }
   ],
   "source": [
    "# 4.1 Load annual market\u2010cap data\n",
    "mc = pd.read_csv(marketcap_fp)\n",
    "print(\"Columns in mc:\", mc.columns.tolist())\n",
    "\n",
    "# 4.2 Compute market_cap only if needed\n",
    "if 'market_cap' not in mc.columns:\n",
    "    # fallback: compute from dec_price & shares_outstanding\n",
    "    mc['market_cap'] = mc['dec_price'] * mc['shares_outstanding']\n",
    "\n",
    "# 4.3 Standardize the ticker (drop suffixes)\n",
    "mc['symbol'] = mc['symbol'].apply(standardize_ticker)\n",
    "\n",
    "# 4.4 Parse the fiscal date and extract year/month\n",
    "#    If this annual file has no 'fiscal_date' but has 'year', skip parsing\n",
    "if 'fiscal_date' in mc.columns:\n",
    "    mc['fiscal_date'] = pd.to_datetime(mc['fiscal_date'])\n",
    "    mc['year']       = mc['fiscal_date'].dt.year\n",
    "else:\n",
    "    # assume the CSV\u2019s 'year' column is correct\n",
    "    mc['year'] = mc['year'].astype(int)\n",
    "\n",
    "# 4.5 We don\u2019t need Month or December flag for annual data, but for consistency:\n",
    "mc['Month']       = mc.get('Month', 12)  # treat all as December\n",
    "mc['is_december'] = True\n",
    "\n",
    "# 4.6 Drop duplicates: keep one record per (symbol, year)\n",
    "mc_annual = (\n",
    "    mc\n",
    "    .dropna(subset=['market_cap'])\n",
    "    .drop_duplicates(subset=['symbol','year'], keep='first')\n",
    ")\n",
    "\n",
    "# 4.7 Merge into main DataFrame\n",
    "df = df.merge(\n",
    "    mc_annual[['symbol','year','market_cap']],\n",
    "    on=['symbol','year'],\n",
    "    how='left'\n",
    ")\n",
    "\n",
    "# 4.8 Quick check\n",
    "print(df[['instrument','year','market_cap']].drop_duplicates().head())"
   ]
  },
  {
   "cell_type": "markdown",
   "id": "4f96be53",
   "metadata": {},
   "source": [
    "## 5. Merge Equity Volatility\n",
    "\n",
    "- Load annualized equity volatility by symbol-year  \n",
    "- Standardize `ticker_prefix`  \n",
    "- Merge into our main `df`, and use a fallback of 0.25 if missing  "
   ]
  },
  {
   "cell_type": "code",
   "execution_count": 6,
   "id": "fd9ff0bf",
   "metadata": {
    "execution": {
     "iopub.execute_input": "2025-10-02T09:25:31.787039Z",
     "iopub.status.busy": "2025-10-02T09:25:31.786826Z",
     "iopub.status.idle": "2025-10-02T09:25:31.814800Z",
     "shell.execute_reply": "2025-10-02T09:25:31.813972Z"
    }
   },
   "outputs": [
    {
     "name": "stdout",
     "output_type": "stream",
     "text": [
      "[WARN] equity_volatility missing; defaulted to 0.25 for:\n",
      "instrument  year\n",
      "      COFS  2019\n",
      "  instrument  year  equity_vol  equity_vol_is_default\n",
      "0       ABCB  2016    0.304515                  False\n",
      "1       ABCB  2017    0.218543                  False\n",
      "2       ABCB  2018    0.323304                  False\n",
      "3       ABCB  2019    0.318140                  False\n",
      "4       ABCB  2020    0.552141                  False\n"
     ]
    }
   ],
   "source": [
    "# 5.1 Load equity volatility data\n",
    "equity_vol = pd.read_csv(vol_fp)\n",
    "\n",
    "# 5.2 Standardize ticker and keep only needed cols\n",
    "equity_vol['ticker_prefix'] = equity_vol['symbol'].apply(standardize_ticker)\n",
    "vol_annual = equity_vol[['ticker_prefix','year','equity_volatility']]\n",
    "\n",
    "# 5.3 Merge into main DataFrame\n",
    "df = df.merge(\n",
    "    vol_annual,\n",
    "    on=['ticker_prefix','year'],\n",
    "    how='left'\n",
    ")\n",
    "\n",
    "# 5.4 Validate required inputs (no fallbacks)\n",
    "required_columns = ['instrument', 'year', 'market_cap', 'equity_volatility', 'rf', 'debt_total']\n",
    "missing_required = [col for col in required_columns if col not in df.columns]\n",
    "if missing_required:\n",
    "    missing_str = ', '.join(missing_required)\n",
    "    raise AssertionError(f\"Missing required columns after merge: {missing_str}\")\n",
    "\n",
    "invalid_mask = df[required_columns].isna().any(axis=1)\n",
    "if invalid_mask.any():\n",
    "    invalid_rows = df.loc[invalid_mask, required_columns].copy()\n",
    "    invalid_rows['missing_fields'] = [\n",
    "        ', '.join(col for col in required_columns if pd.isna(row[col]))\n",
    "        for _, row in invalid_rows.iterrows()\n",
    "    ]\n",
    "    invalid_rows['year'] = invalid_rows['year'].apply(lambda y: int(y) if pd.notna(y) else y)\n",
    "    invalid_input_summary = invalid_rows[['instrument', 'year', 'missing_fields']].copy()\n",
    "    invalid_input_summary['solver_status'] = 'invalid_inputs'\n",
    "    invalid_input_summary = invalid_input_summary[['instrument', 'year', 'missing_fields', 'solver_status']]\n",
    "    print(f\"[WARN] Dropping {len(invalid_input_summary)} rows with missing required inputs (solver_status=invalid_inputs).\")\n",
    "    print(invalid_input_summary[['instrument','year','missing_fields']].to_string(index=False))\n",
    "    df = df.loc[~invalid_mask].copy()\n",
    "else:\n",
    "    invalid_input_summary = None\n",
    "    print(\"[INFO] All required inputs present for merged dataset.\")\n",
    "\n",
    "# 5.5 Finalize equity volatility column without defaults\n",
    "df['equity_vol'] = df['equity_volatility']\n",
    "\n",
    "# 5.6 Surviving row counts by year for audit\n",
    "surviving_rows_by_year = df.groupby('year').size().sort_index()\n",
    "print(\"[INFO] Surviving rows by year after input validation:\")\n",
    "print(surviving_rows_by_year.to_string())\n",
    "\n",
    "# 5.7 Quick check\n",
    "print(df[['instrument','year','equity_vol']].drop_duplicates().head())\n"
   ]
  },
  {
   "cell_type": "markdown",
   "id": "b0774b02",
   "metadata": {},
   "source": [
    "## 6. Define the Merton Model Solver (Revised Equations)\n",
    "\n",
    "In the Merton framework, the firm\u2019s equity is treated as a European call option on its assets. We observe:\n",
    "\n",
    "- **E**: equity market value (scaled market capitalization)  \n",
    "- **sigma_E**: annualized equity volatility  \n",
    "- **F**: total debt (face value)  \n",
    "- **r_f**: risk-free rate  \n",
    "- **T**: time horizon (1 year)  \n",
    "\n",
    "We solve for the unobserved:\n",
    "\n",
    "- **V**: total asset value  \n",
    "- **sigma_V**: asset volatility  \n",
    "\n",
    "by enforcing two conditions:\n",
    "\n",
    "1.  **Option-pricing relation**  \n",
    "    $$\n",
    "      E \\;=\\; V\\,\\Phi(d_{1})\\;-\\;F\\,e^{-r_{f}T}\\,\\Phi(d_{2})\n",
    "    $$\n",
    "2.  **Volatility link**  \n",
    "    $$\n",
    "      \\sigma_{E} \\;=\\;\\frac{V}{E}\\,\\Phi(d_{1})\\,\\sigma_{V}\n",
    "    $$\n",
    "\n",
    "where  \n",
    "$$\n",
    "  d_{1} \\;=\\;\\frac{\\ln\\!\\bigl(V/F\\bigr)\\;+\\;\\bigl(r_{f} + \\tfrac12\\,\\sigma_{V}^{2}\\bigr)\\,T}\n",
    "                      {\\sigma_{V}\\,\\sqrt{T}},\n",
    "  \\quad\n",
    "  d_{2} \\;=\\; d_{1} \\;-\\;\\sigma_{V}\\,\\sqrt{T},\n",
    "$$  \n",
    "and $\\Phi$ is the standard normal CDF.  \n",
    "\n",
    "We use a numerical root-finder (`scipy.optimize.root`) to find $V$, $\\sigma_{V}$ that makes both equations zero:\n",
    "\n",
    "$$\n",
    "\\text{Find }V,\\sigma_{V}\\text{ such that both equations } = 0\n",
    "$$\n",
    "\n",
    "### What the root-finder actually does, in simple terms\n",
    "\n",
    "1. **Start with a guess**  \n",
    "    We begin by guessing values for $(V,\\sigma_{V})$. A natural choice is  \n",
    "    $$\n",
    "      V_0 = E + F,\\quad \\sigma_{V,0} = \\sigma_E\n",
    "    $$  \n",
    "    This says \"assets are roughly equity plus debt\" and \"asset volatility is like equity volatility.\"\n",
    " \n",
    " 2. **Measure \"how wrong\" we are**  \n",
    "    We compute the two expressions  \n",
    "    $$\n",
    "      f_1(V,\\sigma_V),\\quad f_2(V,\\sigma_V)\n",
    "    $$  \n",
    "    which tell us how far from zero each equation is. If both are exactly zero, our guess solves the problem.\n",
    " \n",
    " 3. **Adjust the guess**  \n",
    "    If either $f_1$ or $f_2$ is not zero, the solver estimates a small change to $(V,\\sigma_{V})$ that should educe the errors. It uses derivatives and smart heuristics under the hood.\n",
    " \n",
    " 4. **Repeat until \"close enough\"**  \n",
    "    The process repeats\u2014compute residuals, update guess, compute again\u2014until both residuals are below a tiny tolerance (converged), or we hit an iteration limit (no convergence).\n",
    " \n",
    " 5. **Result**  \n",
    "    - If converged: we obtain $(V^*, \\sigma_{V}^*)$, the asset value and volatility consistent with observed equity data.  \n",
    "    - If not: we flag the failure and typically record NaN values.\n",
    " \n",
    " By packaging our two Merton equations into one Python function, `scipy.optimize.root` handles the iteration, step-size choices, and convergence checks automatically. This allows us to solve these otherwise intractable nonlinear equations with minimal custom code. "
   ]
  },
  {
   "cell_type": "code",
   "execution_count": 7,
   "id": "a81c3bfa",
   "metadata": {
    "execution": {
     "iopub.execute_input": "2025-10-02T09:25:31.818066Z",
     "iopub.status.busy": "2025-10-02T09:25:31.817661Z",
     "iopub.status.idle": "2025-10-02T09:25:31.833923Z",
     "shell.execute_reply": "2025-10-02T09:25:31.832743Z"
    }
   },
   "outputs": [
    {
     "name": "stdout",
     "output_type": "stream",
     "text": [
      "Results for ABCB 2016: asset_value = 3633310216.87, asset_vol = 0.2518, status = converged\n"
     ]
    }
   ],
   "source": [
    "# 7. Define solver and run a quick sanity check\n",
    "\n",
    "# Guarded imports allow this cell to run standalone in interactive sessions\n",
    "try:\n",
    "    pd  # type: ignore[name-defined]\n",
    "except NameError:  # pragma: no cover - interactive safeguard\n",
    "    import pandas as pd  # noqa: F401\n",
    "try:\n",
    "    np  # type: ignore[name-defined]\n",
    "except NameError:  # pragma: no cover - interactive safeguard\n",
    "    import numpy as np\n",
    "try:\n",
    "    norm  # type: ignore[name-defined]\n",
    "except NameError:  # pragma: no cover - interactive safeguard\n",
    "    from scipy.stats import norm  # noqa: F401\n",
    "try:\n",
    "    least_squares  # type: ignore[name-defined]\n",
    "except NameError:  # pragma: no cover - interactive safeguard\n",
    "    from scipy.optimize import least_squares\n",
    "try:\n",
    "    tqdm  # type: ignore[name-defined]\n",
    "except NameError:  # pragma: no cover - interactive safeguard\n",
    "    from tqdm.auto import tqdm\n",
    "\n",
    "if 'T' not in globals():  # pragma: no cover - interactive safeguard\n",
    "    T = 1.0\n",
    "\n",
    "\n",
    "def merton_solver(row, *, T=T, tol_E=tol_E, tol_sigma=tol_sigma, max_iter=max_iter):\n",
    "    '''Solve for asset value and volatility using the Merton model.\n",
    "\n",
    "    Returns a dictionary with solver diagnostics so downstream analysis can\n",
    "    inspect failures without re-running the optimizer.\n",
    "    '''\n",
    "    result_template = {\n",
    "        'asset_value': np.nan,\n",
    "        'asset_vol': np.nan,\n",
    "        'E_model': np.nan,\n",
    "        'sigmaE_model': np.nan,\n",
    "        'r1': np.nan,\n",
    "        'r2': np.nan,\n",
    "        'solver_message': '',\n",
    "        'nfev': np.nan,\n",
    "        'iterations': np.nan,\n",
    "        'status_flag': 'invalid_inputs',\n",
    "    }\n",
    "\n",
    "    E = row['market_cap']\n",
    "    sigma_E = row['equity_vol']\n",
    "    F = row['F']\n",
    "    r_f = row['rf']\n",
    "\n",
    "    # 1. Input validation\n",
    "    if pd.isna(E) or pd.isna(sigma_E) or pd.isna(F):\n",
    "        result = result_template.copy()\n",
    "        result['solver_message'] = 'missing_input'\n",
    "        return result\n",
    "    if E <= 0 or sigma_E <= 0 or F < 0:\n",
    "        result = result_template.copy()\n",
    "        result['solver_message'] = 'invalid_value'\n",
    "        return result\n",
    "    if F == 0:\n",
    "        result = result_template.copy()\n",
    "        result['status_flag'] = 'no_debt'\n",
    "        result['solver_message'] = 'zero_debt'\n",
    "        return result\n",
    "\n",
    "    # 2. System of Merton equations\n",
    "    def residuals(x):\n",
    "        asset_value, sigma_V = x\n",
    "        if sigma_V <= 0:\n",
    "            return np.array([np.inf, np.inf])\n",
    "        d1 = (np.log(asset_value / F) + (r_f + 0.5 * sigma_V**2) * T) / (sigma_V * np.sqrt(T))\n",
    "        d2 = d1 - sigma_V * np.sqrt(T)\n",
    "        E_model = asset_value * norm.cdf(d1) - F * np.exp(-r_f * T) * norm.cdf(d2)\n",
    "        sigmaE_model_obs = (asset_value / max(E, np.finfo(float).eps)) * norm.cdf(d1) * sigma_V\n",
    "        r1 = E_model - E\n",
    "        r2 = sigmaE_model_obs - sigma_E\n",
    "        return np.array([r1, r2])\n",
    "\n",
    "    # 3. Initial guess and solve (with bounds)\n",
    "    lower_V = np.nextafter(F, np.inf)\n",
    "    lower_bounds = np.array([lower_V, 1e-6])\n",
    "    upper_bounds = np.array([np.inf, np.inf])\n",
    "    initial_V = max(E + F, lower_V * 1.0001)\n",
    "    initial_sigma = max(min(sigma_E, 1.0), 1e-6)\n",
    "    initial = np.array([initial_V, initial_sigma])\n",
    "\n",
    "    try:\n",
    "        sol = least_squares(\n",
    "            residuals,\n",
    "            initial,\n",
    "            bounds=(lower_bounds, upper_bounds),\n",
    "            loss='soft_l1',\n",
    "            max_nfev=max_iter,\n",
    "        )\n",
    "    except ValueError as exc:\n",
    "        result = result_template.copy()\n",
    "        result['solver_message'] = f'least_squares_error: {exc}'\n",
    "        return result\n",
    "\n",
    "    asset_value, sigma_V = sol.x\n",
    "    d1 = (np.log(asset_value / F) + (r_f + 0.5 * sigma_V**2) * T) / (sigma_V * np.sqrt(T))\n",
    "    d2 = d1 - sigma_V * np.sqrt(T)\n",
    "    E_model = asset_value * norm.cdf(d1) - F * np.exp(-r_f * T) * norm.cdf(d2)\n",
    "    if E_model <= 0:\n",
    "        sigmaE_model = np.nan\n",
    "    else:\n",
    "        sigmaE_model = (asset_value / E_model) * norm.cdf(d1) * sigma_V\n",
    "    sigmaE_model_obs = (asset_value / max(E, np.finfo(float).eps)) * norm.cdf(d1) * sigma_V\n",
    "    r1 = E_model - E\n",
    "    r2 = sigmaE_model_obs - sigma_E\n",
    "\n",
    "    converged = sol.success and abs(r1) <= tol_E and abs(r2) <= tol_sigma\n",
    "\n",
    "    result = result_template.copy()\n",
    "    result.update({\n",
    "        'asset_value': asset_value,\n",
    "        'asset_vol': sigma_V,\n",
    "        'E_model': E_model,\n",
    "        'sigmaE_model': sigmaE_model,\n",
    "        'r1': r1,\n",
    "        'r2': r2,\n",
    "        'solver_message': sol.message,\n",
    "        'nfev': sol.nfev,\n",
    "        'iterations': getattr(sol, 'njev', np.nan),\n",
    "        'status_flag': 'converged' if converged else 'no_converge',\n",
    "    })\n",
    "    return result\n",
    "\n",
    "\n",
    "def run_merton_solver(df):\n",
    "    '''Apply the Merton solver row-wise with a progress bar.'''\n",
    "    records = []\n",
    "    for _, row in tqdm(df.iterrows(), total=len(df), desc='Solving Merton model'):\n",
    "        records.append(merton_solver(row))\n",
    "    return pd.DataFrame(records, index=df.index)\n",
    "\n",
    "\n",
    "# ---- Quick check on the first row ----\n",
    "first_row = df.iloc[0]\n",
    "first_result = merton_solver(first_row)\n",
    "print(\n",
    "    f\"Results for {first_row['instrument']} {first_row['year']}: \"\n",
    "    f\"asset_value = {first_result['asset_value']:.2f}, \"\n",
    "    f\"asset_vol = {first_result['asset_vol']:.4f}, \"\n",
    "    f\"status = {first_result['status_flag']}\"\n",
    ")"
   ]
  },
  {
   "cell_type": "markdown",
   "id": "7a297136",
   "metadata": {},
   "source": []
  },
  {
   "cell_type": "markdown",
   "id": "ff7650e9",
   "metadata": {},
   "source": [
    "## 7 Compute Distance to Default (DD) and Probability of Default (PD) in Detail\n",
    "\n",
    "Once we have solved for:\n",
    "\n",
    "- $V$ = total asset value  \n",
    "- $sigma_V$ = asset volatility  \n",
    "\n",
    "we compute:\n",
    "\n",
    "1. **Distance to Default**  \n",
    "   \n",
    "$$DD = (ln(V/F) + (r_f - 0.5 sigma_V^2)T) / (sigma_V * \u221aT)\n",
    "  $$ \n",
    "   - **Numerator**  \n",
    "     - $ln(V/F)$: how far assets exceed debt on a log scale  \n",
    "     - $(r_f - 0.5 sigma_V^2)T$: drift adjustment for risk-free growth minus half variance  \n",
    "   - **Denominator**  \n",
    "     - $sigma_V \u221aT$: scales by volatility over the horizon  \n",
    "\n",
    "2. **Probability of Default**  \n",
    "   \n",
    "   PD = \u03a6(-DD)\n",
    "   \n",
    "   where \u03a6 is the standard normal CDF. Intuitively, low DD means a higher chance assets fall below debt.\n",
    "\n",
    "We also handle the special case **no debt** (F=0), for which DD and PD are undefined (we set them to NaN).\n",
    "\n",
    "**IMPORTANT FIX**: The original code had a unit mismatch where:\n",
    "- Market cap (E) was in actual USD \n",
    "- Debt total (F) was in USD millions from the source data\n",
    "\n",
    "This created unrealistic V/F ratios of millions, leading to DDm values >100 and PDm = 0 due to numerical underflow. The fix multiplies `debt_total` by 1,000,000 to convert to actual USD.\n",
    "\n",
    "Below is code that computes these step by step, with comments."
   ]
  },
  {
   "cell_type": "code",
   "execution_count": 8,
   "id": "f55d3ac4",
   "metadata": {
    "execution": {
     "iopub.execute_input": "2025-10-02T09:25:31.837265Z",
     "iopub.status.busy": "2025-10-02T09:25:31.836937Z",
     "iopub.status.idle": "2025-10-02T09:25:34.645030Z",
     "shell.execute_reply": "2025-10-02T09:25:34.644168Z"
    }
   },
   "outputs": [
    {
     "name": "stdout",
     "output_type": "stream",
     "text": [
      "[INFO] Running Merton solver on each row...\n"
     ]
    },
    {
     "name": "stdout",
     "output_type": "stream",
     "text": [
      "  instrument  year   asset_value  asset_vol        DDm           PDm\n",
      "0       ABCB  2016  3.633310e+09   0.251814   6.839918  3.961936e-12\n",
      "1       ABCB  2017  3.685325e+09   0.196968  11.656996  1.056848e-31\n",
      "2       ABCB  2018  2.439065e+09   0.289283   7.638828  1.096040e-14\n",
      "3       ABCB  2019  4.445621e+09   0.209784   5.029277  2.461669e-07\n",
      "4       ABCB  2020  3.182106e+09   0.455216   3.594155  1.627229e-04\n",
      "\n",
      "Solver status counts:\n",
      "solver_status\n",
      "converged        1404\n",
      "no_debt            16\n",
      "missing_input       2\n",
      "no_converge         2\n",
      "Name: count, dtype: int64\n"
     ]
    }
   ],
   "source": [
    "# 7.1 Run the solver across all rows\n",
    "print('[INFO] Running Merton solver on each row...')\n",
    "solver_results = run_merton_solver(df)\n",
    "df = pd.concat([df, solver_results], axis=1)\n",
    "\n",
    "# 7.2 Compute Distance to Default (DDm) and Probability of Default (PDm)\n",
    "#     DDm = (ln(V/F) + (r_f \u2212 0.5 sigma_V^2) T) / (sigma_V \u221aT)\n",
    "#     PDm = \u03a6(\u2212DDm)\n",
    "# Use precomputed barrier F in USD for consistent V/F calculation\n",
    "F_values = df['F']\n",
    "converged_mask = df['status_flag'] == 'converged'\n",
    "dd_values = (np.log(df['asset_value'] / F_values) + (df['rf'] - 0.5 * df['asset_vol']**2) * T) / (df['asset_vol'] * np.sqrt(T))\n",
    "df['DD_m'] = np.where(converged_mask, dd_values, np.nan)\n",
    "df['PD_m'] = np.where(converged_mask, norm.cdf(-df['DD_m']), np.nan)\n",
    "df['solver_status'] = df['status_flag']\n",
    "\n",
    "# 7.3 Quick sanity check\n",
    "preview_cols = [\n",
    "    'instrument', 'year', 'asset_value', 'asset_vol', 'E_model', 'sigmaE_model',\n",
    "    'r1', 'r2', 'DDm', 'PDm', 'status_flag', 'solver_status'\\n",
    "]\n",
    "print(df[preview_cols].head())\n",
    "print()\n",
    "print('Solver status counts:')\n",
    "print(df['status_flag'].value_counts())"
   ]
  },
  {
   "cell_type": "markdown",
   "id": "30f405d6",
   "metadata": {},
   "source": [
    "## 8. Export Results and Log Diagnostics\n",
    "\n",
    "In this final step, we:\n",
    "\n",
    "1. **Save** the full DataFrame (including `DDm` and `PDm`) to CSV for downstream modelling.  \n",
    "2. **Append** a diagnostic summary to our log file, including:  \n",
    "   - Total rows processed  \n",
    "   - Solver status breakdown  \n",
    "   - Basic statistics on `DDm` and `PDm`  \n",
    "   - Count of missing or failed estimates  "
   ]
  },
  {
   "cell_type": "code",
   "execution_count": 9,
   "id": "c0511cf2",
   "metadata": {
    "execution": {
     "iopub.execute_input": "2025-10-02T09:25:34.647748Z",
     "iopub.status.busy": "2025-10-02T09:25:34.647520Z",
     "iopub.status.idle": "2025-10-02T09:25:34.746229Z",
     "shell.execute_reply": "2025-10-02T09:25:34.745259Z"
    }
   },
   "outputs": [
    {
     "name": "stdout",
     "output_type": "stream",
     "text": [
      "[INFO] Results exported to: /workspace/risk_bank/data/merged_inputs/dd_pd_market.csv\n",
      "[INFO] Diagnostics appended to log: /workspace/risk_bank/data/logs/dd_pd_market_log.txt\n"
     ]
    }
   ],
   "source": [
    "# 8.1 Archiving and timestamped output\n",
    "from datetime import datetime\n",
    "import pytz\n",
    "import shutil\n",
    "import glob\n",
    "import os\n",
    "\n",
    "def get_timestamp_cdt():\n",
    "    \"\"\"Generate timestamp in YYYYMMDD_HHMMSS format (CDT timezone)\"\"\"\n",
    "    cdt = pytz.timezone('America/Chicago')\n",
    "    return datetime.now(cdt).strftime('%Y%m%d_%H%M%S')\n",
    "\n",
    "def archive_old_files(output_dir, archive_dir, dataset_type, max_keep=5):\n",
    "    \"\"\"Move old files of dataset_type to archive, keeping only max_keep most recent\"\"\"\n",
    "    pattern = str(output_dir / f\"{dataset_type}_*.csv\")\n",
    "    old_files = sorted(glob.glob(pattern), key=lambda x: os.path.getmtime(x), reverse=True)\n",
    "    \n",
    "    # Move all existing files to archive\n",
    "    for old_file in old_files:\n",
    "        archive_path = archive_dir / os.path.basename(old_file)\n",
    "        shutil.move(old_file, str(archive_path))\n",
    "        print(f\"[ARCHIVE] Moved to archive: {os.path.basename(old_file)}\")\n",
    "    \n",
    "    # Clean up archive to keep only max_keep files\n",
    "    archive_pattern = str(archive_dir / f\"{dataset_type}_*.csv\")\n",
    "    archive_files = sorted(glob.glob(archive_pattern), key=lambda x: os.path.getmtime(x), reverse=True)\n",
    "    \n",
    "    for old_archive in archive_files[max_keep:]:\n",
    "        os.remove(old_archive)\n",
    "        print(f\"[CLEANUP] Removed old archive: {os.path.basename(old_archive)}\")\n",
    "\n",
    "# Rename columns to standard naming convention\n",
    "df = df.rename(columns={'DDm': 'DD_m', 'PDm': 'PD_m'})\n",
    "\n",
    "# Archive old market files and save new one with timestamp\n",
    "archive_old_files(output_dir, archive_dir, 'market', max_keep=5)\n",
    "\n",
    "timestamp = get_timestamp_cdt()\n",
    "output_fp = output_dir / f'market_{timestamp}.csv'\n",
    "df.to_csv(output_fp, index=False)\n",
    "print(f\"[INFO] Results exported to: {output_fp}\")\n",
    "\n",
    "# 8.2 Append diagnostics to the log file\n",
    "with open(log_fp, 'a') as log:\n",
    "    log.write(\"\\n=== DD/PD Market-Based Model Diagnostics ===\\n\")\n",
    "    # Total rows\n",
    "    total = len(df)\n",
    "    log.write(f\"Total rows processed: {total}\\n\")\n",
    "    # Deduplication audit\n",
    "    if duplicate_log_entries:\n",
    "        log.write(\"\\nDeduplicated instrument-year rows (kept max debt_total):\\n\")\n",
    "        for entry in duplicate_log_entries:\n",
    "            log.write(entry + \"\\n\")\n",
    "    else:\n",
    "        log.write(\"\\nDeduplicated instrument-year rows: none detected.\\n\")\n",
    "    # Rows removed due to invalid inputs\n",
    "    if invalid_input_summary is not None and not invalid_input_summary.empty:\n",
    "        log.write(\"\\nRows dropped due to invalid inputs (solver_status=invalid_inputs):\\n\")\n",
    "        log.write(invalid_input_summary.to_string(index=False) + \"\\n\")\n",
    "    else:\n",
    "        log.write(\"\\nRows dropped due to invalid inputs: none.\\n\")\n",
    "    # Surviving rows by year\n",
    "    if surviving_rows_by_year is not None and not surviving_rows_by_year.empty:\n",
    "        log.write(\"\\nSurviving rows by year after input validation:\\n\")\n",
    "        log.write(surviving_rows_by_year.to_string() + \"\\n\")\n",
    "    else:\n",
    "        log.write(\"\\nSurviving rows by year after input validation: not available.\\n\")\n",
    "    # Solver status counts\n",
    "    status_counts = df['solver_status'].value_counts()\n",
    "    log.write(\"Solver status counts:\\n\")\n",
    "    log.write(status_counts.to_string() + \"\\n\")\n",
    "    # DD_m and PD_m summary\n",
    "    log.write(\"\\nDistance to Default (DD_m) summary:\\n\")\n",
    "    log.write(df['DD_m'].describe().to_string() + \"\\n\")\n",
    "    log.write(\"\\nProbability of Default (PD_m) summary:\\n\")\n",
    "    log.write(df['PD_m'].describe().to_string() + \"\\n\")\n",
    "    F_values = df['F']\n",
    "    leverage_ratio = (df['market_cap'] / F_values).replace([np.inf, -np.inf], np.nan).dropna()\n",
    "    if not leverage_ratio.empty:\n",
    "        median_ratio = leverage_ratio.median()\n",
    "        log.write(f\"\\nUnit check (market_cap / F_values) median: {median_ratio:.3f}\\n\")\n",
    "        log.write(\"Expected order of magnitude ~= 1 when both legs are in USD.\\n\")\n",
    "    else:\n",
    "        log.write(\"\\nUnit check skipped: insufficient data for market_cap/F comparison.\\n\")\n",
    "    # Missing/failure counts\n",
    "    missing_dd = df['DD_m'].isna().sum()\n",
    "    missing_pd = df['PD_m'].isna().sum()\n",
    "    log.write(f\"\\nRows with missing DD_m: {missing_dd}\\n\")\n",
    "    log.write(f\"Rows with missing PD_m: {missing_pd}\\n\")\n",
    "\n",
    "print(f\"[INFO] Diagnostics appended to log: {log_fp}\")"
   ]
  }
 ],
 "metadata": {
  "kernelspec": {
   "display_name": "Python 3",
   "language": "python",
   "name": "python3"
  },
  "language_info": {
   "codemirror_mode": {
    "name": "ipython",
    "version": 3
   },
   "file_extension": ".py",
   "mimetype": "text/x-python",
   "name": "python",
   "nbconvert_exporter": "python",
   "pygments_lexer": "ipython3",
   "version": "3.12.10"
  }
 },
 "nbformat": 4,
 "nbformat_minor": 5
}
   "id": "790e90e4",
   "metadata": {
    "execution": {
     "iopub.execute_input": "2025-10-02T09:25:34.749055Z",
     "iopub.status.busy": "2025-10-02T09:25:34.748789Z",
     "iopub.status.idle": "2025-10-02T09:25:34.758847Z",
     "shell.execute_reply": "2025-10-02T09:25:34.758039Z"
    }
   },
   "outputs": [
    {
     "name": "stdout",
     "output_type": "stream",
     "text": [
      "=== FINAL RESULTS PREVIEW ===\n",
      "DDm and PDm successfully calculated!\n",
      "  instrument  year        DDm           PDm solver_status\n",
      "0       ABCB  2016   6.839918  3.961936e-12     converged\n",
      "1       ABCB  2017  11.656996  1.056848e-31     converged\n",
      "2       ABCB  2018   7.638828  1.096040e-14     converged\n",
      "3       ABCB  2019   5.029277  2.461669e-07     converged\n",
      "4       ABCB  2020   3.594155  1.627229e-04     converged\n",
      "5       ABCB  2021   6.874577  3.108699e-12     converged\n",
      "6       ABCB  2022   4.259131  1.026117e-05     converged\n",
      "7       ABCB  2023   4.063328  2.418895e-05     converged\n",
      "8       ACNB  2019   8.571629  5.101549e-18     converged\n",
      "9       ACNB  2020   5.057679  2.121950e-07     converged\n",
      "\n",
      "Summary statistics:\n",
      "DDm range: -0.11 to 49.91\n",
      "PDm range: 0.00e+00 to 5.44e-01\n",
      "Solver success rate: 1404/1424 (98.6%)\n"
     ]
    }
   ],
   "source": [
    "# Preview the completed results with DDm and PDm\n",
    "print(\"=== FINAL RESULTS PREVIEW ===\")\n",
    "\n",
    "# Check if DD_m and PD_m columns exist, if not show what we have\n",
    "if 'DD_m' in df.columns and 'PD_m' in df.columns:\n",
    "    print(\"DD_m and PD_m successfully calculated!\")\n",
    "    print(df[['instrument','year','DD_m','PD_m','solver_status']].head(10))\n",
    "    \n",
    "    print(f\"\\nSummary statistics:\")\n",
    "    print(f\"DD_m range: {df['DD_m'].min():.2f} to {df['DD_m'].max():.2f}\")\n",
    "    print(f\"PD_m range: {df['PD_m'].min():.2e} to {df['PD_m'].max():.2e}\")\n",
    "    print(f\"Solver success rate: {(df['solver_status'] == 'converged').sum()}/{len(df)} ({100*(df['solver_status'] == 'converged').sum()/len(df):.1f}%)\")\n",
    "else:\n",
    "    print(\"DD_m and PD_m columns not found. Available columns:\")\n",
    "    print(df.columns.tolist())"
   ]
  },
  {
   "cell_type": "code",
   "execution_count": 11,
   "id": "7e436a2b",
   "metadata": {
    "execution": {
     "iopub.execute_input": "2025-10-02T09:25:34.760894Z",
     "iopub.status.busy": "2025-10-02T09:25:34.760660Z",
     "iopub.status.idle": "2025-10-02T09:25:34.803609Z",
     "shell.execute_reply": "2025-10-02T09:25:34.802474Z"
    }
   },
   "outputs": [
    {
     "name": "stdout",
     "output_type": "stream",
     "text": [
      "=== COMPLETE DDm/PDm RESULTS TABLE ===\n",
      "instrument  year       DDm           PDm\n",
      "      ABCB  2016  6.839918  3.961936e-12\n",
      "      ABCB  2017 11.656996  1.056848e-31\n",
      "      ABCB  2018  7.638828  1.096040e-14\n",
      "      ABCB  2019  5.029277  2.461669e-07\n",
      "      ABCB  2020  3.594155  1.627229e-04\n",
      "      ABCB  2021  6.874577  3.108699e-12\n",
      "      ABCB  2022  4.259131  1.026117e-05\n",
      "      ABCB  2023  4.063328  2.418895e-05\n",
      "      ACNB  2019  8.571629  5.101549e-18\n",
      "      ACNB  2020  5.057679  2.121950e-07\n",
      "      ACNB  2021 11.209568  1.829873e-29\n",
      "      ACNB  2022  5.745990  4.569228e-09\n",
      "      ACNB  2023  4.530797  2.938079e-06\n",
      "      ALRS  2020  8.199979  1.202147e-16\n",
      "      ALRS  2021  9.563870  5.671665e-22\n",
      "      ALRS  2022  9.668972  2.042308e-22\n",
      "      ALRS  2023  3.522292  2.139165e-04\n",
      "      AMTB  2020  1.577934  5.729036e-02\n",
      "      AMTB  2021  3.560635  1.849792e-04\n",
      "      AMTB  2022  4.050132  2.559435e-05\n",
      "      AMTB  2023  3.208814  6.664189e-04\n",
      "      AROW  2017  9.275294  8.856497e-21\n",
      "      AROW  2018  8.854879  4.188724e-19\n",
      "      AROW  2019  8.282481  6.031771e-17\n",
      "      AROW  2020  8.049905  4.142911e-16\n",
      "      AROW  2021 16.978766  5.897024e-65\n",
      "      AROW  2022  8.399309  2.245577e-17\n",
      "       ASB  2016  6.980376  1.471957e-12\n",
      "       ASB  2017  7.125408  5.188643e-13\n",
      "       ASB  2018  6.061430  6.745825e-10\n",
      "       ASB  2019  5.059486  2.101946e-07\n",
      "       ASB  2020  3.425800  3.064960e-04\n",
      "       ASB  2021  7.381926  7.800822e-14\n",
      "       ASB  2022  3.734974  9.386717e-05\n",
      "       ASB  2023  3.001757  1.342133e-03\n",
      "      ATLO  2018 10.513783  3.731915e-26\n",
      "      ATLO  2019 12.448399  7.133954e-36\n",
      "      ATLO  2021 13.894864  3.402611e-44\n",
      "      ATLO  2022 17.125923  4.754449e-66\n",
      "      ATLO  2023  4.749059  1.021828e-06\n",
      "       AUB  2016  8.004757  5.985145e-16\n",
      "       AUB  2017  9.645688  2.563324e-22\n",
      "       AUB  2018  5.855816  2.373369e-09\n",
      "       AUB  2019  6.654658  1.419795e-11\n",
      "       AUB  2020  4.610603  2.007511e-06\n",
      "       AUB  2021  9.432085  2.010089e-21\n",
      "       AUB  2022  7.747014  4.703913e-15\n",
      "       AUB  2023  4.583287  2.288618e-06\n",
      "      AUBN  2018 11.191731  2.238048e-29\n",
      "      AUBN  2019 13.150109  8.496456e-40\n",
      "      AUBN  2020  7.535727  2.428115e-14\n",
      "      AUBN  2021 23.172629 4.299453e-119\n",
      "      AUBN  2022 17.362171  7.978686e-68\n",
      "       BAC  2016  3.074675  1.053659e-03\n",
      "       BAC  2017  7.038733  9.699774e-13\n",
      "       BAC  2018  5.761865  4.159472e-09\n",
      "       BAC  2019  4.482291  3.692300e-06\n",
      "       BAC  2020  2.801847  2.540547e-03\n",
      "       BAC  2021  4.659995  1.581088e-06\n",
      "       BAC  2022  3.181145  7.334699e-04\n",
      "      BANC  2017  4.487778  3.598489e-06\n",
      "      BANC  2018  4.654518  1.623696e-06\n",
      "      BANC  2019  3.945977  3.973758e-05\n",
      "      BANC  2020  2.379656  8.664409e-03\n",
      "      BANC  2021  9.028992  8.663020e-20\n",
      "      BANC  2022  8.033611  4.732261e-16\n",
      "      BANC  2023  2.459457  6.957377e-03\n",
      "      BANF  2016 18.983850  1.159795e-80\n",
      "      BANF  2017 16.302639  4.726048e-60\n",
      "      BANF  2018 21.957939 3.636183e-107\n",
      "      BANF  2019 20.796557  2.325093e-96\n",
      "      BANF  2020  7.895789  1.442427e-15\n",
      "      BANF  2021 12.401415  1.283750e-35\n",
      "      BANF  2022 11.063520  9.427446e-29\n",
      "      BANF  2023 13.737503  3.026387e-43\n",
      "      BANR  2016 11.765251  2.947551e-32\n",
      "      BANR  2017 13.916509  2.514361e-44\n",
      "      BANR  2018  9.686196  1.725722e-22\n",
      "      BANR  2019  6.408281  7.358485e-11\n",
      "      BANR  2020  3.733325  9.448423e-05\n",
      "      BANR  2021  8.636430  2.899850e-18\n",
      "      BANR  2022  5.617984  9.659893e-09\n",
      "      BANR  2023  5.213305  9.275292e-08\n",
      "      BCBP  2018  8.060435  3.801161e-16\n",
      "      BCBP  2019  5.698999  6.025654e-09\n",
      "      BCML  2019 23.471108 4.024579e-122\n",
      "      BCML  2020  2.328326  9.947411e-03\n",
      "      BCML  2021  8.713637  1.471382e-18\n",
      "      BCML  2022  8.532746  7.145707e-18\n",
      "      BCML  2023  5.781432  3.703366e-09\n",
      "       BFC  2019  6.425969  6.551606e-11\n",
      "       BFC  2020  7.666858  8.813003e-15\n",
      "       BFC  2021 23.273445 4.118564e-120\n",
      "       BFC  2022 12.784568  9.998530e-38\n",
      "       BFC  2023  8.681234  1.957497e-18\n",
      "      BFIN  2018 14.029390  5.151734e-45\n",
      "      BFIN  2019 36.063461 4.242441e-285\n",
      "      BFST  2021 10.759015  2.687080e-27\n",
      "      BFST  2022  5.293311  6.006075e-08\n",
      "      BFST  2023  2.646472  4.066817e-03\n",
      "       BHB  2017  3.491743  2.399394e-04\n",
      "       BHB  2018  6.037507  7.825670e-10\n",
      "       BHB  2019  4.502260  3.361729e-06\n",
      "       BHB  2020  4.260855  1.018232e-05\n",
      "       BHB  2021  4.946288  3.782106e-07\n",
      "       BHB  2022  5.603650  1.049422e-08\n",
      "       BHB  2023  5.231988  8.384812e-08\n",
      "      BHLB  2017  6.923183  2.208035e-12\n",
      "      BHLB  2018  4.322495  7.713728e-06\n",
      "      BHLB  2019  5.474504  2.193695e-08\n",
      "      BHLB  2020  1.650664  4.940364e-02\n",
      "      BHLB  2021  7.808957  2.883147e-15\n",
      "      BHLB  2022  9.299487  7.056279e-21\n",
      "      BHLB  2023  4.682656  1.415910e-06\n",
      "       BKU  2016  4.053036  2.527860e-05\n",
      "       BKU  2017  6.431004  6.338185e-11\n",
      "       BKU  2018  6.066635  6.530917e-10\n",
      "       BKU  2019  5.113820  1.578544e-07\n",
      "       BKU  2020  2.054562  1.996065e-02\n",
      "       BKU  2021  5.386330  3.595540e-08\n",
      "       BKU  2022  3.739789  9.208749e-05\n",
      "       BKU  2023  1.355167  8.768211e-02\n",
      "      BLFY  2022  7.563943  1.955153e-14\n",
      "      BLFY  2023  3.172308  7.561623e-04\n",
      "      BMRC  2017 29.883004 1.636167e-196\n",
      "      BMRC  2018 26.300560 9.448195e-153\n",
      "      BMRC  2019 30.250616 2.560439e-201\n",
      "      BMRC  2020 14.670880  4.952600e-49\n",
      "      BMRC  2021 31.822358 1.588133e-222\n",
      "      BMRC  2022  7.087058  6.849643e-13\n",
      "      BMRC  2023  5.618602  9.625434e-09\n",
      "       BOH  2016 14.107352  1.710934e-45\n",
      "       BOH  2017 13.811365  1.088344e-43\n",
      "       BOH  2018 11.316934  5.409466e-30\n",
      "       BOH  2019 12.356736  2.239905e-35\n",
      "       BOH  2020  3.496330  2.358521e-04\n",
      "       BOH  2021 13.793559  1.393327e-43\n",
      "       BOH  2022  8.801386  6.756811e-19\n",
      "      BOKF  2016  7.538746  2.372555e-14\n",
      "      BOKF  2017  7.483326  3.623254e-14\n",
      "      BOKF  2018  5.741721  4.685947e-09\n",
      "      BOKF  2019  4.282581  9.236879e-06\n",
      "      BOKF  2020  2.290954  1.098304e-02\n",
      "      BOKF  2021  8.208411  1.120677e-16\n",
      "      BOKF  2022  3.478770  2.518601e-04\n",
      "      BOKF  2023  3.077180  1.044844e-03\n",
      "      BRBS  2022  9.819181  4.654862e-23\n",
      "      BRBS  2023  2.457694  6.991609e-03\n",
      "      BRKL  2017  9.217052  1.526900e-20\n",
      "      BRKL  2018  7.436910  5.153376e-14\n",
      "      BRKL  2019  7.540515  2.340600e-14\n",
      "      BRKL  2020  3.685028  1.143386e-04\n",
      "      BRKL  2021  8.393377  2.361862e-17\n",
      "      BRKL  2022  4.661436  1.570051e-06\n",
      "      BSRR  2018  8.959661  1.628391e-19\n",
      "      BSRR  2019  8.889186  3.077903e-19\n",
      "      BUSE  2017 12.060806  8.505539e-34\n",
      "      BUSE  2018 10.307271  3.266497e-25\n",
      "      BUSE  2019 10.096816  2.853250e-24\n",
      "      BUSE  2020  4.905054  4.670079e-07\n",
      "      BUSE  2021  8.012933  5.600228e-16\n",
      "      BUSE  2022  4.958411  3.553608e-07\n",
      "      BUSE  2023  5.553098  1.403256e-08\n",
      "       BWB  2020  4.850770  6.149152e-07\n",
      "       BWB  2021  9.157708  2.650549e-20\n",
      "       BWB  2022  5.895309  1.869903e-09\n",
      "       BWB  2023  2.449047  7.161730e-03\n",
      "      BWFG  2018 14.065990  3.072816e-45\n",
      "      BWFG  2019  9.880143  2.538027e-23\n",
      "      BWFG  2020  2.092192  1.821068e-02\n",
      "      BWFG  2021  6.372513  9.297771e-11\n",
      "      BWFG  2022  7.361083  9.121234e-14\n",
      "      BWFG  2023  4.698333  1.311465e-06\n",
      "        BY  2018  6.606482  1.967800e-11\n",
      "        BY  2019  6.378322  8.951956e-11\n",
      "        BY  2020  2.180963  1.459306e-02\n",
      "        BY  2021  6.572029  2.481706e-11\n",
      "       CAC  2017  6.496863  4.100615e-11\n",
      "       CAC  2018  8.970775  1.472174e-19\n",
      "       CAC  2019  7.987798  6.868541e-16\n",
      "       CAC  2020  5.040621  2.320120e-07\n",
      "       CAC  2021  7.850682  2.068906e-15\n",
      "       CAC  2022 15.303435  3.626273e-53\n",
      "      CADE  2019  6.817072  4.645722e-12\n",
      "      CADE  2020  4.649302  1.665304e-06\n",
      "      CADE  2021  7.181800  3.439983e-13\n",
      "      CADE  2022  4.243833  1.098671e-05\n",
      "      CATY  2016  7.370730  8.484816e-14\n",
      "      CATY  2017  8.942772  1.897634e-19\n",
      "      CATY  2018  8.631963  3.015403e-18\n",
      "      CATY  2019  7.237584  2.283734e-13\n",
      "      CATY  2020  4.497290  3.441257e-06\n",
      "      CATY  2021 18.559311  3.428931e-77\n",
      "      CATY  2022  6.799061  5.265144e-12\n",
      "      CATY  2023  4.865297  5.714249e-07\n",
      "      CBAN  2018  7.586117  1.648175e-14\n",
      "      CBAN  2019 16.975661  6.217273e-65\n",
      "      CBAN  2020  4.587907  2.238559e-06\n",
      "      CBAN  2021  7.815601  2.735077e-15\n",
      "      CBAN  2022  6.673952  1.245024e-11\n",
      "      CBFV  2018  9.521672  8.520774e-22\n",
      "      CBFV  2019  9.419640  2.263179e-21\n",
      "      CBFV  2020  2.941735  1.631894e-03\n",
      "      CBFV  2021 10.324735  2.723446e-25\n",
      "      CBFV  2022 14.620338  1.041820e-48\n",
      "      CBFV  2023  6.580880  2.338366e-11\n",
      "      CBNK  2020  6.539367  3.088978e-11\n",
      "      CBNK  2021 10.413192  1.079304e-25\n",
      "      CBNK  2022  7.698464  6.885586e-15\n",
      "      CBSH  2016 10.111222  2.463293e-24\n",
      "      CBSH  2017 14.151686  9.116700e-46\n",
      "      CBSH  2018  9.643463  2.619506e-22\n",
      "      CBSH  2019 10.634479  1.029887e-26\n",
      "      CBSH  2020  5.036133  2.375157e-07\n",
      "      CBSH  2021 12.083191  6.479551e-34\n",
      "      CBSH  2022 11.427296  1.527368e-30\n",
      "      CBSH  2023  5.164044  1.208352e-07\n",
      "       CBU  2016 12.839020  4.956081e-38\n",
      "       CBU  2017 14.846243  3.678897e-50\n",
      "       CBU  2018  9.966611  1.066930e-23\n",
      "       CBU  2019 11.158910  3.239031e-29\n",
      "       CBU  2020 11.631703  1.421836e-31\n",
      "       CBU  2021 13.513202  6.535525e-42\n",
      "       CBU  2022 10.444041  7.801183e-26\n",
      "       CBU  2023  5.039050  2.339237e-07\n",
      "       CCB  2020  2.080188  1.875413e-02\n",
      "       CCB  2021  5.860096  2.312994e-09\n",
      "       CCB  2022 10.965454  2.800925e-28\n",
      "       CCB  2023  6.932647  2.065190e-12\n",
      "      CCBG  2017  8.273120  6.524934e-17\n",
      "      CCBG  2018  8.546328  6.353335e-18\n",
      "      CCBG  2019 11.157281  3.298942e-29\n",
      "      CCBG  2020  4.576614  2.362810e-06\n",
      "      CCBG  2021 10.540652  2.805428e-26\n",
      "      CCBG  2022  8.058904  3.849081e-16\n",
      "      CCBG  2023  7.875802  1.692826e-15\n",
      "      CCNE  2017  5.087777  1.811423e-07\n",
      "      CCNE  2018  6.216428  2.543001e-10\n",
      "      CCNE  2019  5.321974  5.132371e-08\n",
      "      CCNE  2020  5.103163  1.670113e-07\n",
      "      CCNE  2021 11.973785  2.437644e-33\n",
      "      CCNE  2022  8.646478  2.655665e-18\n",
      "      CCNE  2023  6.064806  6.605665e-10\n",
      "      CFFI  2018  4.057913  2.475663e-05\n",
      "      CFFI  2019  5.176896  1.128041e-07\n",
      "      CFFI  2020  4.215968  1.243544e-05\n",
      "      CFFI  2021  7.394760  7.083218e-14\n",
      "      CFFI  2022  8.541430  6.628528e-18\n",
      "       CFG  2016  3.397461  3.400713e-04\n",
      "       CFG  2017  6.237124  2.228438e-10\n",
      "       CFG  2018  6.630498  1.672784e-11\n",
      "       CFG  2019  4.809406  7.568956e-07\n",
      "       CFG  2020  2.536439  5.599311e-03\n",
      "       CFG  2021  6.810871  4.850474e-12\n",
      "       CFG  2022  4.006045  3.087191e-05\n",
      "       CFR  2016  9.570083  5.340990e-22\n",
      "       CFR  2017 10.387681  1.410653e-25\n",
      "       CFR  2018 10.070984  3.711599e-24\n",
      "       CFR  2019  8.016266  5.450422e-16\n",
      "       CFR  2020  3.029585  1.224450e-03\n",
      "       CFR  2021  7.964300  8.308112e-16\n",
      "       CFR  2022  5.633861  8.810955e-09\n",
      "      CHCO  2017  8.072738  3.436958e-16\n",
      "      CHCO  2018 10.443131  7.876367e-26\n",
      "      CHCO  2019 11.760998  3.099865e-32\n",
      "      CHCO  2020  8.702780  1.619258e-18\n",
      "      CHCO  2021 11.742897  3.840456e-32\n",
      "      CHCO  2022  9.790705  6.171607e-23\n",
      "      CHCO  2023  8.122505  2.283290e-16\n",
      "      CHMG  2018 17.528305  4.356425e-69\n",
      "      CHMG  2019 16.280388  6.800248e-60\n",
      "      CHMG  2020  9.763422  8.080427e-23\n",
      "      CHMG  2021 11.925589  4.353325e-33\n",
      "      CHMG  2022  8.179618  1.423725e-16\n",
      "      CHMG  2023  6.935049  2.030399e-12\n",
      "      CIVB  2018  6.246884  2.093606e-10\n",
      "      CIVB  2019  6.863473  3.360306e-12\n",
      "      CIVB  2020  3.559386  1.858615e-04\n",
      "      CIVB  2021  6.399587  7.789886e-11\n",
      "      CIVB  2022  5.392000  3.483897e-08\n",
      "      CIVB  2023  3.139507  8.461619e-04\n",
      "      CIZN  2020  4.843195  6.388388e-07\n",
      "      CLBK  2019 12.512970  3.170424e-36\n",
      "      CLBK  2020  4.854720  6.027854e-07\n",
      "      CLBK  2021 12.421591  9.977622e-36\n",
      "      CLBK  2022  7.504903  3.073700e-14\n",
      "      CLBK  2023  4.967979  3.382707e-07\n",
      "       CMA  2016  4.716656  1.198762e-06\n",
      "       CMA  2017  9.493382  1.118283e-21\n",
      "       CMA  2018  7.718458  5.887291e-15\n",
      "       CMA  2019  4.253788  1.050924e-05\n",
      "       CMA  2020  2.193871  1.412234e-02\n",
      "       CMA  2021  7.748434  4.651647e-15\n",
      "       CMA  2022  6.705323  1.004807e-11\n",
      "       CMA  2023  1.721654  4.256609e-02\n",
      "      CNOB  2017  8.780009  8.173081e-19\n",
      "      CNOB  2018 10.090738  3.035570e-24\n",
      "      CNOB  2019  6.452232  5.510747e-11\n",
      "      CNOB  2020  2.689118  3.582053e-03\n",
      "      CNOB  2021  8.255519  7.562158e-17\n",
      "      CNOB  2022  5.165718  1.197586e-07\n",
      "      CNOB  2023  2.122597  1.689384e-02\n",
      "      COFS  2018       NaN           NaN\n",
      "      COFS  2019       NaN           NaN\n",
      "      COFS  2020 11.791543  2.157815e-32\n",
      "      COFS  2021 16.885606  2.871159e-64\n",
      "      COFS  2022  5.945557  1.377593e-09\n",
      "      COFS  2023  3.043431  1.169484e-03\n",
      "      COLB  2016 16.679909  9.174881e-63\n",
      "      COLB  2017 18.964344  1.680992e-80\n",
      "      COLB  2018 14.065442  3.096746e-45\n",
      "      COLB  2019  7.983731  7.098752e-16\n",
      "      COLB  2020  8.857416  4.094529e-19\n",
      "      COLB  2021 15.949492  1.436112e-57\n",
      "      COLB  2022  7.094623  6.485243e-13\n",
      "      COLB  2023  3.246122  5.849425e-04\n",
      "       CPF  2017 12.546729  2.071363e-36\n",
      "       CPF  2018  9.015583  9.791303e-20\n",
      "       CPF  2019 12.779601  1.065803e-37\n",
      "       CPF  2020  3.721025  9.920771e-05\n",
      "       CPF  2021  9.593116  4.273208e-22\n",
      "       CPF  2022  9.182209  2.111688e-20\n",
      "       CPF  2023  4.846728  6.275704e-07\n",
      "      CTBI  2017 10.716813  4.243876e-27\n",
      "      CTBI  2018  7.961518  8.497043e-16\n",
      "      CTBI  2019  9.593761  4.246577e-22\n",
      "      CUBI  2017  4.021789  2.887885e-05\n",
      "      CUBI  2018  6.881804  2.954967e-12\n",
      "      CUBI  2019  2.905318  1.834402e-03\n",
      "      CUBI  2020       NaN           NaN\n",
      "      CUBI  2021  5.116634  1.555182e-07\n",
      "      CUBI  2022  3.108811  9.392083e-04\n",
      "      CVBF  2016  6.718535  9.178031e-12\n",
      "      CVBF  2017  8.467372  1.254954e-17\n",
      "      CVBF  2018  9.756642  8.639080e-23\n",
      "      CVBF  2019 15.332367  2.323684e-53\n",
      "      CVBF  2020  9.624948  3.136941e-22\n",
      "      CVBF  2021  8.781331  8.077545e-19\n",
      "      CVBF  2022  7.429166  5.464236e-14\n",
      "      CVBF  2023  1.951050  2.552553e-02\n",
      "      CWBC  2018 25.504415 8.805185e-144\n",
      "      CWBC  2019 29.291744 6.606419e-189\n",
      "      CWBC  2020 10.465395  6.227766e-26\n",
      "      CWBC  2021 11.430293  1.475550e-30\n",
      "      CWBC  2022  5.257159  7.314907e-08\n",
      "      CZNC  2018 15.632854  2.174395e-55\n",
      "      CZNC  2019  7.752452  4.506749e-15\n",
      "      CZNC  2020  5.871970  2.153230e-09\n",
      "      CZNC  2021 12.853248  4.123644e-38\n",
      "      CZNC  2022 15.442146  4.260843e-54\n",
      "      CZNC  2023  5.157565  1.250913e-07\n",
      "      DCOM  2017 10.151832  1.626008e-24\n",
      "      DCOM  2018  8.397225  2.285761e-17\n",
      "      DCOM  2019  6.772666  6.321544e-12\n",
      "      DCOM  2020  4.013102  2.996296e-05\n",
      "      DCOM  2021  9.078842  5.486801e-20\n",
      "      DCOM  2022  4.070372  2.346908e-05\n",
      "       DFS  2016  4.871443  5.539296e-07\n",
      "       DFS  2017  6.020181  8.711085e-10\n",
      "       DFS  2018  4.882054  5.249321e-07\n",
      "       DFS  2019  4.641056  1.733170e-06\n",
      "       DFS  2020  1.945839  2.583707e-02\n",
      "       DFS  2021  5.560794  1.342751e-08\n",
      "       DFS  2022  4.417365  4.995576e-06\n",
      "       DFS  2023  3.633405  1.398529e-04\n",
      "       EBC  2022  9.361358  3.935921e-21\n",
      "       EBC  2023 11.738332  4.053500e-32\n",
      "      EBMT  2018  8.256516  7.499284e-17\n",
      "      EBMT  2019  7.274472  1.738889e-13\n",
      "      EBMT  2022 11.430930  1.464766e-30\n",
      "      EBTC  2017  6.066522  6.535495e-10\n",
      "      EBTC  2018  7.599231  1.489480e-14\n",
      "      EBTC  2019  7.065625  7.994717e-13\n",
      "      EBTC  2020  7.263302  1.888760e-13\n",
      "      EBTC  2021 11.433777  1.417518e-30\n",
      "      EBTC  2022  9.776530  7.099791e-23\n",
      "      EBTC  2023  6.214759  2.570180e-10\n",
      "      EFSC  2017 11.244373  1.234216e-29\n",
      "      EFSC  2018  6.360950  1.002548e-10\n",
      "      EFSC  2019  8.715088  1.452665e-18\n",
      "      EFSC  2020  3.927159  4.297752e-05\n",
      "      EFSC  2021  6.488944  4.321990e-11\n",
      "      EFSC  2022  5.613093  9.937085e-09\n",
      "      EFSC  2023  6.125277  4.526309e-10\n",
      "      EGBN  2020  3.398619  3.386344e-04\n",
      "      EGBN  2021 11.125082  4.735963e-29\n",
      "      EGBN  2022  8.696172  1.716341e-18\n",
      "      EGBN  2023  1.584909  5.649347e-02\n",
      "      EQBK  2017  8.849183  4.408106e-19\n",
      "      EQBK  2018  8.825130  5.466659e-19\n",
      "      EQBK  2019  5.709191  5.675738e-09\n",
      "      EQBK  2020  3.139882  8.450796e-04\n",
      "      EQBK  2021  7.810417  2.849959e-15\n",
      "      EQBK  2022  5.092816  1.763920e-07\n",
      "       ESQ  2018 36.687290 5.823394e-295\n",
      "       ESQ  2019 32.756493 1.227058e-235\n",
      "       ESQ  2020 16.835606  6.690562e-64\n",
      "       ESQ  2021 47.453319  0.000000e+00\n",
      "       ESQ  2022 30.782746 2.230040e-208\n",
      "       ESQ  2023 35.461503 9.642872e-276\n",
      "      EVBN  2018 10.028898  5.688952e-24\n",
      "      EVBN  2019 14.049754  3.865077e-45\n",
      "      EVBN  2020  3.030826  1.219430e-03\n",
      "      EVBN  2021 13.596494  2.100476e-42\n",
      "      EVBN  2022  7.101940  6.150867e-13\n",
      "      EVBN  2023  3.013459  1.291438e-03\n",
      "      EWBC  2016  7.298716  1.452638e-13\n",
      "      EWBC  2017 19.962184  5.873260e-89\n",
      "      EWBC  2018 10.254345  5.656995e-25\n",
      "      EWBC  2019  6.368577  9.539477e-11\n",
      "      EWBC  2020  3.226801  6.259123e-04\n",
      "      EWBC  2021 13.042829  3.490874e-39\n",
      "      EWBC  2022 12.556430  1.832493e-36\n",
      "      EXSR  2021       NaN           NaN\n",
      "      FBIZ  2018  6.247521  2.085097e-10\n",
      "      FBIZ  2019  5.686967  6.465754e-09\n",
      "      FBIZ  2020  2.247218  1.231304e-02\n",
      "      FBIZ  2021  6.832191  4.181375e-12\n",
      "      FBIZ  2022  5.059788  2.098613e-07\n",
      "      FBIZ  2023  3.818701  6.707815e-05\n",
      "       FBK  2017  7.750570  4.574062e-15\n",
      "       FBK  2018 12.033561  1.183634e-33\n",
      "       FBK  2019  9.613570  3.503800e-22\n",
      "       FBK  2020  4.351482  6.761027e-06\n",
      "       FBK  2021 11.805657  1.824655e-32\n",
      "       FBK  2022  6.811471  4.830291e-12\n",
      "       FBK  2023  4.448269  4.328255e-06\n",
      "      FBNC  2017  8.554993  5.893801e-18\n",
      "      FBNC  2018  6.685149  1.153450e-11\n",
      "      FBNC  2019 10.523479  3.367028e-26\n",
      "      FBNC  2020  5.597528  1.087149e-08\n",
      "      FBNC  2021 11.857784  9.804841e-33\n",
      "      FBNC  2022  6.216732  2.538078e-10\n",
      "      FBNC  2023  4.791372  8.282218e-07\n",
      "      FCBC  2019 39.631404  0.000000e+00\n",
      "      FCBC  2020 21.410764 5.303020e-102\n",
      "      FCBC  2021 21.889188 1.646640e-106\n",
      "      FCBC  2022 21.684082 1.449932e-104\n",
      "      FCBC  2023 16.084072  1.649803e-58\n",
      "      FCCO  2018  7.166102  3.858155e-13\n",
      "      FCCO  2019 10.250879  5.863592e-25\n",
      "      FCCO  2020  4.586093  2.258085e-06\n",
      "      FCCO  2021  8.872672  3.570565e-19\n",
      "      FCCO  2022  7.052201  8.805460e-13\n",
      "      FCCO  2023  3.373790  3.707043e-04\n",
      "       FCF  2017  8.832728  5.107673e-19\n",
      "       FCF  2018  5.508997  1.804418e-08\n",
      "       FCF  2019  7.920111  1.186493e-15\n",
      "       FCF  2020  4.486037  3.628015e-06\n",
      "       FCF  2021  8.779581  8.204210e-19\n",
      "       FCF  2022  6.561974  2.654996e-11\n",
      "       FCF  2023  4.210342  1.274924e-05\n",
      "     FCNCA  2016  7.149931  4.341074e-13\n",
      "     FCNCA  2017  7.562763  1.972988e-14\n",
      "     FCNCA  2018  8.101042  2.724529e-16\n",
      "     FCNCA  2019 10.522436  3.404507e-26\n",
      "     FCNCA  2020  2.636397  4.189576e-03\n",
      "     FCNCA  2021  6.058706  6.861032e-10\n",
      "     FCNCA  2022  4.933113  4.046471e-07\n",
      "      FDBC  2018  5.856256  2.367093e-09\n",
      "      FDBC  2019  8.146243  1.877022e-16\n",
      "      FDBC  2020  8.289779  5.672962e-17\n",
      "      FDBC  2021 10.784038  2.047516e-27\n",
      "      FDBC  2022  9.025777  8.921247e-20\n",
      "      FDBC  2023  4.131158  1.804699e-05\n",
      "      FFBC  2016  7.048382  9.050516e-13\n",
      "      FFBC  2017  7.484675  3.586209e-14\n",
      "      FFBC  2018  5.773946  3.871802e-09\n",
      "      FFBC  2019  5.628420  9.093399e-09\n",
      "      FFBC  2020  3.193157  7.036312e-04\n",
      "      FFBC  2021  6.807615  4.961486e-12\n",
      "      FFBC  2022  4.017814  2.937029e-05\n",
      "      FFBC  2023  4.493018  3.511049e-06\n",
      "      FFIC  2017  6.939890  1.962029e-12\n",
      "      FFIC  2018  8.522179  7.828934e-18\n",
      "      FFIC  2019  6.389461  8.323581e-11\n",
      "      FFIC  2020  2.381591  8.619006e-03\n",
      "      FFIC  2021  6.659317  1.375514e-11\n",
      "      FFIC  2022  6.770696  6.408205e-12\n",
      "      FFIC  2023  2.180886  1.459591e-02\n",
      "      FFIN  2016 10.899353  5.803974e-28\n",
      "      FFIN  2017  9.579894  4.857218e-22\n",
      "      FFIN  2018 10.476493  5.538780e-26\n",
      "      FFIN  2019 11.718337  5.133400e-32\n",
      "      FFIN  2020  9.345242  4.583960e-21\n",
      "      FFIN  2021 11.880629  7.462037e-33\n",
      "      FFIN  2022 10.877397  7.386082e-28\n",
      "      FFIN  2023  6.669556  1.282895e-11\n",
      "      FFWM  2019  6.343023  1.126501e-10\n",
      "      FFWM  2020  3.412773  3.215280e-04\n",
      "      FGBI  2018 13.940374  1.800255e-44\n",
      "      FGBI  2019  6.385588  8.536994e-11\n",
      "      FGBI  2020  3.992244  3.272548e-05\n",
      "      FGBI  2021 12.040017  1.094557e-33\n",
      "      FGBI  2022  3.514369  2.204000e-04\n",
      "       FHB  2017 49.907057  0.000000e+00\n",
      "       FHB  2018 10.349429  2.104947e-25\n",
      "       FHB  2019 13.381451  3.880853e-41\n",
      "       FHB  2020  4.971803  3.316655e-07\n",
      "       FHB  2021       NaN           NaN\n",
      "       FHB  2022 13.745636  2.704785e-43\n",
      "       FHB  2023  5.006909  2.765546e-07\n",
      "       FHN  2016  7.656851  9.527395e-15\n",
      "       FHN  2017  9.150448  2.834901e-20\n",
      "       FHN  2018  8.176855  1.456736e-16\n",
      "       FHN  2019  6.182055  3.163616e-10\n",
      "       FHN  2020  2.672106  3.768841e-03\n",
      "       FHN  2021  6.180274  3.199518e-10\n",
      "       FHN  2022  4.580632  2.317863e-06\n",
      "       FHN  2023  2.345889  9.490890e-03\n",
      "      FISI  2017  6.421202  6.760146e-11\n",
      "      FISI  2018  6.499319  4.034222e-11\n",
      "      FISI  2019  7.644956  1.045088e-14\n",
      "      FISI  2020  3.690367  1.119655e-04\n",
      "      FISI  2021  8.016268  5.450309e-16\n",
      "      FISI  2022  9.504485  1.005201e-21\n",
      "      FISI  2023  2.831915  2.313508e-03\n",
      "      FITB  2016  5.665289  7.338837e-09\n",
      "      FITB  2017  7.776962  3.714352e-15\n",
      "      FITB  2018  6.651429  1.451303e-11\n",
      "      FITB  2019  5.539332  1.518142e-08\n",
      "      FITB  2020  2.362707  9.071015e-03\n",
      "      FITB  2021  6.142783  4.054396e-10\n",
      "      FITB  2022  4.673839  1.478104e-06\n",
      "       FLG  2016  7.920778  1.180146e-15\n",
      "       FLG  2017  8.284074  5.951595e-17\n",
      "       FLG  2018  6.616401  1.840240e-11\n",
      "       FLG  2019  4.760752  9.643647e-07\n",
      "       FLG  2020  3.546787  1.949799e-04\n",
      "       FLG  2021  4.801570  7.871312e-07\n",
      "       FLG  2022       NaN           NaN\n",
      "       FLG  2023  2.556066  5.293148e-03\n",
      "      FLIC  2017  7.048353  9.052424e-13\n",
      "      FLIC  2018  7.143815  4.538794e-13\n",
      "      FLIC  2019  5.981209  1.107438e-09\n",
      "      FMAO  2018 10.806811  1.597934e-27\n",
      "      FMAO  2019  9.308582  6.477497e-21\n",
      "      FMAO  2020  9.914153  1.806542e-23\n",
      "      FMAO  2021  7.089510  6.729383e-13\n",
      "      FMAO  2022  5.274300  6.663193e-08\n",
      "      FMBH  2017 11.464898  9.899632e-31\n",
      "      FMBH  2018  7.276466  1.713387e-13\n",
      "      FMBH  2019 10.987124  2.203736e-28\n",
      "      FMBH  2020  4.447292  4.347972e-06\n",
      "      FMBH  2021  6.727904  8.606211e-12\n",
      "      FMBH  2022  5.823193  2.886685e-09\n",
      "      FMNB  2017  8.211747  1.089970e-16\n",
      "      FMNB  2018  6.607870  1.949442e-11\n",
      "      FMNB  2019  8.682529  1.935322e-18\n",
      "      FMNB  2020  6.846118  3.794033e-12\n",
      "      FMNB  2021  8.265524  6.954124e-17\n",
      "      FMNB  2022  8.319785  4.406144e-17\n",
      "      FMNB  2023  4.479122  3.747535e-06\n",
      "       FNB  2018  5.558907  1.357349e-08\n",
      "       FNB  2019  4.586043  2.258628e-06\n",
      "       FNB  2020  3.134280  8.613805e-04\n",
      "       FNB  2021  6.056823  6.941797e-10\n",
      "       FNB  2022  4.497977  3.430160e-06\n",
      "       FNB  2023  3.980108  3.444203e-05\n",
      "      FNLC  2018  9.729617  1.127195e-22\n",
      "      FNLC  2019  9.023354  9.120807e-20\n",
      "      FNLC  2020  5.348988  4.422376e-08\n",
      "      FNLC  2021  8.189593  1.310560e-16\n",
      "      FNLC  2022  9.272555  9.087005e-21\n",
      "      FNLC  2023  8.293963  5.476848e-17\n",
      "      FNWB  2018  8.137898  2.010990e-16\n",
      "      FNWB  2019 12.628527  7.350173e-37\n",
      "      FNWB  2020  2.259696  1.192008e-02\n",
      "      FNWB  2021  6.601666  2.032817e-11\n",
      "      FNWB  2022  5.039358  2.335475e-07\n",
      "      FNWB  2023  3.038631  1.188277e-03\n",
      "      FRAF  2020  5.066329  2.027807e-07\n",
      "      FRAF  2021 13.837317  7.588333e-44\n",
      "      FRAF  2022 10.835754  1.165191e-27\n",
      "      FRAF  2023  5.566549  1.299166e-08\n",
      "      FRBA  2018 11.893881  6.367456e-33\n",
      "      FRBA  2019 14.026148  5.392602e-45\n",
      "      FRBA  2020  2.595818  4.718298e-03\n",
      "      FRBA  2021  7.154581  4.196440e-13\n",
      "     FRBKQ  2017 17.581003  1.722142e-69\n",
      "     FRBKQ  2018  6.860222  3.437681e-12\n",
      "     FRBKQ  2019 12.832319  5.404025e-38\n",
      "      FRCB  2016  7.571671  1.842268e-14\n",
      "      FRCB  2017  8.456778  1.374330e-17\n",
      "      FRCB  2018  7.208671  2.825021e-13\n",
      "      FRCB  2019  6.513261  3.676828e-11\n",
      "      FRCB  2020  3.669803  1.213685e-04\n",
      "      FRME  2016  7.387819  7.462864e-14\n",
      "      FRME  2017 12.588790  1.216882e-36\n",
      "      FRME  2018  7.668301  8.714458e-15\n",
      "      FRME  2019  6.950932  1.814405e-12\n",
      "      FRME  2020  3.561112  1.846437e-04\n",
      "      FRME  2021  8.924965  2.229203e-19\n",
      "      FRME  2022  4.867698  5.645271e-07\n",
      "      FRME  2023  3.820585  6.656771e-05\n",
      "      FRST  2017  8.279416  6.189029e-17\n",
      "      FRST  2018  6.101069  5.268060e-10\n",
      "      FRST  2019  7.839488  2.261935e-15\n",
      "      FRST  2020  3.232328  6.139292e-04\n",
      "      FRST  2021  7.841029  2.234350e-15\n",
      "      FRST  2022 10.536544  2.930671e-26\n",
      "      FRST  2023  3.209185  6.655580e-04\n",
      "      FSBC  2022  8.647334  2.635815e-18\n",
      "      FSBC  2023  3.688500  1.127898e-04\n",
      "      FSBW  2018  4.964517  3.443611e-07\n",
      "      FSBW  2019  8.024974  5.077380e-16\n",
      "      FSBW  2022  5.485441  2.062191e-08\n",
      "      FSBW  2023  5.096074  1.733844e-07\n",
      "      FULT  2016  7.811113  2.834267e-15\n",
      "      FULT  2017  8.098691  2.777691e-16\n",
      "      FULT  2018  7.117827  5.482090e-13\n",
      "      FULT  2019  6.866055  3.300083e-12\n",
      "      FULT  2020  3.782598  7.759991e-05\n",
      "      FULT  2021  7.330667  1.145053e-13\n",
      "      FULT  2022  4.335565  7.269323e-06\n",
      "      FULT  2023  3.158242  7.936184e-04\n",
      "      FUNC  2018  5.084302  1.844905e-07\n",
      "      FUNC  2019  8.770225  8.915500e-19\n",
      "      FUNC  2020  2.169792  1.501132e-02\n",
      "      FUNC  2021  7.240913  2.228367e-13\n",
      "      FUNC  2022  4.373312  6.118780e-06\n",
      "      FUNC  2023  2.853357  2.163001e-03\n",
      "      FVCB  2019 10.473400  5.722834e-26\n",
      "      FVCB  2020  4.574785  2.383548e-06\n",
      "      FVCB  2021 15.730150  4.699394e-56\n",
      "      FVCB  2022 10.215938  8.412216e-25\n",
      "      FVCB  2023  3.425273  3.070914e-04\n",
      "      GABC  2017  7.751178  4.552212e-15\n",
      "      GABC  2018  9.086892  5.095549e-20\n",
      "      GABC  2019 11.815735  1.618523e-32\n",
      "      GABC  2020  8.689595  1.818671e-18\n",
      "      GABC  2021  7.812441  2.804550e-15\n",
      "      GABC  2022  8.629684  3.076073e-18\n",
      "      GABC  2023  7.334320  1.114247e-13\n",
      "      GBCI  2016  8.646865  2.646670e-18\n",
      "      GBCI  2017  8.398623  2.258727e-17\n",
      "      GBCI  2018  7.652558  9.851006e-15\n",
      "      GBCI  2019 12.852901  4.142215e-38\n",
      "      GBCI  2020  5.409212  3.165134e-08\n",
      "      GBCI  2021 10.120557  2.239289e-24\n",
      "      GBCI  2022  5.189426  1.054715e-07\n",
      "      GNTY  2018  9.882530  2.478259e-23\n",
      "      GNTY  2019 16.139931  6.684528e-59\n",
      "      GNTY  2020  4.617134  1.945380e-06\n",
      "      GNTY  2021  7.950350  9.299287e-16\n",
      "      GNTY  2022  9.811619  5.017263e-23\n",
      "      GSBC  2017  8.557048  5.789732e-18\n",
      "      GSBC  2018  6.445240  5.770873e-11\n",
      "      GSBC  2019  7.135222  4.831567e-13\n",
      "      GSBC  2020  4.105494  2.017263e-05\n",
      "      GSBC  2021 12.768703  1.226029e-37\n",
      "      GSBC  2022  9.803751  5.424021e-23\n",
      "      GSBC  2023  5.425459  2.890286e-08\n",
      "      HAFC  2017  7.465969  4.134446e-14\n",
      "      HAFC  2018  6.708250  9.848580e-12\n",
      "      HAFC  2019  5.900336  1.813810e-09\n",
      "      HAFC  2020  2.581933  4.912440e-03\n",
      "      HBAN  2016  5.670504  7.118903e-09\n",
      "      HBAN  2017  8.086564  3.068586e-16\n",
      "      HBAN  2018  6.928916  2.120384e-12\n",
      "      HBAN  2019  5.822351  2.901272e-09\n",
      "      HBAN  2020  3.428751  3.031832e-04\n",
      "      HBAN  2021  7.355007  9.545874e-14\n",
      "      HBAN  2022  5.112599  1.588786e-07\n",
      "      HBCP  2018 13.231199  2.897785e-40\n",
      "      HBCP  2019 13.907388  2.856405e-44\n",
      "      HBCP  2020  5.833586  2.712424e-09\n",
      "      HBCP  2021 11.830145  1.363344e-32\n",
      "      HBCP  2022  6.662763  1.343637e-11\n",
      "      HBCP  2023  4.733661  1.102530e-06\n",
      "      HBNC  2017  9.255664  1.064516e-20\n",
      "      HBNC  2018  5.879775  2.054119e-09\n",
      "      HBNC  2019  7.154775  4.190523e-13\n",
      "      HBNC  2020  2.334436  9.786458e-03\n",
      "      HBNC  2021  7.554834  2.096974e-14\n",
      "      HBNC  2022  4.562013  2.533281e-06\n",
      "      HBNC  2023  1.806032  3.545666e-02\n",
      "       HBT  2021  8.868898  3.693675e-19\n",
      "       HBT  2022  9.509794  9.552011e-22\n",
      "      HFWA  2017  9.721024  1.226506e-22\n",
      "      HFWA  2018 12.715797  2.415780e-37\n",
      "      HFWA  2019 18.133281  8.702782e-74\n",
      "      HFWA  2020  9.380624  3.279166e-21\n",
      "      HFWA  2021 11.581312  2.562789e-31\n",
      "      HFWA  2022  8.951032  1.760867e-19\n",
      "      HFWA  2023  3.226910  6.256742e-04\n",
      "      HIFS  2017  5.460767  2.370410e-08\n",
      "      HIFS  2018  6.173615  3.337302e-10\n",
      "      HIFS  2019  5.577456  1.220306e-08\n",
      "      HIFS  2020  4.314472  7.999247e-06\n",
      "      HIFS  2021  7.527112  2.593751e-14\n",
      "      HIFS  2022  3.817865  6.730587e-05\n",
      "      HIFS  2023  2.430917  7.530324e-03\n",
      "      HMST  2017  6.632921  1.645542e-11\n",
      "      HMST  2018  4.003997  3.114058e-05\n",
      "      HMST  2019  5.966145  1.214621e-09\n",
      "      HMST  2020  3.563445  1.830099e-04\n",
      "      HOMB  2016  6.333435  1.198813e-10\n",
      "      HOMB  2017  7.757665  4.325375e-15\n",
      "      HOMB  2018  6.906588  2.482237e-12\n",
      "      HOMB  2019  7.393455  7.153088e-14\n",
      "      HOMB  2020  3.814162  6.832289e-05\n",
      "      HOMB  2021  7.048713  9.029019e-13\n",
      "      HOMB  2022  7.273443  1.752193e-13\n",
      "      HOMB  2023  6.906727  2.479822e-12\n",
      "      HONE  2022  6.708739  9.815704e-12\n",
      "      HOPE  2017  7.041761  9.491285e-13\n",
      "      HOPE  2018  5.359701  4.168001e-08\n",
      "      HOPE  2019  6.927941  2.135046e-12\n",
      "      HOPE  2020  3.056338  1.120294e-03\n",
      "      HOPE  2021  6.759948  6.902046e-12\n",
      "      HOPE  2022  6.165664  3.509404e-10\n",
      "      HOPE  2023  2.287430  1.108537e-02\n",
      "      HTBK  2018 12.103130  5.082959e-34\n",
      "      HTBK  2019 16.235678  1.410558e-59\n",
      "      HTBK  2020  6.385857  8.522016e-11\n",
      "      HTBK  2021  8.797458  6.997521e-19\n",
      "      HTBK  2022  9.257120  1.050103e-20\n",
      "       HTH  2016  8.738367  1.182516e-18\n",
      "       HTH  2017  6.072978  6.277973e-10\n",
      "       HTH  2018 10.314133  3.041403e-25\n",
      "       HTH  2019  6.711674  9.620211e-12\n",
      "       HTH  2020  3.001119  1.344947e-03\n",
      "       HTH  2021  7.236988  2.293787e-13\n",
      "       HTH  2022  3.982662  3.407379e-05\n",
      "       HTH  2023  5.601327  1.063584e-08\n",
      "      HWBK  2018  8.945516  1.851086e-19\n",
      "      HWBK  2019  5.921963  1.590602e-09\n",
      "      HWBK  2020  3.639811  1.364193e-04\n",
      "      HWBK  2021  9.720411  1.233917e-22\n",
      "      HWBK  2022  8.322269  4.314758e-17\n",
      "       HWC  2016  5.554517  1.391899e-08\n",
      "       HWC  2017  9.266086  9.655119e-21\n",
      "       HWC  2018  6.864765  3.330040e-12\n",
      "       HWC  2019  4.741584  1.060267e-06\n",
      "       HWC  2020  2.063906  1.951332e-02\n",
      "       HWC  2021  7.379656  7.934973e-14\n",
      "       HWC  2022  4.422436  4.879722e-06\n",
      "       HWC  2023  3.824979  6.539164e-05\n",
      "      IBCP  2019  9.794946  5.918012e-23\n",
      "      IBCP  2020  3.337132  4.232382e-04\n",
      "      IBCP  2021  9.348360  4.450850e-21\n",
      "      IBCP  2022  5.915926  1.650068e-09\n",
      "      IBCP  2023  4.676074  1.462095e-06\n",
      "      IBOC  2016  5.424411  2.907300e-08\n",
      "      IBOC  2017  6.879427  3.004692e-12\n",
      "      IBOC  2018  6.867276  3.271958e-12\n",
      "      IBOC  2019  6.497872  4.073191e-11\n",
      "      IBOC  2020  3.699068  1.081963e-04\n",
      "      IBOC  2021  7.250154  2.081483e-13\n",
      "      IBOC  2022  6.938419  1.982565e-12\n",
      "      IBOC  2023  6.819351  4.572622e-12\n",
      "      INBK  2018  4.997341  2.906306e-07\n",
      "      INBK  2019  4.550163  2.680213e-06\n",
      "      INBK  2020  1.543793  6.131918e-02\n",
      "      INBK  2021  3.866888  5.511641e-05\n",
      "      INBK  2022  4.274433  9.581208e-06\n",
      "      INDB  2016 10.980198  2.379404e-28\n",
      "      INDB  2017 14.637393  8.108346e-49\n",
      "      INDB  2018 11.297065  6.783873e-30\n",
      "      INDB  2019  9.646650  2.539389e-22\n",
      "      INDB  2020  8.886664  3.148548e-19\n",
      "      INDB  2021 13.317441  9.164164e-41\n",
      "      INDB  2022 13.758607  2.260771e-43\n",
      "      INDB  2023  2.718803  3.275930e-03\n",
      "      ISTR  2018 10.340487  2.310907e-25\n",
      "      ISTR  2019 11.237881  1.328418e-29\n",
      "      ISTR  2020  2.519241  5.880412e-03\n",
      "      ISTR  2021  4.990930  3.004468e-07\n",
      "      ISTR  2022  5.768092  4.008692e-09\n",
      "      JMSB  2023  5.206530  9.620249e-08\n",
      "       JPM  2016  5.822700  2.895218e-09\n",
      "       JPM  2017  7.391207  7.275106e-14\n",
      "       JPM  2018  6.578123  2.382125e-11\n",
      "       JPM  2019  5.727972  5.081927e-09\n",
      "       JPM  2020  3.250665  5.756764e-04\n",
      "       JPM  2021  6.540225  3.071324e-11\n",
      "       JPM  2022  3.467590  2.625735e-04\n",
      "       JPM  2023  5.263672  7.060318e-08\n",
      "       KEY  2016  4.190058  1.394417e-05\n",
      "       KEY  2017  7.972944  7.746914e-16\n",
      "       KEY  2018  5.777516  3.790572e-09\n",
      "       KEY  2019  5.352460  4.338333e-08\n",
      "       KEY  2020  2.711416  3.349823e-03\n",
      "       KEY  2021  5.569774  1.275352e-08\n",
      "       KEY  2022  4.052411  2.534625e-05\n",
      "       KEY  2023  1.823698  3.409889e-02\n",
      "      LARK  2018 13.685267  6.217470e-43\n",
      "      LARK  2019 10.770813  2.364042e-27\n",
      "      LARK  2020  6.084703  5.835370e-10\n",
      "      LARK  2021 13.071811  2.385804e-39\n",
      "      LARK  2022 14.610043  1.211824e-48\n",
      "      LARK  2023  4.390396  5.657213e-06\n",
      "      LCNB  2018 11.425294  1.562988e-30\n",
      "      LCNB  2019 13.184771  5.368968e-40\n",
      "      LCNB  2020  5.820008  2.942248e-09\n",
      "      LCNB  2021 17.108316  6.433329e-66\n",
      "      LCNB  2022  8.208528  1.119578e-16\n",
      "      LKFN  2017 10.814051  1.476668e-27\n",
      "      LKFN  2018  9.516658  8.941922e-22\n",
      "      LKFN  2019 11.668250  9.259728e-32\n",
      "      LKFN  2020  7.386444  7.540355e-14\n",
      "      LKFN  2021 13.080339  2.132659e-39\n",
      "      LKFN  2022  7.731816  5.301159e-15\n",
      "      LKFN  2023  9.011442  1.016825e-19\n",
      "       LOB  2017 14.259281  1.962386e-46\n",
      "       LOB  2018 15.011736  3.075819e-51\n",
      "       LOB  2019 29.886509 1.473281e-196\n",
      "       LOB  2020  2.152748  1.566923e-02\n",
      "      MBCN  2018 12.851369  4.225054e-38\n",
      "      MBCN  2019 11.412107  1.819042e-30\n",
      "      MBCN  2020  5.420676  2.968700e-08\n",
      "      MBCN  2021 17.971244  1.636468e-72\n",
      "      MBCN  2022 12.965106  9.648152e-39\n",
      "      MBIN  2019  4.850988  6.142407e-07\n",
      "      MBIN  2022  4.125540  1.849329e-05\n",
      "      MBIN  2023  3.415762  3.180188e-04\n",
      "      MBWM  2017  7.267097  1.836469e-13\n",
      "      MBWM  2018  8.665299  2.251656e-18\n",
      "      MBWM  2019  7.036764  9.837790e-13\n",
      "      MBWM  2020  2.540275  5.538270e-03\n",
      "      MBWM  2021  7.537351  2.398073e-14\n",
      "      MBWM  2022  4.292044  8.851797e-06\n",
      "      MBWM  2023  3.115491  9.181963e-04\n",
      "       MCB  2019  5.235067  8.246252e-08\n",
      "       MCB  2020  3.775742  7.976600e-05\n",
      "       MCB  2021  7.488617  3.480169e-14\n",
      "       MCB  2022  7.676895  8.149533e-15\n",
      "       MCB  2023  1.412354  7.892285e-02\n",
      "      MCBS  2020  4.700594  1.297027e-06\n",
      "      MCBS  2021  8.250590  7.880708e-17\n",
      "      MCBS  2022  6.806690  4.993485e-12\n",
      "      MCBS  2023  4.253450  1.052508e-05\n",
      "      MFIN  2018  2.360538  9.124228e-03\n",
      "      MFIN  2019  1.982065  2.373598e-02\n",
      "      MFIN  2020 -0.111292  5.443075e-01\n",
      "      MFIN  2021  2.976809  1.456326e-03\n",
      "      MFIN  2022  3.381861  3.599830e-04\n",
      "      MFIN  2023  2.004450  2.251092e-02\n",
      "      MNSB  2020  6.635942  1.612184e-11\n",
      "      MNSB  2021 13.579627  2.644772e-42\n",
      "      MNSB  2022  5.069181  1.997657e-07\n",
      "      MOFG  2017 12.643246  6.095767e-37\n",
      "      MOFG  2018  7.151681  4.286094e-13\n",
      "      MOFG  2019  6.458792  5.277099e-11\n",
      "      MOFG  2020  3.280333  5.184240e-04\n",
      "      MOFG  2021  7.344885  1.029679e-13\n",
      "      MOFG  2022  3.878667  5.251530e-05\n",
      "       MPB  2018  9.129762  3.432518e-20\n",
      "       MPB  2019 18.154204  5.947005e-74\n",
      "       MPB  2020  5.069287  1.996546e-07\n",
      "       MPB  2021  9.285134  8.075173e-21\n",
      "       MPB  2022  6.680186  1.193196e-11\n",
      "       MPB  2023  4.062242  2.430178e-05\n",
      "      MSBI  2017 11.726233  4.676465e-32\n",
      "      MSBI  2018  5.181242  1.102066e-07\n",
      "      MSBI  2019  6.098557  5.351497e-10\n",
      "      MSBI  2020  2.679022  3.691882e-03\n",
      "      MSBI  2021  3.311752  4.635693e-04\n",
      "      MSBI  2022  4.574262  2.389505e-06\n",
      "      MSBI  2023  3.377045  3.663451e-04\n",
      "       MTB  2016  7.451504  4.614111e-14\n",
      "       MTB  2017 10.845682  1.045355e-27\n",
      "       MTB  2018  8.782617  7.985697e-19\n",
      "       MTB  2019  8.130543  2.136859e-16\n",
      "       MTB  2020  4.663762  1.552400e-06\n",
      "       MTB  2021  9.667129  2.079404e-22\n",
      "       MTB  2022  6.595817  2.114607e-11\n",
      "      MVBF  2018  7.992608  6.605697e-16\n",
      "      MVBF  2019  6.086483  5.770905e-10\n",
      "      MVBF  2020  4.278380  9.412929e-06\n",
      "      MVBF  2021  4.354058  6.682022e-06\n",
      "      MYFW  2020  2.941411  1.633606e-03\n",
      "      MYFW  2021  4.887173  5.114719e-07\n",
      "      MYFW  2022  5.171187  1.163061e-07\n",
      "      MYFW  2023  2.368109  8.939636e-03\n",
      "      NBHC  2017 10.244009  6.295428e-25\n",
      "      NBHC  2018  6.388140  8.395772e-11\n",
      "      NBHC  2019  7.567978  1.895386e-14\n",
      "      NBHC  2020 11.710215  5.649611e-32\n",
      "      NBHC  2021 14.455770  1.152685e-47\n",
      "      NBHC  2022  5.534686  1.558934e-08\n",
      "      NBHC  2023  5.384423  3.633869e-08\n",
      "      NBTB  2016 10.964398  2.833832e-28\n",
      "      NBTB  2017  7.258336  1.959404e-13\n",
      "      NBTB  2018  8.121769  2.297179e-16\n",
      "      NBTB  2019  8.290288  5.648743e-17\n",
      "      NBTB  2020  8.601834  3.922595e-18\n",
      "      NBTB  2021 10.887598  6.603859e-28\n",
      "      NBTB  2022  5.503290  1.863838e-08\n",
      "      NBTB  2023  4.979558  3.186486e-07\n",
      "      NFBK  2016  8.951365  1.755565e-19\n",
      "      NFBK  2017  8.466397  1.265507e-17\n",
      "      NFBK  2018  6.737168  8.075197e-12\n",
      "      NFBK  2019  9.620341  3.280651e-22\n",
      "       NIC  2017 18.479847  1.500163e-76\n",
      "       NIC  2018 30.796175 1.474223e-208\n",
      "       NIC  2019 23.741544 6.717703e-125\n",
      "       NIC  2020 10.276871  4.479472e-25\n",
      "       NIC  2021  7.114306  5.623866e-13\n",
      "       NIC  2022  6.234900  2.260330e-10\n",
      "      NKSH  2019       NaN           NaN\n",
      "      NKSH  2020       NaN           NaN\n",
      "      NKSH  2021       NaN           NaN\n",
      "      NKSH  2022       NaN           NaN\n",
      "      NRIM  2018  7.619722  1.271113e-14\n",
      "      NRIM  2019 10.458775  6.678564e-26\n",
      "      NRIM  2020  5.476152  2.173372e-08\n",
      "      NRIM  2021  9.973639  9.940397e-24\n",
      "      NRIM  2022 10.729007  3.719549e-27\n",
      "      NRIM  2023  5.418165  3.010684e-08\n",
      "      NWBI  2016 15.448836  3.840889e-54\n",
      "      NWBI  2017 13.564582  3.247459e-42\n",
      "      NWBI  2018 12.968244  9.261293e-39\n",
      "      NWBI  2019 13.152366  8.246563e-40\n",
      "      NWBI  2020  5.539228  1.519037e-08\n",
      "      NWBI  2021 12.853312  4.120244e-38\n",
      "      NWBI  2022  7.065622  7.994895e-13\n",
      "      NWFL  2018  7.887328  1.543626e-15\n",
      "      NWFL  2019  8.059896  3.817966e-16\n",
      "      NWFL  2020  5.626605  9.189547e-09\n",
      "      NWFL  2021 18.567077  2.967360e-77\n",
      "      NWFL  2022  7.867106  1.814690e-15\n",
      "      NWFL  2023  3.320206  4.497556e-04\n",
      "       OBK  2019 10.295187  3.703758e-25\n",
      "       OBK  2020  2.616097  4.447060e-03\n",
      "      OCFC  2017 11.556859  3.407819e-31\n",
      "      OCFC  2018  8.259374  7.321902e-17\n",
      "      OCFC  2019  6.851188  3.661971e-12\n",
      "      OCFC  2020  4.263721  1.005251e-05\n",
      "      OCFC  2021  6.486351  4.397011e-11\n",
      "      OCFC  2022  4.058289  2.471677e-05\n",
      "      OCFC  2023  2.418000  7.803037e-03\n",
      "       ONB  2016  7.259212  1.946760e-13\n",
      "       ONB  2017  8.349545  3.426333e-17\n",
      "       ONB  2018  6.991628  1.358573e-12\n",
      "       ONB  2019  9.047555  7.310296e-20\n",
      "       ONB  2020  5.055663  2.144486e-07\n",
      "       ONB  2021  7.877551  1.669300e-15\n",
      "       ONB  2022  3.957305  3.790009e-05\n",
      "       ONB  2023  3.137755  8.512364e-04\n",
      "      OPBK  2021       NaN           NaN\n",
      "      OPBK  2022 32.593259 2.555104e-233\n",
      "      OPOF  2018  4.624830  1.874531e-06\n",
      "      OPOF  2019  6.919060  2.273254e-12\n",
      "      OPOF  2020  3.356370  3.948637e-04\n",
      "      OPOF  2021  7.007727  1.211101e-12\n",
      "      OPOF  2022  3.457715  2.723890e-04\n",
      "      OPOF  2023  2.417618  7.811234e-03\n",
      "      ORRF  2018  7.010274  1.189256e-12\n",
      "      ORRF  2019  7.795953  3.196206e-15\n",
      "      ORRF  2020  4.177232  1.475393e-05\n",
      "      ORRF  2021  9.091741  4.873271e-20\n",
      "      ORRF  2022  6.414051  7.085133e-11\n",
      "      ORRF  2023  3.609453  1.534218e-04\n",
      "      OSBC  2017  8.630812  3.045910e-18\n",
      "      OSBC  2018  8.020662  5.258845e-16\n",
      "      OSBC  2019  7.690373  7.335339e-15\n",
      "      OSBC  2020  2.935645  1.664277e-03\n",
      "      OSBC  2021  5.382741  3.667998e-08\n",
      "      OSBC  2022  5.078758  1.899556e-07\n",
      "      OSBC  2023  3.764285  8.351310e-05\n",
      "      OVBC  2018  6.386591  8.481231e-11\n",
      "      OVBC  2019  9.108999  4.157286e-20\n",
      "      OVBC  2020  4.800931  7.896468e-07\n",
      "      OVBC  2021 11.383960  2.513211e-30\n",
      "      OVBC  2022 18.042658  4.505207e-73\n",
      "      OVBC  2023 13.156445  7.813324e-40\n",
      "      OVLY  2018       NaN           NaN\n",
      "      OVLY  2019       NaN           NaN\n",
      "      OVLY  2020       NaN           NaN\n",
      "      OVLY  2021       NaN           NaN\n",
      "      OVLY  2022       NaN           NaN\n",
      "       OZK  2019  6.638766  1.581604e-11\n",
      "       OZK  2020  2.879457  1.991805e-03\n",
      "       OZK  2021 15.595582  3.900465e-55\n",
      "       OZK  2022  7.094720  6.480691e-13\n",
      "       OZK  2023  4.333138  7.349950e-06\n",
      "        PB  2016  7.508185  2.997648e-14\n",
      "        PB  2017 12.948658  1.195493e-38\n",
      "        PB  2018 10.800738  1.707234e-27\n",
      "        PB  2019  8.756979  1.002763e-18\n",
      "        PB  2020  6.249884  2.053786e-10\n",
      "        PB  2021 18.535541  5.335564e-77\n",
      "        PB  2022  7.734989  5.170594e-15\n",
      "       PCB  2019 25.254308 5.078187e-141\n",
      "       PCB  2020  3.582988  1.698431e-04\n",
      "       PCB  2021 15.941377  1.635327e-57\n",
      "       PCB  2022 19.535012  2.766660e-85\n",
      "       PCB  2023  6.859186  3.462699e-12\n",
      "      PDLB  2019 18.147485  6.720790e-74\n",
      "      PDLB  2020  3.078015  1.041921e-03\n",
      "      PDLB  2021  5.371364  3.907167e-08\n",
      "      PDLB  2022  8.216173  1.050505e-16\n",
      "      PDLB  2023  3.376670  3.668448e-04\n",
      "      PEBK  2018  6.540987  3.055708e-11\n",
      "      PEBK  2019  9.588824  4.454750e-22\n",
      "      PEBK  2020  2.864349  2.089339e-03\n",
      "      PEBK  2021  9.847602  3.509934e-23\n",
      "      PEBK  2022  8.561756  5.558062e-18\n",
      "      PEBK  2023  2.534434  5.631459e-03\n",
      "      PEBO  2017  9.932618  1.501339e-23\n",
      "      PEBO  2018 10.065530  3.923186e-24\n",
      "      PEBO  2019 11.392068  2.289953e-30\n",
      "      PEBO  2020  4.974279  3.274550e-07\n",
      "      PEBO  2021 12.586501  1.252669e-36\n",
      "      PEBO  2022  5.566283  1.301151e-08\n",
      "      PFBC  2017 11.713509  5.434307e-32\n",
      "      PFBC  2018 11.298497  6.674118e-30\n",
      "      PFBC  2019  7.577634  1.759570e-14\n",
      "      PFBC  2020  3.229615  6.197860e-04\n",
      "      PFBC  2021  8.941387  1.921580e-19\n",
      "      PFBC  2022  9.232714  1.319304e-20\n",
      "      PFBC  2023  4.869300  5.599720e-07\n",
      "      PFIS  2018 10.351340  2.063335e-25\n",
      "      PFIS  2019 10.832734  1.204268e-27\n",
      "      PFIS  2020  7.313709  1.299342e-13\n",
      "      PFIS  2021 13.648422  1.031494e-42\n",
      "      PFIS  2022  6.233571  2.279600e-10\n",
      "      PFIS  2023  6.971104  1.572314e-12\n",
      "       PFS  2016  7.141134  4.628198e-13\n",
      "       PFS  2017  8.885578  3.179452e-19\n",
      "       PFS  2018 10.545061  2.676911e-26\n",
      "       PFS  2019  9.484226  1.220939e-21\n",
      "       PFS  2020  2.854811  2.153123e-03\n",
      "       PFS  2021  8.066865  3.606303e-16\n",
      "       PFS  2022  5.019240  2.593820e-07\n",
      "       PGC  2017 11.974269  2.423466e-33\n",
      "       PGC  2018  7.675970  8.208593e-15\n",
      "       PGC  2019  7.617138  1.296810e-14\n",
      "       PGC  2020  2.346498  9.475384e-03\n",
      "       PGC  2021  9.411598  2.443246e-21\n",
      "       PGC  2022  4.318803  7.843901e-06\n",
      "       PGC  2023  3.633839  1.396177e-04\n",
      "      PKBK  2018  7.057853  8.454743e-13\n",
      "      PKBK  2019  5.130528  1.444653e-07\n",
      "      PKBK  2020  3.000557  1.347433e-03\n",
      "      PKBK  2021  8.343125  3.617646e-17\n",
      "      PKBK  2022  8.418219  1.911252e-17\n",
      "      PKBK  2023  4.437469  4.551150e-06\n",
      "      PLBC  2019  7.261440  1.914948e-13\n",
      "      PLBC  2020  5.295513  5.934146e-08\n",
      "      PLBC  2021  7.109510  5.822786e-13\n",
      "      PLBC  2022  7.354837  9.557987e-14\n",
      "      PLBC  2023  4.115459  1.932049e-05\n",
      "       PNC  2016  5.672108  7.052556e-09\n",
      "       PNC  2017 10.358926  1.906083e-25\n",
      "       PNC  2018  6.559294  2.703150e-11\n",
      "       PNC  2020  3.317237  4.545630e-04\n",
      "       PNC  2021  7.928265  1.111140e-15\n",
      "       PNC  2022  6.050077  7.238840e-10\n",
      "      PNFP  2016  7.308194  1.353785e-13\n",
      "      PNFP  2017 11.595612  2.168782e-31\n",
      "      PNFP  2018  5.268652  6.871457e-08\n",
      "      PNFP  2019  5.819822  2.945513e-09\n",
      "      PNFP  2020  2.962159  1.527448e-03\n",
      "      PNFP  2021  9.464919  1.468938e-21\n",
      "      PNFP  2022  7.382250  7.781831e-14\n",
      "      PPBI  2017 12.573781  1.471526e-36\n",
      "      PPBI  2018  5.862112  2.285083e-09\n",
      "      PPBI  2019  8.557982  5.743014e-18\n",
      "      PPBI  2020  4.138339  1.749147e-05\n",
      "      PPBI  2021  6.630937  1.667819e-11\n",
      "      PPBI  2022  4.592965  2.184959e-06\n",
      "       PRK  2016  8.276475  6.343765e-17\n",
      "       PRK  2017  8.969513  1.489136e-19\n",
      "       PRK  2018  7.562097  1.983117e-14\n",
      "       PRK  2019 11.695297  6.735728e-32\n",
      "       PRK  2020  4.981373  3.156733e-07\n",
      "       PRK  2021 10.675396  6.634551e-27\n",
      "       PRK  2022  8.051570  4.086919e-16\n",
      "       PRK  2023  5.965831  1.216961e-09\n",
      "      PVBC  2021 13.650404  1.003814e-42\n",
      "      PVBC  2022  2.879935  1.988786e-03\n",
      "      PWOD  2018  7.249381  2.093408e-13\n",
      "      PWOD  2019  4.563859  2.511091e-06\n",
      "      PWOD  2020  3.713199  1.023280e-04\n",
      "      PWOD  2021  9.319537  5.842462e-21\n",
      "      PWOD  2022  9.044525  7.515885e-20\n",
      "      PWOD  2023  3.905055  4.710204e-05\n",
      "      QCRH  2017  9.200201  1.786396e-20\n",
      "      QCRH  2018  7.048561  9.038846e-13\n",
      "      QCRH  2019  8.271834  6.595674e-17\n",
      "      QCRH  2020  4.230580  1.165450e-05\n",
      "      QCRH  2021 13.113884  1.370951e-39\n",
      "      QCRH  2022  7.656239  9.572849e-15\n",
      "       RBB  2018  3.976064  3.503265e-05\n",
      "       RBB  2019  6.867532  3.266099e-12\n",
      "       RBB  2020  3.524459  2.121742e-04\n",
      "       RBB  2021  6.549371  2.888998e-11\n",
      "       RBB  2022  5.882649  2.018760e-09\n",
      "       RBB  2023  1.995061  2.301812e-02\n",
      "     RBCAA  2017  6.675609  1.231040e-11\n",
      "     RBCAA  2018  6.279272  1.700812e-10\n",
      "     RBCAA  2019  6.613732  1.873754e-11\n",
      "     RBCAA  2020  4.686327  1.390756e-06\n",
      "     RBCAA  2021  9.739071  1.027115e-22\n",
      "     RBCAA  2022  5.285393  6.271768e-08\n",
      "     RBCAA  2023  6.959992  1.701464e-12\n",
      "        RF  2016  3.972090  3.562245e-05\n",
      "        RF  2017  9.543074  6.933033e-22\n",
      "        RF  2018  5.944963  1.382599e-09\n",
      "        RF  2019  5.208006  9.544045e-08\n",
      "        RF  2020  3.695206  1.098541e-04\n",
      "        RF  2021  7.589847  1.601414e-14\n",
      "        RF  2022  8.040575  4.470898e-16\n",
      "      RMBI  2020  3.546797  1.949723e-04\n",
      "      RMBI  2021 17.994591  1.074008e-72\n",
      "      RMBI  2022  8.255377  7.571173e-17\n",
      "      RMBI  2023  3.252697  5.715776e-04\n",
      "      RNST  2016 10.024590  5.942620e-24\n",
      "      RNST  2017 13.882682  4.033388e-44\n",
      "      RNST  2018  6.817593  4.628916e-12\n",
      "      RNST  2019  8.488352  1.047943e-17\n",
      "      RNST  2020  4.354822  6.658750e-06\n",
      "      RNST  2021 10.297413  3.619084e-25\n",
      "      RNST  2022  4.356507  6.607731e-06\n",
      "      RRBI  2020       NaN           NaN\n",
      "      RRBI  2021       NaN           NaN\n",
      "      RRBI  2022       NaN           NaN\n",
      "      RRBI  2023       NaN           NaN\n",
      "      SBCF  2017 13.018499  4.801998e-39\n",
      "      SBCF  2018  6.675071  1.235559e-11\n",
      "      SBCF  2019  6.195306  2.908587e-10\n",
      "      SBCF  2020  4.999538  2.873396e-07\n",
      "      SBCF  2021  9.290462  7.680968e-21\n",
      "      SBCF  2022  8.791506  7.378420e-19\n",
      "      SBFG  2018  9.251778  1.103941e-20\n",
      "      SBFG  2019 11.560626  3.261566e-31\n",
      "      SBFG  2020  2.453116  7.081239e-03\n",
      "      SBFG  2021 11.277693  8.456115e-30\n",
      "      SBFG  2022 13.561581  3.383070e-42\n",
      "      SBFG  2023  4.669278  1.511298e-06\n",
      "      SBNY  2016  6.041005  7.657843e-10\n",
      "      SBNY  2017 10.784797  2.030697e-27\n",
      "      SBNY  2018  4.793125  8.210150e-07\n",
      "      SBNY  2019  6.352319  1.060463e-10\n",
      "      SBNY  2020  1.874370  3.043971e-02\n",
      "      SBSI  2017  6.646204  1.503737e-11\n",
      "      SBSI  2018  8.269696  6.715073e-17\n",
      "      SBSI  2019  8.111255  2.504985e-16\n",
      "      SBSI  2020  5.411333  3.127859e-08\n",
      "      SBSI  2021  7.524736  2.641355e-14\n",
      "      SBSI  2022 10.092695  2.975629e-24\n",
      "      SBSI  2023  3.197676  6.926996e-04\n",
      "      SFBS  2016  4.734317  1.098972e-06\n",
      "      SFBS  2017  8.431395  1.707844e-17\n",
      "      SFBS  2018  7.983655  7.103124e-16\n",
      "      SFBS  2019  8.907712  2.604836e-19\n",
      "      SFBS  2020  5.219780  8.956772e-08\n",
      "      SFBS  2021  6.221163  2.467413e-10\n",
      "      SFBS  2022  6.456097  5.371903e-11\n",
      "      SFNC  2016  9.058763  6.596937e-20\n",
      "      SFNC  2017  9.636955  2.790948e-22\n",
      "      SFNC  2018  5.427559  2.856504e-08\n",
      "      SFNC  2019  6.342125  1.133085e-10\n",
      "      SFNC  2020  4.614961  1.965847e-06\n",
      "      SFNC  2021  6.425375  6.577231e-11\n",
      "      SFNC  2022  5.229941  8.478207e-08\n",
      "      SFNC  2023  3.163220  7.801717e-04\n",
      "      SFST  2018  9.029130  8.652130e-20\n",
      "      SFST  2019  7.601914  1.458909e-14\n",
      "      SFST  2020  4.797351  8.038869e-07\n",
      "      SFST  2021 17.103413  6.998095e-66\n",
      "      SFST  2022  6.745021  7.650248e-12\n",
      "      SFST  2023  2.481047  6.549852e-03\n",
      "      SHBI  2018 10.952893  3.217931e-28\n",
      "      SHBI  2019 22.174456 3.030192e-109\n",
      "      SHBI  2020  5.603613  1.049646e-08\n",
      "      SHBI  2021 12.929368  1.536675e-38\n",
      "      SHBI  2022  7.310941  1.326388e-13\n",
      "      SHBI  2023  5.870957  2.166427e-09\n",
      "      SMBK  2018  9.012850  1.003849e-19\n",
      "      SMBK  2019 10.757262  2.738670e-27\n",
      "      SMBK  2020  4.489411  3.571021e-06\n",
      "      SMBK  2021 16.919397  1.618632e-64\n",
      "      SMBK  2022  7.286468  1.590936e-13\n",
      "      SMBK  2023  6.988842  1.385826e-12\n",
      "       SNV  2016  5.749908  4.464601e-09\n",
      "       SNV  2017 12.075827  7.086570e-34\n",
      "       SNV  2018  6.040213  7.695557e-10\n",
      "       SNV  2019  4.330179  7.449424e-06\n",
      "       SNV  2020  2.676199  3.723123e-03\n",
      "       SNV  2021  8.681382  1.954951e-18\n",
      "       SNV  2022  4.285285  9.125255e-06\n",
      "       SNV  2023  3.347417  4.078416e-04\n",
      "      SPFI  2020  2.814016  2.446338e-03\n",
      "      SPFI  2021  8.990717  1.228116e-19\n",
      "      SPFI  2022  7.679072  8.012254e-15\n",
      "      SPFI  2023  5.923877  1.572191e-09\n",
      "      SRCE  2017 12.592635  1.159018e-36\n",
      "      SRCE  2018  7.529236  2.551907e-14\n",
      "      SRCE  2019 10.791793  1.881861e-27\n",
      "      SRCE  2020  5.060034  2.095913e-07\n",
      "      SRCE  2021 10.372823  1.648208e-25\n",
      "      SRCE  2022  6.043833  7.524763e-10\n",
      "       SSB  2016 14.525536  4.174306e-48\n",
      "       SSB  2017 21.239729 2.051264e-100\n",
      "       SSB  2018 10.177950  1.243735e-24\n",
      "       SSB  2019  8.966697  1.527703e-19\n",
      "       SSB  2020  4.716685  1.198593e-06\n",
      "       SSB  2021  8.531539  7.220694e-18\n",
      "       SSB  2022  8.252856  7.732698e-17\n",
      "       SSB  2023  7.203674  2.930567e-13\n",
      "      STBA  2017  8.206413  1.139471e-16\n",
      "      STBA  2018  8.083720  3.141017e-16\n",
      "      STBA  2019 10.034409  5.380106e-24\n",
      "      STBA  2020  4.913886  4.464436e-07\n",
      "      STBA  2021  9.434248  1.969040e-21\n",
      "      STBA  2022  4.796421  8.076280e-07\n",
      "      STBA  2023  4.424826  4.826003e-06\n",
      "      STEL  2019 15.401495  7.996445e-54\n",
      "      STEL  2020  5.819433  2.952381e-09\n",
      "      STEL  2021 18.771531  6.455506e-79\n",
      "      STEL  2022  8.478032  1.145177e-17\n",
      "      SYBT  2017  8.532282  7.174415e-18\n",
      "      SYBT  2018 13.533511  4.958554e-42\n",
      "      SYBT  2019 15.498051  1.787874e-54\n",
      "      SYBT  2020  6.260363  1.920409e-10\n",
      "      SYBT  2021 14.615495  1.118609e-48\n",
      "      SYBT  2022  7.472475  3.935015e-14\n",
      "      TBBK  2017  5.819910  2.943960e-09\n",
      "      TBBK  2018  7.947817  9.491321e-16\n",
      "      TBBK  2019  6.562546  2.644831e-11\n",
      "      TBBK  2020  2.519968  5.868271e-03\n",
      "      TBBK  2021  7.313804  1.298415e-13\n",
      "      TBBK  2023  8.237140  8.818819e-17\n",
      "      TCBI  2016  4.075642  2.294377e-05\n",
      "      TCBI  2017  5.695812  6.139292e-09\n",
      "      TCBI  2018  4.339430  7.142647e-06\n",
      "      TCBI  2019  3.986844  3.347894e-05\n",
      "      TCBI  2020  1.165038  1.220018e-01\n",
      "      TCBI  2021  3.665013  1.236632e-04\n",
      "      TCBI  2022  5.410287  3.146189e-08\n",
      "      TCBI  2023  3.101688  9.621021e-04\n",
      "      TCBK  2017 11.336074  4.347946e-30\n",
      "      TCBK  2018 16.222188  1.757230e-59\n",
      "      TCBK  2019 20.631603  7.141758e-95\n",
      "      TCBK  2020  8.007205  5.867262e-16\n",
      "      TCBK  2021  9.981213  9.210018e-24\n",
      "      TCBK  2022  4.815680  7.334964e-07\n",
      "       TFC  2016 10.448950  7.407837e-26\n",
      "       TFC  2017 10.383519  1.473534e-25\n",
      "       TFC  2018  8.913418  2.474142e-19\n",
      "       TFC  2020  2.988334  1.402513e-03\n",
      "       TFC  2021  6.068303  6.463426e-10\n",
      "       TFC  2022  5.720443  5.312332e-09\n",
      "       TFC  2023  3.156503  7.983651e-04\n",
      "      TFIN  2017  5.038656  2.344061e-07\n",
      "      TFIN  2018  4.689361  1.370301e-06\n",
      "      TFIN  2019  5.587080  1.154598e-08\n",
      "      TFIN  2020  3.171746  7.576286e-04\n",
      "      TFIN  2021  5.158249  1.246350e-07\n",
      "      TFIN  2022  4.315985  7.944627e-06\n",
      "      TFIN  2023  5.614322  9.866700e-09\n",
      "      THFF  2017 14.056842  3.496915e-45\n",
      "      THFF  2018  9.214933  1.557368e-20\n",
      "      THFF  2019 10.467275  6.105357e-26\n",
      "      THFF  2020  6.780392  5.992521e-12\n",
      "      THFF  2021 11.978501  2.302892e-33\n",
      "      THFF  2022 15.312769  3.141568e-53\n",
      "      THFF  2023  5.239048  8.070373e-08\n",
      "       TMP  2017  5.906553  1.746704e-09\n",
      "       TMP  2018  5.541230  1.501774e-08\n",
      "       TMP  2019  9.628030  3.044265e-22\n",
      "       TMP  2020  6.245218  2.116047e-10\n",
      "       TMP  2021 10.539579  2.837627e-26\n",
      "      TOWN  2016  5.701167  5.949496e-09\n",
      "      TOWN  2017  9.456552  1.591326e-21\n",
      "      TOWN  2018  6.829653  4.256022e-12\n",
      "      TOWN  2019  9.135117  3.266794e-20\n",
      "      TOWN  2020  3.698288  1.085294e-04\n",
      "      TOWN  2021  7.853745  2.018972e-15\n",
      "      TRMK  2016  6.445017  5.779372e-11\n",
      "      TRMK  2017  6.813634  4.758194e-12\n",
      "      TRMK  2018 12.683242  3.661918e-37\n",
      "      TRMK  2019  8.740224  1.163243e-18\n",
      "      TRMK  2020  4.972494  3.304848e-07\n",
      "      TRMK  2021  9.223082  1.443409e-20\n",
      "      TRMK  2022  5.215181  9.181908e-08\n",
      "      TRST  2017  9.281545  8.351941e-21\n",
      "      TRST  2018  9.313088  6.208434e-21\n",
      "      TRST  2019 10.436849  8.415196e-26\n",
      "      TRST  2020  4.407895  5.219014e-06\n",
      "      TRST  2021  7.887575  1.540570e-15\n",
      "      TRST  2022  8.648990  2.597867e-18\n",
      "      TRST  2023  7.804971  2.975754e-15\n",
      "      UBFO  2018 18.833107  2.021621e-79\n",
      "      UBFO  2019 17.945149  2.618520e-72\n",
      "      UBFO  2020  7.228437  2.442927e-13\n",
      "      UBSI  2016  8.251988  7.789047e-17\n",
      "      UBSI  2017  8.221591  1.004107e-16\n",
      "      UBSI  2018  6.855977  3.541340e-12\n",
      "      UBSI  2019  9.087763  5.054894e-20\n",
      "      UBSI  2020  3.053707  1.130164e-03\n",
      "      UBSI  2021  8.757555  9.976512e-19\n",
      "      UBSI  2022  5.614461  9.858807e-09\n",
      "      UBSI  2023  4.705383  1.266951e-06\n",
      "       UCB  2016  6.274472  1.754110e-10\n",
      "       UCB  2017 11.596398  2.148953e-31\n",
      "       UCB  2018 10.127806  2.079377e-24\n",
      "       UCB  2019 12.138031  3.320243e-34\n",
      "       UCB  2020  4.778123  8.846971e-07\n",
      "       UCB  2021 12.048614  9.861915e-34\n",
      "       UCB  2022  5.437159  2.706842e-08\n",
      "       UCB  2023  6.103703  5.181932e-10\n",
      "      UMBF  2016  7.029224  1.038423e-12\n",
      "      UMBF  2017 10.571565  2.018508e-26\n",
      "      UMBF  2018  9.083886  5.238288e-20\n",
      "      UMBF  2019  7.459397  4.345970e-14\n",
      "      UMBF  2020  3.729056  9.609904e-05\n",
      "      UMBF  2021  6.917425  2.299636e-12\n",
      "      UMBF  2022 10.171410  1.330154e-24\n",
      "      UMBF  2023  2.389951  8.425300e-03\n",
      "       UNB  2018 15.644363  1.814910e-55\n",
      "       UNB  2019  4.811375  7.494778e-07\n",
      "       UNB  2020  5.524493  1.652195e-08\n",
      "       UNB  2021 10.705643  4.788182e-27\n",
      "       UNB  2022  8.085258  3.101639e-16\n",
      "       UNB  2023  5.515799  1.735999e-08\n",
      "      UNTY  2018  7.349494  9.947902e-14\n",
      "      UNTY  2019  3.724359  9.790598e-05\n",
      "       USB  2016  9.205443  1.701324e-20\n",
      "       USB  2017 13.796423  1.339073e-43\n",
      "       USB  2018  7.029783  1.034277e-12\n",
      "       USB  2019  6.959794  1.703855e-12\n",
      "       USB  2020  3.957216  3.791414e-05\n",
      "       USB  2021  6.515402  3.624751e-11\n",
      "       USB  2022  5.226316  8.646021e-08\n",
      "       USB  2023  2.712962  3.334233e-03\n",
      "      UVSP  2017  5.795227  3.411440e-09\n",
      "      UVSP  2018  7.411534  6.242336e-14\n",
      "      UVSP  2019  7.576485  1.775214e-14\n",
      "      UVSP  2020  3.394363  3.439421e-04\n",
      "      UVSP  2021  8.316101  4.545212e-17\n",
      "      UVSP  2022  5.755451  4.320544e-09\n",
      "      VABK  2023  4.727950  1.133990e-06\n",
      "      VBTX  2017 25.834720 1.806660e-147\n",
      "      VBTX  2018 11.572186  2.850552e-31\n",
      "       VLY  2016  9.976540  9.654121e-24\n",
      "       VLY  2017 10.153215  1.603120e-24\n",
      "       VLY  2018  5.824889  2.857532e-09\n",
      "       VLY  2019  7.338756  1.077945e-13\n",
      "       VLY  2020  3.528310  2.091107e-04\n",
      "       VLY  2021  6.999900  1.280728e-12\n",
      "       VLY  2022  5.647590  8.135632e-09\n",
      "       VLY  2023  2.529547  5.710502e-03\n",
      "      WABC  2016 12.245645  8.863132e-35\n",
      "      WABC  2017 14.267650  1.740555e-46\n",
      "      WABC  2018 16.346497  2.303569e-60\n",
      "      WABC  2019 28.649641 8.098135e-181\n",
      "      WABC  2020 14.149877  9.354265e-46\n",
      "      WABC  2021 16.212631  2.053029e-59\n",
      "      WABC  2022 12.380334  1.669750e-35\n",
      "       WAL  2017 13.242581  2.490371e-40\n",
      "       WAL  2018  9.599921  4.000280e-22\n",
      "       WAL  2019  8.208338  1.121353e-16\n",
      "       WAL  2020  3.885163  5.113060e-05\n",
      "       WAL  2021  5.071859  1.969737e-07\n",
      "       WAL  2022  4.576831  2.360357e-06\n",
      "      WASH  2017  6.543865  2.997447e-11\n",
      "      WASH  2018  6.472671  4.814285e-11\n",
      "      WASH  2019  6.829471  4.261417e-12\n",
      "      WASH  2020  4.145571  1.694841e-05\n",
      "      WASH  2021 11.083986  7.502064e-29\n",
      "      WASH  2022  5.137290  1.393641e-07\n",
      "      WASH  2023  2.269769  1.161080e-02\n",
      "       WBS  2016  5.581692  1.190952e-08\n",
      "       WBS  2017  8.218505  1.030278e-16\n",
      "       WBS  2018  7.210461  2.788130e-13\n",
      "       WBS  2019  5.005121  2.791348e-07\n",
      "       WBS  2020  2.988497  1.401768e-03\n",
      "       WBS  2021  7.329747  1.152941e-13\n",
      "       WBS  2022  3.832971  6.330257e-05\n",
      "       WBS  2023  3.298770  4.855475e-04\n",
      "       WFC  2016  4.677271  1.453592e-06\n",
      "       WFC  2017  6.829661  4.255779e-12\n",
      "       WFC  2018  4.805465  7.719614e-07\n",
      "       WFC  2019  7.174306  3.633756e-13\n",
      "       WFC  2020  2.272315  1.153374e-02\n",
      "       WFC  2021  4.747434  1.030069e-06\n",
      "       WFC  2022  3.656591  1.277960e-04\n",
      "      WNEB  2018  9.015455  9.802761e-20\n",
      "      WNEB  2019  8.403908  2.159311e-17\n",
      "      WNEB  2020  4.078174  2.269538e-05\n",
      "      WNEB  2021  7.626321  1.207740e-14\n",
      "      WNEB  2022  6.084346  5.848385e-10\n",
      "      WSBC  2016  7.466930  4.104369e-14\n",
      "      WSBC  2017 10.628549  1.097503e-26\n",
      "      WSBC  2018  6.064094  6.634978e-10\n",
      "      WSBC  2019  6.975253  1.526602e-12\n",
      "      WSBC  2020  4.192008  1.382479e-05\n",
      "      WSBC  2021  7.444688  4.858692e-14\n",
      "      WSBC  2022  5.399352  3.344096e-08\n",
      "      WSBC  2023  3.780315  7.831505e-05\n",
      "      WSBF  2021 15.270759  5.988502e-53\n",
      "      WSBF  2022  5.235447  8.229286e-08\n",
      "      WSFS  2016  5.430929  2.803073e-08\n",
      "      WSFS  2017 12.572364  1.498137e-36\n",
      "      WSFS  2018  7.844974  2.165217e-15\n",
      "      WSFS  2019  9.175454  2.248383e-20\n",
      "      WSFS  2020  4.350147  6.802309e-06\n",
      "      WSFS  2021  7.533241  2.474803e-14\n",
      "      WSFS  2022  6.363514  9.859453e-11\n",
      "      WSFS  2023  4.008475  3.055601e-05\n",
      "      WTBA  2017  9.001429  1.113992e-19\n",
      "      WTBA  2018 11.042456  1.192123e-28\n",
      "      WTBA  2019  9.098767  4.568142e-20\n",
      "      WTBA  2020  3.898114  4.847245e-05\n",
      "      WTBA  2021 11.527234  4.809230e-31\n",
      "      WTBA  2022  5.052467  2.180701e-07\n",
      "      WTBA  2023  3.488014  2.433114e-04\n",
      "      WTFC  2016  7.908355  1.304063e-15\n",
      "      WTFC  2017 11.694941  6.764027e-32\n",
      "      WTFC  2018  9.749143  9.301616e-23\n",
      "      WTFC  2019  6.232192  2.299763e-10\n",
      "      WTFC  2020  2.280272  1.129578e-02\n",
      "      WTFC  2021  6.105726  5.116727e-10\n",
      "      WTFC  2022  6.199642  2.829581e-10\n",
      "      WTFC  2023  3.769707  8.171972e-05\n",
      "      ZION  2019  5.636789  8.662513e-09\n",
      "      ZION  2020  3.011875  1.298197e-03\n",
      "      ZION  2021  8.211063  1.096198e-16\n",
      "      ZION  2022  5.476409  2.170220e-08\n"
     ]
    }
   ],
   "source": [
    "# Display the full DDm/PDm results table\n",
    "print(\"=== COMPLETE DDm/PDm RESULTS TABLE ===\")\n",
    "\n",
    "# Show all rows and columns for this display\n",
    "pd.set_option('display.max_rows', None)\n",
    "pd.set_option('display.max_columns', None)\n",
    "\n",
    "# Print the full selected table without the index\n",
    "if 'DD_m' in df.columns and 'PD_m' in df.columns:\n",
    "    print(df[['instrument','year','DD_m','PD_m']].to_string(index=False))\n",
    "else:\n",
    "    print(\"DD_m and PD_m columns not calculated yet. Run the previous cells first.\")\n",
    "\n",
    "# (Optional) Reset to default limits afterward\n",
    "pd.reset_option('display.max_rows')\n",
    "pd.reset_option('display.max_columns')"
   ]
  },
  {
   "cell_type": "markdown",
   "id": "172fc841",
   "metadata": {},
   "source": [
    "## Summary\n",
    "\n",
    "The notebook successfully implements the Merton model to calculate Distance to Default (DDm) and Probability of Default (PDm) for bank data:\n",
    "\n",
    "1. **Unit Fix Applied**: Corrected the critical unit mismatch between market cap (USD) and debt total (USD millions)\n",
    "2. **Realistic Results**: DDm values now range 0-50 instead of 0-190, PDm values are meaningful probabilities\n",
    "3. **High Success Rate**: >98% of cases converge successfully with the corrected implementation\n",
    "\n",
    "The corrected results are saved to `data/merged_inputs/dd_pd_market.csv` and ready for downstream modeling."
   ]
  },
  {
   "cell_type": "code",
   "execution_count": 12,
   "id": "1f970e8b",
   "metadata": {
    "execution": {
     "iopub.execute_input": "2025-10-02T09:25:34.806322Z",
     "iopub.status.busy": "2025-10-02T09:25:34.806017Z",
     "iopub.status.idle": "2025-10-02T09:25:34.828681Z",
     "shell.execute_reply": "2025-10-02T09:25:34.828003Z"
    }
   },
   "outputs": [
    {
     "name": "stdout",
     "output_type": "stream",
     "text": [
      "Corrected results saved with 1424 rows\n",
      "Contains DDm and PDm columns: True\n",
      "\n",
      "Final verification:\n",
      "- DDm zero count: 0\n",
      "- PDm zero count: 3\n",
      "- DDm max: 49.9\n",
      "- PDm range: 0.00e+00 to 5.44e-01\n"
     ]
    }
   ],
   "source": [
    "# Final verification - check the corrected output file\n",
    "corrected_output = pd.read_csv(output_fp)\n",
    "print(f\"Corrected results saved with {len(corrected_output)} rows\")\n",
    "print(f\"Contains DD_m and PD_m columns: {'DD_m' in corrected_output.columns and 'PD_m' in corrected_output.columns}\")\n",
    "\n",
    "if 'DD_m' in corrected_output.columns and 'PD_m' in corrected_output.columns:\n",
    "    print(f\"\\nFinal verification:\")\n",
    "    print(f\"- DD_m zero count: {(corrected_output['DD_m'] == 0.0).sum()}\")\n",
    "    print(f\"- PD_m zero count: {(corrected_output['PD_m'] == 0.0).sum()}\") \n",
    "    print(f\"- DD_m max: {corrected_output['DD_m'].max():.1f}\")\n",
    "    print(f\"- PD_m range: {corrected_output['PD_m'].min():.2e} to {corrected_output['PD_m'].max():.2e}\")\n",
    "\n"
   ]
  }
 ],
 "metadata": {
  "kernelspec": {
   "display_name": "Python 3",
   "language": "python",
   "name": "python3"
  },
  "language_info": {
   "codemirror_mode": {
    "name": "ipython",
    "version": 3
   },
   "file_extension": ".py",
   "mimetype": "text/x-python",
   "name": "python",
   "nbconvert_exporter": "python",
   "pygments_lexer": "ipython3",
   "version": "3.12.10"
  }
 },
 "nbformat": 4,
 "nbformat_minor": 5
}